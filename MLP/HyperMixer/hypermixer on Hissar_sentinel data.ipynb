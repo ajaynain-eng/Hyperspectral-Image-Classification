{
  "nbformat": 4,
  "nbformat_minor": 0,
  "metadata": {
    "colab": {
      "provenance": [],
      "include_colab_link": true
    },
    "kernelspec": {
      "name": "python3",
      "display_name": "Python 3"
    },
    "language_info": {
      "name": "python"
    },
    "accelerator": "GPU"
  },
  "cells": [
    {
      "cell_type": "markdown",
      "metadata": {
        "id": "view-in-github",
        "colab_type": "text"
      },
      "source": [
        "<a href=\"https://colab.research.google.com/github/ajaynain-eng/Hyperspectral-Image-Classification/blob/main/MLP/HyperMixer/hypermixer%20on%20Hissar_sentinel%20data.ipynb\" target=\"_parent\"><img src=\"https://colab.research.google.com/assets/colab-badge.svg\" alt=\"Open In Colab\"/></a>"
      ]
    },
    {
      "cell_type": "code",
      "execution_count": null,
      "metadata": {
        "colab": {
          "base_uri": "https://localhost:8080/"
        },
        "id": "3VeM9eODN6Ld",
        "outputId": "f5a02903-7060-4f61-c02c-15aac675c905"
      },
      "outputs": [
        {
          "output_type": "stream",
          "name": "stdout",
          "text": [
            "Mounted at /content/drive\n"
          ]
        }
      ],
      "source": [
        "from google.colab import drive\n",
        "drive.mount('/content/drive')"
      ]
    },
    {
      "cell_type": "code",
      "execution_count": null,
      "metadata": {
        "colab": {
          "base_uri": "https://localhost:8080/"
        },
        "id": "LnMeklNQOMTt",
        "outputId": "e65dcd73-523d-4320-e481-61c127244b2c"
      },
      "outputs": [
        {
          "output_type": "stream",
          "name": "stdout",
          "text": [
            "Number of patches per P_S:  9\n",
            "Size of each patch for MLP Mixture:  3\n"
          ]
        }
      ],
      "source": [
        "#@title  { display-mode: \"form\" }\n",
        "#@title  { display-mode: \"form\" }\n",
        "#@title  { vertical-output: true, display-mode: \"form\" }\n",
        "#@markdown Select the best\n",
        "\n",
        "def str_to_bool(x):\n",
        "    return True if x == \"True\" else False\n",
        "\n",
        "use_pearson_corr = \"False\"  #@param [\"True\", \"False\"]\n",
        "add_pos_embedding = \"False\"  #@param [\"True\", \"False\"]\n",
        "patch_method = \"extract\"    #@param [\"extract\", \"conv\"]\n",
        "\n",
        "H, W, B = 722, 1014, 4               # height,width and band of image\n",
        "P_S = 9                             #@param [3, 9, 15, 21]                         \n",
        "patch_size = 3                      # Size of the patches to be extract from the input images\n",
        "# valid patch size is that number which is divisible by 3 i.e. 3,6,9,12\n",
        "\n",
        "train_percent = 75          #@param [75, 80, 90]\n",
        "epoch = \"300\"               #@param [100, 200, 300, 400]\n",
        "\n",
        "LR_START = 3e-3\n",
        "LR_MAX = 6e-3 \n",
        "LR_MIN = 1e-5\n",
        "\n",
        "batch_size = 128\n",
        "BATCH_SIZE = 128\n",
        "num_patches = (P_S//patch_size)**2\n",
        "\n",
        "projection_dim = \"128\"       #@param [64, 128, 256, 512, 1024, 2048]\n",
        "hidden_dim = \"64\"            #@param [32, 64, 128, 256, 512, 1024]\n",
        "dropout_ratio = 0.0         #@param [\"0.0\", \"0.1\", \"0.2\", \"0.3\", \"0.4\", \"0.5\"]\n",
        "drop_path = 0.0             #@param [\"0.0\", \"0.1\", \"0.2\", \"0.3\", \"0.4\", \"0.5\"]\n",
        "\n",
        "use_pearson_corr = str_to_bool(use_pearson_corr)\n",
        "add_pos_embedding = str_to_bool(add_pos_embedding)\n",
        "\n",
        "P_S = int(P_S)\n",
        "train_percent = int(train_percent)\n",
        "epoch = int(epoch)\n",
        "hidden_dim = int(hidden_dim) \n",
        "channels_mlp_dim = hidden_dim\n",
        "projection_dim = int(projection_dim)\n",
        "dropout_ratio = float(dropout_ratio)\n",
        "drop_path = int(drop_path)\n",
        "\n",
        "\n",
        "print(\"Number of patches per P_S: \", num_patches)\n",
        "print(\"Size of each patch for MLP Mixture: \", patch_size)"
      ]
    },
    {
      "cell_type": "code",
      "execution_count": null,
      "metadata": {
        "colab": {
          "base_uri": "https://localhost:8080/"
        },
        "id": "UigjwbDPPJ7j",
        "outputId": "e2a28adf-3dc1-4a17-9b84-d6db45260181"
      },
      "outputs": [
        {
          "output_type": "stream",
          "name": "stdout",
          "text": [
            "Looking in indexes: https://pypi.org/simple, https://us-python.pkg.dev/colab-wheels/public/simple/\n",
            "Collecting spectral\n",
            "  Downloading spectral-0.23.1-py3-none-any.whl (212 kB)\n",
            "\u001b[2K     \u001b[90m━━━━━━━━━━━━━━━━━━━━━━━━━━━━━━━━━━━━━━\u001b[0m \u001b[32m212.9/212.9 KB\u001b[0m \u001b[31m18.5 MB/s\u001b[0m eta \u001b[36m0:00:00\u001b[0m\n",
            "\u001b[?25hRequirement already satisfied: numpy in /usr/local/lib/python3.8/dist-packages (from spectral) (1.22.4)\n",
            "Installing collected packages: spectral\n",
            "Successfully installed spectral-0.23.1\n"
          ]
        }
      ],
      "source": [
        "!pip install spectral"
      ]
    },
    {
      "cell_type": "code",
      "execution_count": null,
      "metadata": {
        "id": "nVwSNVByPi3N"
      },
      "outputs": [],
      "source": [
        "import pandas as pd           # for csv files and dataframes\n",
        "import numpy as np            # Linear Algebra tools\n",
        "import matplotlib.pyplot as plt  # for ploting graphs and curve\n",
        "from matplotlib import colors, cm, gridspec\n",
        "import scipy.stats as st\n",
        "import scipy.io as si         # for inputing matlab files\n",
        "from random import shuffle    # for shuffling dataset\n",
        "import seaborn as sns\n",
        "\n",
        "from sklearn.model_selection import train_test_split\n",
        "from sklearn.metrics import confusion_matrix   #Confusion matrix creation\n",
        "from sklearn.metrics import accuracy_score, cohen_kappa_score\n",
        "from sklearn.metrics import classification_report\n",
        "\n",
        "import datetime\n",
        "import time\n",
        "import warnings\n",
        "import math\n",
        "import os\n",
        "import gc\n",
        "import pickle\n",
        "\n",
        "import tensorflow as tf\n",
        "# import tensorflow_addons as tfa\n",
        "import tensorflow_datasets as tfds\n",
        "from tensorflow import keras\n",
        "from tensorflow.keras import Sequential, layers\n",
        "from tensorflow.keras import activations\n",
        "from tensorflow.keras.layers import Input,Add,Multiply, Reshape, Dense, Activation, BatchNormalization, Flatten, Dropout, concatenate,LayerNormalization\n",
        "from tensorflow.keras.layers import Conv2D, AveragePooling2D, MaxPooling2D,  GlobalAveragePooling1D, GlobalAvgPool2D, DepthwiseConv2D, SeparableConv2D\n",
        "from tensorflow.keras.layers import Conv2DTranspose, add, multiply, Layer, MaxPool2D, UpSampling2D, Lambda, Permute\n",
        "from tensorflow.keras.callbacks import ModelCheckpoint\n",
        "from tensorflow.keras.models import load_model, Model\n",
        "from tensorflow.keras import optimizers\n",
        "from tensorflow.keras.initializers import glorot_uniform, Ones\n",
        "from tensorflow.keras.models import Model\n",
        "from tensorflow.keras.utils import plot_model\n",
        "from keras.regularizers import l2\n",
        "\n",
        "import spectral\n",
        "from imgaug import augmenters as iaa\n",
        "import imgaug as ia\n",
        "tfds.disable_progress_bar()\n",
        "tf.random.set_seed(42)\n",
        "ia.seed(42)\n",
        "\n",
        "AUTO = tf.data.AUTOTUNE\n",
        "np.random.seed(1337)          # to get reproducible results\n",
        "if use_pearson_corr:\n",
        "    folder_path = \"/content/drive/MyDrive/m_p/MLP/HyperMixer/Hissar_sentinel2/With Pearson correlation/\"\n",
        "else:\n",
        "    folder_path = \"/content/drive/MyDrive/m_p/MLP/HyperMixer/Hissar_sentinel2/Without Pearson correlation/\"\n",
        "\n",
        "try:\n",
        "    os.mkdir(folder_path)\n",
        "except:\n",
        "    pass"
      ]
    },
    {
      "cell_type": "code",
      "execution_count": null,
      "metadata": {
        "colab": {
          "base_uri": "https://localhost:8080/"
        },
        "id": "JNqIhQyOPyMp",
        "outputId": "66c78011-90a4-4c88-8463-8c7d1927129b"
      },
      "outputs": [
        {
          "output_type": "stream",
          "name": "stdout",
          "text": [
            "shape of x_csv:  (732108, 4)\n",
            "shape of y_csv:  (732108, 1)\n",
            "\n",
            "minimum value in x is : 0.0\n",
            "maximum value in x is : 1.0\n",
            "\n",
            "shape of x:  (722, 1014, 4)\n",
            "shape of y:  (722, 1014)\n",
            "\n",
            "shape of padded_x:  (730, 1022, 4)\n",
            "\n",
            "6.123003709835161% of data is labeled with 8 classes\n"
          ]
        }
      ],
      "source": [
        "x_csv = np.array(si.loadmat('/content/drive/My Drive/m_p/data/Hissar_25%/datas.mat')['datas'])\n",
        "y_csv = np.array(pd.read_csv('/content/drive/My Drive/m_p/data/Hissar_25%/fullgt.csv'))\n",
        "\n",
        "x= np.zeros((H, W, B))\n",
        "x[:,:,:B], y = x_csv.reshape(H,W,B), y_csv.reshape(H,W)\n",
        "x = x.astype('float16')\n",
        "\n",
        "# Normalizing the data between 0,1\n",
        "for i in range(B):\n",
        "    band_min = x[:,:,i].min()\n",
        "    band_max = x[:,:,i].max()\n",
        "    band_range = band_max - band_min\n",
        "    temp = (x[:,:,i] - band_min)/band_range\n",
        "    x[:,:,i] = temp\n",
        "    # x[:,:,B+i] = cv2.equalizeHist((temp*255).astype(np.uint8))/255.0\n",
        "\n",
        "pad_width = int((P_S-1)/2)\n",
        "padded_x = np.pad(x,[(pad_width,pad_width),(pad_width,pad_width),(0,0)],'edge')\n",
        "# np.save(\"/content/drive/MyDrive/Personal Folder for training/padded_x.npy\" , padded_x)\n",
        "X,Y = [],[]\n",
        "for a in range(H):\n",
        "  for b in range(W):\n",
        "    if(y[a][b]!= 0):\n",
        "      patch = padded_x[a:a+P_S,b:b+P_S,:]\n",
        "      X.append(patch)\n",
        "      Y.append(y[a][b]-1)\n",
        "\n",
        "num_classes = len(np.unique(y))-1\n",
        "\n",
        "\n",
        "print(\"shape of x_csv: \", x_csv.shape)\n",
        "print(\"shape of y_csv: \", y_csv.shape)\n",
        "print()\n",
        "print(\"minimum value in x is :\", x.min())\n",
        "print(\"maximum value in x is :\", x.max())\n",
        "print()\n",
        "print(\"shape of x: \", x.shape)\n",
        "print(\"shape of y: \", y.shape)\n",
        "print()\n",
        "print(\"shape of padded_x: \", padded_x.shape)\n",
        "print()\n",
        "print(f\"{len(Y)*100/y_csv.shape[0]}% of data is labeled with {num_classes} classes\")"
      ]
    },
    {
      "cell_type": "code",
      "execution_count": null,
      "metadata": {
        "colab": {
          "base_uri": "https://localhost:8080/",
          "height": 295
        },
        "id": "I6Ht09D2q22k",
        "outputId": "c0feb68d-f643-47ff-e1d2-5d92070db6a3"
      },
      "outputs": [
        {
          "output_type": "display_data",
          "data": {
            "text/plain": [
              "<Figure size 1080x288 with 1 Axes>"
            ],
            "image/png": "[encoded data removed]"
          },
          "metadata": {
            "needs_background": "light"
          }
        }
      ],
      "source": [
        "class_labels, value_counts = np.unique(y_csv, return_counts = True)\n",
        "plt.figure(figsize = (15,4))\n",
        "plt.bar(class_labels[1:]-1, value_counts[1:])\n",
        "plt.xticks(class_labels, rotation = 0)\n",
        "plt.xlabel(\"classes\")\n",
        "plt.ylabel(\"Number of pixels\")\n",
        "plt.title(\"Distribution Plot\")\n",
        "plt.show()"
      ]
    },
    {
      "cell_type": "code",
      "execution_count": null,
      "metadata": {
        "colab": {
          "base_uri": "https://localhost:8080/"
        },
        "id": "Cl7p-nQEq7kj",
        "outputId": "453ba001-4145-4b01-ce7d-4ebb40daca2b"
      },
      "outputs": [
        {
          "output_type": "stream",
          "name": "stdout",
          "text": [
            "x_train: (33620, 9, 9, 4) \n",
            "x_test: (11207, 9, 9, 4) \n",
            "y_train: (33620,) \n",
            "y_test: (11207,)\n"
          ]
        }
      ],
      "source": [
        "x_train, x_test, y_train, y_test = train_test_split(X, Y, train_size=(train_percent/100),stratify=Y, random_state=10)\n",
        "x_train, x_test,y_train,y_test = tf.cast(np.array(x_train), tf.float32), tf.cast(np.array(x_test), tf.float32), np.array(y_train), np.array(y_test)\n",
        "print(f\"x_train: {x_train.shape} \\nx_test: {x_test.shape} \\ny_train: {y_train.shape} \\ny_test: {y_test.shape}\")"
      ]
    },
    {
      "cell_type": "markdown",
      "metadata": {
        "id": "EKh5AT0cqfSI"
      },
      "source": [
        "### Prediction and performance measure functions"
      ]
    },
    {
      "cell_type": "code",
      "execution_count": null,
      "metadata": {
        "id": "WXgLwQBLsDSP"
      },
      "outputs": [],
      "source": [
        "def predict_half_image(model, padded_x, H, W_range, B, P_S):\n",
        "    y_hat = np.zeros((H,W_range))\n",
        "    for j in range(W_range):\n",
        "        patchs = np.zeros((H, P_S, P_S, B))\n",
        "        for i in range(H):\n",
        "            patchs[i,:,:,:] = padded_x[i:i+P_S, j:j+P_S, :]\n",
        "        y_pred = model.predict(patchs)\n",
        "        y_pred = np.argmax(y_pred,axis=1)+1\n",
        "        y_hat[:,j] = y_pred\n",
        "        del patchs\n",
        "        gc.collect()\n",
        "    return y_hat\n",
        "\n",
        "def predict_image(model, padded_x, H, W, B, P_S):\n",
        "    start_time = time.time()\n",
        "    half_1 = padded_x.shape[1]//2 + pad_width+1\n",
        "    half_2 = padded_x.shape[1]//2 - pad_width-1\n",
        "    padded_x_1st_half = padded_x[:,:half_1, :]\n",
        "    padded_x_2nd_half = padded_x[:,half_2:, :]\n",
        "    del padded_x\n",
        "    gc.collect()\n",
        "\n",
        "    y_hat = np.zeros((H,W))\n",
        "    y_hat[:,:W//2] = predict_half_image(model, padded_x_1st_half, H, W//2, B, P_S)\n",
        "    # del padded_x_1st_half\n",
        "    print(\"image predicted ███████████████████████ 50%\")\n",
        "    gc.collect()\n",
        "    y_hat[:,W//2:] = predict_half_image(model, padded_x_2nd_half, H, W//2, B, P_S)\n",
        "    # del padded_x_2nd_half\n",
        "    print(\"image predicted ██████████████████████████████████████████████ 100%\")\n",
        "    gc.collect()\n",
        "    end_time = time.time()\n",
        "    time_taken = end_time - start_time\n",
        "    time_min = time_taken//60\n",
        "    time_sec = time_taken - time_min*60\n",
        "    print(f'total time taken is: {time_min} min {time_sec} sec.')\n",
        "    y_hat = np.reshape(y_hat, (H,W))\n",
        "    print(\"shape of predicted image is: \", y_hat.shape)\n",
        "    return y_hat"
      ]
    },
    {
      "cell_type": "code",
      "execution_count": null,
      "metadata": {
        "id": "98qQCyXnsDSP"
      },
      "outputs": [],
      "source": [
        "def predict(model, x_test):\n",
        "    y_pred = model.predict(x_test)\n",
        "    y_pred1 = np.zeros((y_pred.shape[0],1))\n",
        "    for a in range(y_pred.shape[0]):\n",
        "        y_pred1[a] = np.argmax(y_pred[a])\n",
        "    y_pred = y_pred1\n",
        "    del y_pred1\n",
        "    return y_pred"
      ]
    },
    {
      "cell_type": "code",
      "execution_count": null,
      "metadata": {
        "id": "SMb1wDwMs0oh"
      },
      "outputs": [],
      "source": [
        "def plot_accuracy_loss_curve(history, use_pearson_corr = None, folder_path = None):\n",
        "    train_loss = history.history['loss']\n",
        "    val_loss = history.history['val_loss']\n",
        "    train_accuracy = history.history['accuracy']\n",
        "    val_accuracy = history.history['val_accuracy']\n",
        "\n",
        "    fig = plt.figure(figsize = (24,8))\n",
        "    ax = plt.subplot(1,1,1)\n",
        "    ax2 = ax.twinx()\n",
        "    ax.plot(train_accuracy, color='blue', marker='o', linewidth=1.5, markersize = 2,  label = 'train_accuracy')\n",
        "    ax.plot(val_accuracy, color='green', marker='o', linewidth=1.5, markersize = 2, label = 'val_accuracy')\n",
        "    ax.grid()\n",
        "    plt.xlabel('no. of epoches')\n",
        "    plt.ylabel('accuracy')\n",
        "    ax.legend()\n",
        "    ax2.plot(train_loss, color = 'black', marker='o', linewidth=1.5, markersize = 2, label = 'train_loss')\n",
        "    ax2.plot(val_loss, color = 'red', marker='o', linewidth=1.5, markersize = 2, label = 'val_loss')\n",
        "    ax2.grid()\n",
        "    plt.xlabel('no. of epoches')\n",
        "    plt.ylabel('loss')\n",
        "    plt.title('accuracy and loss plot for model performance')\n",
        "    ax2.legend()\n",
        "    plt.show()\n",
        "    if folder_path:\n",
        "        try:\n",
        "            os.mkdir(folder_path + \"Results/\")\n",
        "        except:\n",
        "            pass\n",
        "        if use_pearson_corr:\n",
        "            path = folder_path + \"Results/Pearson_Corr \" + str(train_percent) + \"% ps_\"+ str(P_S) + \" accuracy_loss.png\"\n",
        "        else:\n",
        "            path = folder_path + \"Results/\" + str(train_percent) + \"% ps_\"+ str(P_S) + \" accuracy_loss.png\"\n",
        "        fig.savefig(path)"
      ]
    },
    {
      "cell_type": "code",
      "execution_count": null,
      "metadata": {
        "id": "IrYPetYDfRD9"
      },
      "outputs": [],
      "source": [
        "def performance_meausures(y_test, y_pred, tt, *parameters_summary, use_pearson_corr = None, folder_path = None):\n",
        "    Total_params, Trainable_params, Non_trainable_params = parameters_summary\n",
        "    accuracy = accuracy_score(y_test, y_pred)\n",
        "    kappa=cohen_kappa_score(y_test, y_pred)\n",
        "    cm = confusion_matrix(y_test, y_pred).astype('int32')\n",
        "    cr = classification_report(y_test, y_pred, output_dict=True)\n",
        "    df_cr = pd.DataFrame(cr).T\n",
        "    df_score = pd.DataFrame({'accuracy score: ' : [accuracy], 'Cohen_Kappa score: ' : [kappa], \"Training Time: \" : [tt]}).T\n",
        "    df_summary = pd.DataFrame({'Total_params: ': [Total_params], 'Trainable_params: ' : [Trainable_params], 'Non_trainable_params: ':[Non_trainable_params]}).T\n",
        "\n",
        "    spec = gridspec.GridSpec(ncols = 2, nrows = 2, width_ratios=[1,3], wspace = 0.5, hspace = 0.5, height_ratios=[7,1])\n",
        "    \n",
        "    fig = plt.figure(figsize = (24,10))\n",
        "\n",
        "    ax1 = fig.add_subplot(spec[0])\n",
        "    ax1.set_title('classification report')\n",
        "    sns.heatmap(df_cr, cmap = 'Blues', cbar = False, annot = True, fmt=' .5g', ax = ax1)\n",
        "\n",
        "    ax2 = fig.add_subplot(spec[1])\n",
        "    ax2.set_title('confusion matrix')\n",
        "    ax2.set_xlabel('predicted class')\n",
        "    ax2.set_ylabel('actual class')\n",
        "    sns.heatmap(cm, cmap = 'Blues', cbar = False, annot = True, fmt=' .5g', ax = ax2)\n",
        "\n",
        "    ax3 = fig.add_subplot(spec[2])\n",
        "    sns.heatmap(df_score, cmap = 'Blues', cbar = False, annot = True, fmt=' .5g', ax = ax3)\n",
        "\n",
        "    ax4 = fig.add_subplot(spec[3])\n",
        "    sns.heatmap(df_summary, cmap = \"Blues\", cbar = False, annot = True, fmt=' .10g', ax = ax4)\n",
        "\n",
        "    try:\n",
        "        os.mkdir(folder_path + \"Results/\" )\n",
        "    except:\n",
        "        pass\n",
        "\n",
        "    if folder_path:\n",
        "        if use_pearson_corr:\n",
        "            path = folder_path + \"Results/\" + str(train_percent) + \"% ps_\" + str(P_S) +\" Performance Measure\" + \".png\"\n",
        "        else:\n",
        "            path = folder_path + \"Results/\" + str(train_percent) + \"% ps_\" + str(P_S)+ \" Performance Measure\" + \".png\"\n",
        "        fig.savefig(path)"
      ]
    },
    {
      "cell_type": "markdown",
      "metadata": {
        "id": "nYNhX87kW7KY"
      },
      "source": [
        "### Building the classes and function for model"
      ]
    },
    {
      "cell_type": "code",
      "execution_count": null,
      "metadata": {
        "id": "zoiu-eO3W4is"
      },
      "outputs": [],
      "source": [
        "class Pearson_correlation_masked(layers.Layer):\n",
        "    def __init__(self, P_S = 9, **kwargs):\n",
        "        super(Pearson_correlation_masked, self).__init__(**kwargs)\n",
        "        self.P_S = P_S\n",
        "    \n",
        "    def call(self, inputs):\n",
        "        self.loc = (self.P_S)//2\n",
        "        self.inputs = inputs\n",
        "        self.channels = self.inputs.shape[-1]\n",
        "        self.x_mean = tf.repeat(tf.math.reduce_mean(self.inputs, axis = -1, keepdims=True), repeats = self.channels, axis = -1)\n",
        "\n",
        "        self.y = tf.repeat(tf.repeat(self.inputs[:,self.loc:self.loc+1, self.loc:self.loc+1, :], repeats = self.P_S, axis = -2), repeats = self.P_S, axis = -3)\n",
        "\n",
        "        self.y_mean = tf.repeat(tf.math.reduce_mean(self.y, axis = -1, keepdims = True), repeats = self.channels, axis = -1)\n",
        "\n",
        "        self.a = tf.math.subtract(self.inputs, self.x_mean)\n",
        "        self.b = tf.math.subtract(self.y, self.y_mean)\n",
        "        self.ab = tf.math.multiply(self.a,self.b)\n",
        "        self.num = tf.math.reduce_sum(self.ab, axis = -1, keepdims = True)\n",
        "\n",
        "        self.a_new = tf.math.reduce_sum(tf.math.multiply(self.a, self.a), axis = -1, keepdims = True)\n",
        "        self.b_new = tf.math.reduce_sum(tf.math.multiply(self.b, self.b), axis = -1, keepdims = True)\n",
        "        self.deno = tf.math.sqrt(tf.math.multiply(self.a_new, self.b_new))\n",
        "    \n",
        "        self.corr = tf.math.divide(self.num, self.deno)\n",
        "\n",
        "        self.thresh = tf.math.reduce_mean(self.corr)\n",
        "        self.mask = self.corr > self.thresh\n",
        "        self.mask = tf.cast(self.mask, self.corr.dtype)\n",
        "\n",
        "        self.masked_corr = tf.math.multiply(self.mask, self.corr)\n",
        "    \n",
        "        self.attention_weights = tf.repeat(self.masked_corr, repeats = self.channels, axis = -1)\n",
        "        return multiply([self.inputs, self.attention_weights])\n",
        "\n",
        "    def get_config(self, **kwargs):\n",
        "        config = super().get_config()\n",
        "        config.update({\n",
        "            \"P_S\": self.P_S,\n",
        "        })\n",
        "        return config"
      ]
    },
    {
      "cell_type": "code",
      "source": [
        "class Patches(layers.Layer):\n",
        "    def __init__(self, hidden_dim = 256, patch_size = 3, patch_method='extract', **kwargs):\n",
        "        super(Patches, self).__init__()\n",
        "        self.patch_size = patch_size\n",
        "        self.hidden_dim = hidden_dim\n",
        "        self.patch_method = patch_method.lower()\n",
        "\n",
        "    def call(self, images):\n",
        "        if self.patch_method == \"conv\":\n",
        "            x = Conv2D(self.hidden_dim, patch_size, patch_size)(images)              # shape(B, 3, 3, 256)\n",
        "            patches = Reshape([-1, x.shape[-1]])(x)                                   # shape(B, 9, 256)\n",
        "            return patches\n",
        "        else:\n",
        "            batch_size = tf.shape(images)[0]\n",
        "            patches = tf.image.extract_patches(images=images, sizes=[1, self.patch_size, self.patch_size, 1], strides=[1, self.patch_size, self.patch_size, 1],\n",
        "                                            rates=[1, 1, 1, 1], padding=\"VALID\",)\n",
        "            patch_dims = patches.shape[-1]\n",
        "            patches = tf.reshape(patches, [batch_size, -1, patch_dims])\n",
        "            return patches\n",
        "    def get_config(self):\n",
        "        config = super().get_config()\n",
        "        config.update({\n",
        "            \"patch_size\": self.patch_size,\n",
        "            \"hidden_dim\": self.hidden_dim,\n",
        "            \"patch_method\": self.patch_method\n",
        "        })\n",
        "        return config"
      ],
      "metadata": {
        "id": "ByF_ovVb5MeR"
      },
      "execution_count": null,
      "outputs": []
    },
    {
      "cell_type": "code",
      "source": [
        "# class PatchEncoder(layers.Layer):\n",
        "#     def __init__(self, num_patches, projection_dim, **kwargs):\n",
        "#         super(PatchEncoder, self).__init__(**kwargs)\n",
        "#         self.num_patches = num_patches\n",
        "#         self.projection_dim = projection_dim\n",
        "#         self.projection = Dense(projection_dim)\n",
        "#         self.position_embedding = layers.Embedding(input_dim=num_patches, output_dim=projection_dim)\n",
        "\n",
        "#     def call(self, patch,**kwargs):\n",
        "#         positions = tf.range(start=0, limit=self.num_patches, delta=1)\n",
        "#         encoded = self.projection(patch) + self.position_embedding(positions)    # (9, 512)\n",
        "#         return encoded\n",
        "\n",
        "#     def get_config(self, **kwargs):\n",
        "#         config = super().get_config()\n",
        "#         config.update({\n",
        "#             \"num_patches\": self.num_patches,\n",
        "#             \"projection_dim\": self.projection_dim,\n",
        "#         })\n",
        "#         return config"
      ],
      "metadata": {
        "id": "OZTa20KA4IWM"
      },
      "execution_count": null,
      "outputs": []
    },
    {
      "cell_type": "code",
      "source": [
        "class PositionEmbedding(layers.Layer):\n",
        "    def __init__(self, **kwargs):\n",
        "        super(PositionEmbedding, self).__init__(**kwargs)\n",
        "\n",
        "    def call(self, patch,**kwargs):\n",
        "        shape = tf.shape(patch)\n",
        "        positions = tf.range(start=0, limit=shape[-2], delta=1)\n",
        "        position_embedding = layers.Embedding(input_dim=num_patches, output_dim=shape[-2])\n",
        "        encoded = patch + position_embedding(positions)    # (9, 512)\n",
        "        return encoded"
      ],
      "metadata": {
        "id": "7i3gTT6gkAo7"
      },
      "execution_count": null,
      "outputs": []
    },
    {
      "cell_type": "code",
      "source": [
        "class Drop_Path(layers.Layer):\n",
        "    def __init__(self, drop_prob = 0.0, training = False, **kwargs):\n",
        "        super(Drop_Path, self).__init__(**kwargs)\n",
        "        self.drop_prob = drop_prob\n",
        "        self.training = training\n",
        "    def call(self, x, **kwargs):\n",
        "        if self.drop_prob == 0. or not self.training:\n",
        "            return x\n",
        "        keep_prob = 1 -  self.drop_prob\n",
        "        shape = (x.shape[0],) + (1,) * (x.ndim - 1)\n",
        "        random_tensor = keep_prob + tf.random.uniform(shape, dtype=x.dtype)\n",
        "        random_tensor.floor_()  # binarize\n",
        "        output = tf.divide(x, keep_prob) * random_tensor\n",
        "        return output\n",
        "    def get_config(self, **kwargs):\n",
        "        config = super().get_config()\n",
        "        config.update({\n",
        "            \"drop_prob\": self.drop_prob,\n",
        "            \"training\": self.training,\n",
        "        })\n",
        "        return config"
      ],
      "metadata": {
        "id": "qZsTYxds7UbH"
      },
      "execution_count": null,
      "outputs": []
    },
    {
      "cell_type": "code",
      "source": [
        "class MLP(layers.Layer):\n",
        "    def __init__(self, in_features, out_features, drop = 0.0, **kwargs):\n",
        "        super(MLP, self).__init__(**kwargs)\n",
        "        self.in_features = in_features\n",
        "        self.out_features = out_features\n",
        "        self.drop = drop\n",
        "        self.mlp_1 = Dense(in_features, activation = activations.gelu, use_bias = False)\n",
        "        self.drop_1 = Dropout(drop)\n",
        "        self.mlp_2 = Dense(out_features, activation = activations.gelu, use_bias = False)\n",
        "        self.drop_2 = Dropout(drop)\n",
        "\n",
        "    def call(self, x):\n",
        "        x = self.drop_1(self.mlp_1(x))\n",
        "        x = self.drop_2(self.mlp_2(x))\n",
        "        return x\n",
        "\n",
        "    def get_config(self, **kwargs):\n",
        "        config = super().get_config()\n",
        "        config.update({\n",
        "            \"in_features\": self.in_features,\n",
        "            \"out_features\": self.out_features,\n",
        "            \"drop\": self.drop,\n",
        "        })\n",
        "        return config"
      ],
      "metadata": {
        "id": "afTu-ILc3JYa"
      },
      "execution_count": null,
      "outputs": []
    },
    {
      "cell_type": "code",
      "source": [
        "class HyperMixer(layers.Layer):\n",
        "    def __init__(self, num_patches, dim, hidden_dim, add_pos_embedding = False, dropout_ratio = 0.0, **kwargs):\n",
        "        super(HyperMixer, self).__init__(**kwargs)\n",
        "        self.num_patches = num_patches\n",
        "        self.dim = dim\n",
        "        self.hidden_dim = hidden_dim\n",
        "        self.add_pos_embedding = add_pos_embedding\n",
        "        self.dropout_ratio = dropout_ratio\n",
        "        # hidden_dim\n",
        "        self.mlp_1 = MLP(hidden_dim, dim, drop = dropout_ratio)\n",
        "        self.drop = Dropout(dropout_ratio)\n",
        "    def call(self, x, **kwargs):\n",
        "        # mlp_1 = Dense(hidden_dim, activation=activations.gelu, use_bias=False)                              \n",
        "        # drop = Dropout(dropout_ratio)\n",
        "        # act = activations.gelu()\n",
        "\n",
        "        if self.add_pos_embedding:\n",
        "            weights = PositionEmbedding()(x)                      # (9, 512)\n",
        "        else:\n",
        "            weights = x + x\n",
        "        weights = self.mlp_1(weights)                                                    # (9, 512)\n",
        "        x = self.drop(activations.gelu(tf.transpose(weights, (0,2,1)) @ x))                                  # (512, 512)\n",
        "        x = self.drop(weights@x)                                                       # (9, 512)\n",
        "        return x\n",
        "\n",
        "    def get_config(self, **kwargs):\n",
        "        config = super().get_config()\n",
        "        config.update({\n",
        "            \"num_patches\": self.num_patches,\n",
        "            \"dim\": self.dim,\n",
        "            \"hidden_dim\": self.hidden_dim,\n",
        "            \"add_pos_embedding\": self.add_pos_embedding,\n",
        "            \"dropout_ratio\": self.dropout_ratio,\n",
        "        })\n",
        "        return config"
      ],
      "metadata": {
        "id": "tvnftzqa95rm"
      },
      "execution_count": null,
      "outputs": []
    },
    {
      "cell_type": "code",
      "source": [
        "class HyperMixerBlock(layers.Layer):\n",
        "    def __init__(self, num_patches, dim, mlp_ratio = (0.5, 4), add_pos_embedding = False, dropout_ratio = 0.0, drop_path = 0.0, **kwargs):\n",
        "        super(HyperMixerBlock, self).__init__(**kwargs)\n",
        "        self.num_patches = num_patches\n",
        "        self.dim = dim\n",
        "        self.mlp_ratio = mlp_ratio\n",
        "        tokens_dim, channels_dim = [int(i*self.dim) for i in self.mlp_ratio]\n",
        "        self.add_pos_embedding = add_pos_embedding\n",
        "        self.dropout_ratio = dropout_ratio\n",
        "        self.drop_path = drop_path\n",
        "\n",
        "        self.norm1 = LayerNormalization(axis = -1, epsilon=1e-6)\n",
        "        # self.norm1 = BatchNormalization()\n",
        "        self.norm2 = LayerNormalization(axis = -1, epsilon=1e-6)\n",
        "        self.mlp_channels = MLP(channels_dim, dim, drop = dropout_ratio)\n",
        "        # tokens_dim = 256\n",
        "        # channels_dim = 2048\n",
        "        self.mlp_tokens = HyperMixer(num_patches = self.num_patches, dim=self.dim, hidden_dim=tokens_dim, add_pos_embedding = self.add_pos_embedding , dropout_ratio=self.dropout_ratio)   # (9, 512)\n",
        "        # self.mlp_channels = Dense(2048, activation = activations.gelu, use_bias=False)\n",
        "        self.DropPath = Drop_Path(drop_prob = self.drop_path, training = False)\n",
        "        # self.mlp_1 = Dense(hidden_dim, activation=activations.gelu, use_bias=False)\n",
        "        # self.drop = Dropout(dropout_ratio)\n",
        "    def call(self, x, **kwargs):\n",
        "        x = self.norm1(x)                                                       # (9, 512)  \n",
        "        x = x + self.DropPath(self.mlp_tokens(x))                               # (9, 512)\n",
        "        x = x + self.DropPath(self.mlp_channels(self.norm2(x)))                 # (9, 512)\n",
        "        return x\n",
        "    def get_config(self, **kwargs):\n",
        "        config = super().get_config()\n",
        "        config.update({\n",
        "            \"num_patches\": self.num_patches,\n",
        "            \"dim\": self.dim,\n",
        "            # \"mlp_ratio\": self.mlp_ratio,\n",
        "            \"add_pos_embedding\": self.add_pos_embedding,\n",
        "            \"dropout_ratio\": self.dropout_ratio,\n",
        "            \"drop_path\": self.drop_path\n",
        "        })\n",
        "        return config"
      ],
      "metadata": {
        "id": "uKzGuyKjAE5P"
      },
      "execution_count": null,
      "outputs": []
    },
    {
      "cell_type": "code",
      "execution_count": null,
      "metadata": {
        "id": "424s5CpaeQqD"
      },
      "outputs": [],
      "source": [
        "def HyperMixer_classifier(input_shape = (P_S, P_S, B), classes = 13, use_pearson_corr = False, num_patches = 9, projection_dim = 2048, hidden_dim = 512, \n",
        "                          add_pos_embedding = True, dropout_ratio = 0.0, drop_path = 0.0):\n",
        "    add_pos_embedding = False\n",
        "    inputs = layers.Input(shape=input_shape)                                                # shape = (9,9,372)\n",
        "    # b = inputs.shape[0]\n",
        "    # Create patches.\n",
        "    if use_pearson_corr:\n",
        "        x0 = Pearson_correlation_masked(P_S)(inputs)                                        # shape = (9,9,372)\n",
        "    else:\n",
        "        x0 = inputs\n",
        "    patches = Patches(hidden_dim=projection_dim,patch_size=patch_size)(x0)              # shape = 9, 3348 ----> 9 patches each shape 3*3*372 = 3348\n",
        "    \n",
        "    patches = Dense(hidden_dim)(patches)                  # (9, 512)\n",
        "    x = HyperMixerBlock(num_patches = num_patches, dim = hidden_dim, mlp_ratio = (0.5, 4), add_pos_embedding = add_pos_embedding, dropout_ratio = dropout_ratio,\n",
        "                        drop_path = dropout_ratio)(patches)\n",
        "    x = GlobalAveragePooling1D()(x)\n",
        "    outputs = Dense(num_classes, activation=\"softmax\", dtype=\"float32\")(x)\n",
        "    model = Model(inputs = inputs, outputs = outputs, name = \"Hyper_Mixer\")\n",
        "    return model"
      ]
    },
    {
      "cell_type": "code",
      "execution_count": null,
      "metadata": {
        "id": "3rP-euBakpnh"
      },
      "outputs": [],
      "source": [
        "model = HyperMixer_classifier(input_shape = (P_S, P_S, B), classes = num_classes, use_pearson_corr = use_pearson_corr, num_patches = num_patches, projection_dim = projection_dim, \n",
        "                              hidden_dim = hidden_dim, add_pos_embedding = add_pos_embedding, dropout_ratio = dropout_ratio, drop_path = drop_path)"
      ]
    },
    {
      "cell_type": "code",
      "source": [
        "model.summary()"
      ],
      "metadata": {
        "id": "ASZ3SV_PJmgC",
        "colab": {
          "base_uri": "https://localhost:8080/"
        },
        "outputId": "04d7ed80-2340-466b-f9c4-dc6ad398aedd"
      },
      "execution_count": null,
      "outputs": [
        {
          "output_type": "stream",
          "name": "stdout",
          "text": [
            "Model: \"Hyper_Mixer\"\n",
            "_________________________________________________________________\n",
            " Layer (type)                Output Shape              Param #   \n",
            "=================================================================\n",
            " input_1 (InputLayer)        [(None, 9, 9, 4)]         0         \n",
            "                                                                 \n",
            " patches (Patches)           (None, None, 36)          0         \n",
            "                                                                 \n",
            " dense (Dense)               (None, None, 64)          2368      \n",
            "                                                                 \n",
            " hyper_mixer_block (HyperMix  (None, None, 64)         37120     \n",
            " erBlock)                                                        \n",
            "                                                                 \n",
            " global_average_pooling1d (G  (None, 64)               0         \n",
            " lobalAveragePooling1D)                                          \n",
            "                                                                 \n",
            " dense_5 (Dense)             (None, 8)                 520       \n",
            "                                                                 \n",
            "=================================================================\n",
            "Total params: 40,008\n",
            "Trainable params: 40,008\n",
            "Non-trainable params: 0\n",
            "_________________________________________________________________\n"
          ]
        }
      ]
    },
    {
      "cell_type": "code",
      "execution_count": null,
      "metadata": {
        "id": "6yIjSRSyhFSJ"
      },
      "outputs": [],
      "source": [
        "# def mlp_block(x, hidden_dim, dropout_ratio = 0.1):\n",
        "#     y = Dense(hidden_dim)(x)\n",
        "#     y = tf.nn.gelu(y)\n",
        "#     y = Dropout(dropout_ratio)(y)\n",
        "#     return Dense(x.shape[-1])(y)\n",
        "\n",
        "# # hidden_dim = mlp_dim = 128, 256"
      ]
    },
    {
      "cell_type": "code",
      "execution_count": null,
      "metadata": {
        "id": "O-AFecl8hFtt",
        "colab": {
          "base_uri": "https://localhost:8080/",
          "height": 564
        },
        "outputId": "ceab6f91-ee76-43c7-ce31-0ea368539aa7"
      },
      "outputs": [
        {
          "output_type": "execute_result",
          "data": {
            "image/png": "[encoded data removed]",
            "text/plain": [
              "<IPython.core.display.Image object>"
            ]
          },
          "metadata": {},
          "execution_count": 24
        }
      ],
      "source": [
        "plot_model(model)"
      ]
    },
    {
      "cell_type": "code",
      "execution_count": null,
      "metadata": {
        "id": "Pqjw5c8ChFwr",
        "colab": {
          "base_uri": "https://localhost:8080/",
          "height": 300
        },
        "outputId": "b683424b-14ec-41da-90df-9534c27b0a29"
      },
      "outputs": [
        {
          "output_type": "stream",
          "name": "stdout",
          "text": [
            "Learning rate schedule: 0.0006 to 0.0006 to 1e-07\n"
          ]
        },
        {
          "output_type": "display_data",
          "data": {
            "text/plain": [
              "<Figure size 720x288 with 1 Axes>"
            ],
            "image/png": "[encoded data removed]"
          },
          "metadata": {
            "needs_background": "light"
          }
        }
      ],
      "source": [
        "LR_START = 3e-4\n",
        "LR_MAX = 6e-4 \n",
        "LR_MIN = 1e-7\n",
        "LR_RAMPUP_EPOCHS = 0\n",
        "LR_SUSTAIN_EPOCHS = 0\n",
        "EPOCHS = epoch\n",
        "STEPS = [epoch,epoch*2]\n",
        "\n",
        "def lrfn(epoch):\n",
        "    if epoch<STEPS[0]:\n",
        "        epoch2 = epoch\n",
        "        EPOCHS2 = STEPS[0]\n",
        "    elif epoch<STEPS[0]+STEPS[1]:\n",
        "        epoch2 = epoch-STEPS[0]\n",
        "        EPOCHS2 = STEPS[1]\n",
        "    elif epoch<STEPS[0]+STEPS[1]+STEPS[2]:\n",
        "        epoch2 = epoch-STEPS[0]-STEPS[1]\n",
        "        EPOCHS2 = STEPS[2]\n",
        "    \n",
        "    if epoch2 < LR_RAMPUP_EPOCHS:\n",
        "        lr = (LR_MAX - LR_START) / LR_RAMPUP_EPOCHS * epoch2 + LR_START\n",
        "    elif epoch2 < LR_RAMPUP_EPOCHS + LR_SUSTAIN_EPOCHS:\n",
        "        lr = LR_MAX\n",
        "    else:\n",
        "        decay_total_epochs = EPOCHS2 - LR_RAMPUP_EPOCHS - LR_SUSTAIN_EPOCHS - 1\n",
        "        decay_epoch_index = epoch2 - LR_RAMPUP_EPOCHS - LR_SUSTAIN_EPOCHS\n",
        "        phase = math.pi * decay_epoch_index / decay_total_epochs\n",
        "        cosine_decay = 0.5 * (1 + math.cos(phase))\n",
        "        lr = (LR_MAX - LR_MIN) * cosine_decay + LR_MIN\n",
        "    return lr\n",
        "\n",
        "rng = [i for i in range(EPOCHS)]\n",
        "lr_y = [lrfn(x) for x in rng]\n",
        "plt.figure(figsize=(10, 4))\n",
        "plt.plot(rng, lr_y, '-o')\n",
        "print(\"Learning rate schedule: {:.3g} to {:.3g} to {:.3g}\". \\\n",
        "          format(lr_y[0], max(lr_y), lr_y[-1]))\n",
        "lr_callback = tf.keras.callbacks.LearningRateScheduler(lrfn, verbose = True)\n",
        "plt.xlabel('Epoch',size=14)\n",
        "plt.ylabel('Learning Rate',size=14)\n",
        "plt.show()"
      ]
    },
    {
      "cell_type": "code",
      "execution_count": null,
      "metadata": {
        "id": "wYZ3YZYyhFyz"
      },
      "outputs": [],
      "source": [
        "filepath = folder_path +\"Trained models/\"+ str(train_percent)+\"% ps_\"+str(P_S)\n",
        "checkpoint = ModelCheckpoint(filepath, monitor='val_accuracy', verbose=1, save_best_only=True, save_weights_only=False, mode='max')\n",
        "callbacks_list = [checkpoint, lr_callback]\n",
        "model.compile(optimizer=optimizers.Adam(0.000003), loss='sparse_categorical_crossentropy', metrics=['accuracy'])"
      ]
    },
    {
      "cell_type": "code",
      "execution_count": null,
      "metadata": {
        "id": "KbUfINxahF5D",
        "colab": {
          "base_uri": "https://localhost:8080/"
        },
        "outputId": "888e6bda-a26b-4690-ebf3-cee8f81156a6"
      },
      "outputs": [
        {
          "output_type": "stream",
          "name": "stdout",
          "text": [
            "\n",
            "Epoch 1: LearningRateScheduler setting learning rate to 0.0006.\n",
            "Epoch 1/300\n",
            "263/263 [==============================] - ETA: 0s - loss: 38.2154 - accuracy: 0.5449\n",
            "Epoch 1: val_accuracy improved from -inf to 0.67833, saving model to /content/drive/MyDrive/m_p/MLP/HyperMixer/Hissar_sentinel2/Without Pearson correlation/Trained models/75% ps_9\n"
          ]
        },
        {
          "output_type": "stream",
          "name": "stderr",
          "text": [
            "WARNING:absl:Found untraced functions such as layer_normalization_layer_call_fn, layer_normalization_layer_call_and_return_conditional_losses, layer_normalization_1_layer_call_fn, layer_normalization_1_layer_call_and_return_conditional_losses, mlp_layer_call_fn while saving (showing 5 of 30). These functions will not be directly callable after loading.\n"
          ]
        },
        {
          "output_type": "stream",
          "name": "stdout",
          "text": [
            "\b\b\b\b\b\b\b\b\b\b\b\b\b\b\b\b\b\b\b\b\b\b\b\b\b\b\b\b\b\b\b\b\b\b\b\b\b\b\b\b\b\b\b\b\b\b\b\b\b\b\b\b\b\b\b\b\b\b\b\b\b\b\b\b\b\b\b\b\b\b\b\b\b\b\b\b\b\b\b\b\b\b\b\b\b\r263/263 [==============================] - 23s 52ms/step - loss: 38.2154 - accuracy: 0.5449 - val_loss: 0.9761 - val_accuracy: 0.6783 - lr: 6.0000e-04\n",
            "\n",
            "Epoch 2: LearningRateScheduler setting learning rate to 0.0005999834433585453.\n",
            "Epoch 2/300\n",
            "262/263 [============================>.] - ETA: 0s - loss: 0.9042 - accuracy: 0.6877\n",
            "Epoch 2: val_accuracy improved from 0.67833 to 0.71750, saving model to /content/drive/MyDrive/m_p/MLP/HyperMixer/Hissar_sentinel2/Without Pearson correlation/Trained models/75% ps_9\n"
          ]
        },
        {
          "output_type": "stream",
          "name": "stderr",
          "text": [
            "WARNING:absl:Found untraced functions such as layer_normalization_layer_call_fn, layer_normalization_layer_call_and_return_conditional_losses, layer_normalization_1_layer_call_fn, layer_normalization_1_layer_call_and_return_conditional_losses, mlp_layer_call_fn while saving (showing 5 of 30). These functions will not be directly callable after loading.\n"
          ]
        },
        {
          "output_type": "stream",
          "name": "stdout",
          "text": [
            "\b\b\b\b\b\b\b\b\b\b\b\b\b\b\b\b\b\b\b\b\b\b\b\b\b\b\b\b\b\b\b\b\b\b\b\b\b\b\b\b\b\b\b\b\b\b\b\b\b\b\b\b\b\b\b\b\b\b\b\b\b\b\b\b\b\b\b\b\b\b\b\b\b\b\b\b\b\b\b\b\b\b\b\b\r263/263 [==============================] - 10s 39ms/step - loss: 0.9039 - accuracy: 0.6878 - val_loss: 0.8326 - val_accuracy: 0.7175 - lr: 5.9998e-04\n",
            "\n",
            "Epoch 3: LearningRateScheduler setting learning rate to 0.0005999337752619684.\n",
            "Epoch 3/300\n",
            "258/263 [============================>.] - ETA: 0s - loss: 0.7813 - accuracy: 0.7393\n",
            "Epoch 3: val_accuracy improved from 0.71750 to 0.76131, saving model to /content/drive/MyDrive/m_p/MLP/HyperMixer/Hissar_sentinel2/Without Pearson correlation/Trained models/75% ps_9\n"
          ]
        },
        {
          "output_type": "stream",
          "name": "stderr",
          "text": [
            "WARNING:absl:Found untraced functions such as layer_normalization_layer_call_fn, layer_normalization_layer_call_and_return_conditional_losses, layer_normalization_1_layer_call_fn, layer_normalization_1_layer_call_and_return_conditional_losses, mlp_layer_call_fn while saving (showing 5 of 30). These functions will not be directly callable after loading.\n"
          ]
        },
        {
          "output_type": "stream",
          "name": "stdout",
          "text": [
            "\b\b\b\b\b\b\b\b\b\b\b\b\b\b\b\b\b\b\b\b\b\b\b\b\b\b\b\b\b\b\b\b\b\b\b\b\b\b\b\b\b\b\b\b\b\b\b\b\b\b\b\b\b\b\b\b\b\b\b\b\b\b\b\b\b\b\b\b\b\b\b\b\b\b\b\b\b\b\b\b\b\b\b\b\r263/263 [==============================] - 6s 24ms/step - loss: 0.7809 - accuracy: 0.7394 - val_loss: 0.7167 - val_accuracy: 0.7613 - lr: 5.9993e-04\n",
            "\n",
            "Epoch 4: LearningRateScheduler setting learning rate to 0.0005998510011934292.\n",
            "Epoch 4/300\n",
            "258/263 [============================>.] - ETA: 0s - loss: 0.6950 - accuracy: 0.7685\n",
            "Epoch 4: val_accuracy improved from 0.76131 to 0.78157, saving model to /content/drive/MyDrive/m_p/MLP/HyperMixer/Hissar_sentinel2/Without Pearson correlation/Trained models/75% ps_9\n"
          ]
        },
        {
          "output_type": "stream",
          "name": "stderr",
          "text": [
            "WARNING:absl:Found untraced functions such as layer_normalization_layer_call_fn, layer_normalization_layer_call_and_return_conditional_losses, layer_normalization_1_layer_call_fn, layer_normalization_1_layer_call_and_return_conditional_losses, mlp_layer_call_fn while saving (showing 5 of 30). These functions will not be directly callable after loading.\n"
          ]
        },
        {
          "output_type": "stream",
          "name": "stdout",
          "text": [
            "\b\b\b\b\b\b\b\b\b\b\b\b\b\b\b\b\b\b\b\b\b\b\b\b\b\b\b\b\b\b\b\b\b\b\b\b\b\b\b\b\b\b\b\b\b\b\b\b\b\b\b\b\b\b\b\b\b\b\b\b\b\b\b\b\b\b\b\b\b\b\b\b\b\b\b\b\b\b\b\b\b\b\b\b\r263/263 [==============================] - 4s 17ms/step - loss: 0.6948 - accuracy: 0.7685 - val_loss: 0.6548 - val_accuracy: 0.7816 - lr: 5.9985e-04\n",
            "\n",
            "Epoch 5: LearningRateScheduler setting learning rate to 0.0005997351302908542.\n",
            "Epoch 5/300\n",
            "260/263 [============================>.] - ETA: 0s - loss: 0.6355 - accuracy: 0.7916\n",
            "Epoch 5: val_accuracy improved from 0.78157 to 0.80146, saving model to /content/drive/MyDrive/m_p/MLP/HyperMixer/Hissar_sentinel2/Without Pearson correlation/Trained models/75% ps_9\n"
          ]
        },
        {
          "output_type": "stream",
          "name": "stderr",
          "text": [
            "WARNING:absl:Found untraced functions such as layer_normalization_layer_call_fn, layer_normalization_layer_call_and_return_conditional_losses, layer_normalization_1_layer_call_fn, layer_normalization_1_layer_call_and_return_conditional_losses, mlp_layer_call_fn while saving (showing 5 of 30). These functions will not be directly callable after loading.\n"
          ]
        },
        {
          "output_type": "stream",
          "name": "stdout",
          "text": [
            "\b\b\b\b\b\b\b\b\b\b\b\b\b\b\b\b\b\b\b\b\b\b\b\b\b\b\b\b\b\b\b\b\b\b\b\b\b\b\b\b\b\b\b\b\b\b\b\b\b\b\b\b\b\b\b\b\b\b\b\b\b\b\b\b\b\b\b\b\b\b\b\b\b\b\b\b\b\b\b\b\b\b\b\b\r263/263 [==============================] - 6s 23ms/step - loss: 0.6355 - accuracy: 0.7916 - val_loss: 0.6032 - val_accuracy: 0.8015 - lr: 5.9974e-04\n",
            "\n",
            "Epoch 6: LearningRateScheduler setting learning rate to 0.0005995861753459288.\n",
            "Epoch 6/300\n",
            "263/263 [==============================] - ETA: 0s - loss: 0.5947 - accuracy: 0.8035\n",
            "Epoch 6: val_accuracy improved from 0.80146 to 0.81431, saving model to /content/drive/MyDrive/m_p/MLP/HyperMixer/Hissar_sentinel2/Without Pearson correlation/Trained models/75% ps_9\n"
          ]
        },
        {
          "output_type": "stream",
          "name": "stderr",
          "text": [
            "WARNING:absl:Found untraced functions such as layer_normalization_layer_call_fn, layer_normalization_layer_call_and_return_conditional_losses, layer_normalization_1_layer_call_fn, layer_normalization_1_layer_call_and_return_conditional_losses, mlp_layer_call_fn while saving (showing 5 of 30). These functions will not be directly callable after loading.\n"
          ]
        },
        {
          "output_type": "stream",
          "name": "stdout",
          "text": [
            "\b\b\b\b\b\b\b\b\b\b\b\b\b\b\b\b\b\b\b\b\b\b\b\b\b\b\b\b\b\b\b\b\b\b\b\b\b\b\b\b\b\b\b\b\b\b\b\b\b\b\b\b\b\b\b\b\b\b\b\b\b\b\b\b\b\b\b\b\b\b\b\b\b\b\b\b\b\b\b\b\b\b\b\b\r263/263 [==============================] - 4s 17ms/step - loss: 0.5947 - accuracy: 0.8035 - val_loss: 0.5673 - val_accuracy: 0.8143 - lr: 5.9959e-04\n",
            "\n",
            "Epoch 7: LearningRateScheduler setting learning rate to 0.0005994041528026842.\n",
            "Epoch 7/300\n",
            "258/263 [============================>.] - ETA: 0s - loss: 0.5676 - accuracy: 0.8109\n",
            "Epoch 7: val_accuracy improved from 0.81431 to 0.82377, saving model to /content/drive/MyDrive/m_p/MLP/HyperMixer/Hissar_sentinel2/Without Pearson correlation/Trained models/75% ps_9\n"
          ]
        },
        {
          "output_type": "stream",
          "name": "stderr",
          "text": [
            "WARNING:absl:Found untraced functions such as layer_normalization_layer_call_fn, layer_normalization_layer_call_and_return_conditional_losses, layer_normalization_1_layer_call_fn, layer_normalization_1_layer_call_and_return_conditional_losses, mlp_layer_call_fn while saving (showing 5 of 30). These functions will not be directly callable after loading.\n"
          ]
        },
        {
          "output_type": "stream",
          "name": "stdout",
          "text": [
            "\b\b\b\b\b\b\b\b\b\b\b\b\b\b\b\b\b\b\b\b\b\b\b\b\b\b\b\b\b\b\b\b\b\b\b\b\b\b\b\b\b\b\b\b\b\b\b\b\b\b\b\b\b\b\b\b\b\b\b\b\b\b\b\b\b\b\b\b\b\b\b\b\b\b\b\b\b\b\b\b\b\b\b\b\r263/263 [==============================] - 5s 18ms/step - loss: 0.5675 - accuracy: 0.8108 - val_loss: 0.5421 - val_accuracy: 0.8238 - lr: 5.9940e-04\n",
            "\n",
            "Epoch 8: LearningRateScheduler setting learning rate to 0.0005991890827556831.\n",
            "Epoch 8/300\n",
            "262/263 [============================>.] - ETA: 0s - loss: 0.5484 - accuracy: 0.8169\n",
            "Epoch 8: val_accuracy improved from 0.82377 to 0.82654, saving model to /content/drive/MyDrive/m_p/MLP/HyperMixer/Hissar_sentinel2/Without Pearson correlation/Trained models/75% ps_9\n"
          ]
        },
        {
          "output_type": "stream",
          "name": "stderr",
          "text": [
            "WARNING:absl:Found untraced functions such as layer_normalization_layer_call_fn, layer_normalization_layer_call_and_return_conditional_losses, layer_normalization_1_layer_call_fn, layer_normalization_1_layer_call_and_return_conditional_losses, mlp_layer_call_fn while saving (showing 5 of 30). These functions will not be directly callable after loading.\n"
          ]
        },
        {
          "output_type": "stream",
          "name": "stdout",
          "text": [
            "\b\b\b\b\b\b\b\b\b\b\b\b\b\b\b\b\b\b\b\b\b\b\b\b\b\b\b\b\b\b\b\b\b\b\b\b\b\b\b\b\b\b\b\b\b\b\b\b\b\b\b\b\b\b\b\b\b\b\b\b\b\b\b\b\b\b\b\b\b\b\b\b\b\b\b\b\b\b\b\b\b\b\b\b\r263/263 [==============================] - 6s 21ms/step - loss: 0.5481 - accuracy: 0.8171 - val_loss: 0.5235 - val_accuracy: 0.8265 - lr: 5.9919e-04\n",
            "\n",
            "Epoch 9: LearningRateScheduler setting learning rate to 0.0005989409889478.\n",
            "Epoch 9/300\n",
            "260/263 [============================>.] - ETA: 0s - loss: 0.5331 - accuracy: 0.8214\n",
            "Epoch 9: val_accuracy improved from 0.82654 to 0.83198, saving model to /content/drive/MyDrive/m_p/MLP/HyperMixer/Hissar_sentinel2/Without Pearson correlation/Trained models/75% ps_9\n"
          ]
        },
        {
          "output_type": "stream",
          "name": "stderr",
          "text": [
            "WARNING:absl:Found untraced functions such as layer_normalization_layer_call_fn, layer_normalization_layer_call_and_return_conditional_losses, layer_normalization_1_layer_call_fn, layer_normalization_1_layer_call_and_return_conditional_losses, mlp_layer_call_fn while saving (showing 5 of 30). These functions will not be directly callable after loading.\n"
          ]
        },
        {
          "output_type": "stream",
          "name": "stdout",
          "text": [
            "\b\b\b\b\b\b\b\b\b\b\b\b\b\b\b\b\b\b\b\b\b\b\b\b\b\b\b\b\b\b\b\b\b\b\b\b\b\b\b\b\b\b\b\b\b\b\b\b\b\b\b\b\b\b\b\b\b\b\b\b\b\b\b\b\b\b\b\b\b\b\b\b\b\b\b\b\b\b\b\b\b\b\b\b\r263/263 [==============================] - 5s 18ms/step - loss: 0.5332 - accuracy: 0.8211 - val_loss: 0.5094 - val_accuracy: 0.8320 - lr: 5.9894e-04\n",
            "\n",
            "Epoch 10: LearningRateScheduler setting learning rate to 0.0005986598987676014.\n",
            "Epoch 10/300\n",
            "263/263 [==============================] - ETA: 0s - loss: 0.5208 - accuracy: 0.8247\n",
            "Epoch 10: val_accuracy improved from 0.83198 to 0.83546, saving model to /content/drive/MyDrive/m_p/MLP/HyperMixer/Hissar_sentinel2/Without Pearson correlation/Trained models/75% ps_9\n"
          ]
        },
        {
          "output_type": "stream",
          "name": "stderr",
          "text": [
            "WARNING:absl:Found untraced functions such as layer_normalization_layer_call_fn, layer_normalization_layer_call_and_return_conditional_losses, layer_normalization_1_layer_call_fn, layer_normalization_1_layer_call_and_return_conditional_losses, mlp_layer_call_fn while saving (showing 5 of 30). These functions will not be directly callable after loading.\n"
          ]
        },
        {
          "output_type": "stream",
          "name": "stdout",
          "text": [
            "\b\b\b\b\b\b\b\b\b\b\b\b\b\b\b\b\b\b\b\b\b\b\b\b\b\b\b\b\b\b\b\b\b\b\b\b\b\b\b\b\b\b\b\b\b\b\b\b\b\b\b\b\b\b\b\b\b\b\b\b\b\b\b\b\b\b\b\b\b\b\b\b\b\b\b\b\b\b\b\b\b\b\b\b\r263/263 [==============================] - 5s 20ms/step - loss: 0.5208 - accuracy: 0.8247 - val_loss: 0.4979 - val_accuracy: 0.8355 - lr: 5.9866e-04\n",
            "\n",
            "Epoch 11: LearningRateScheduler setting learning rate to 0.0005983458432463212.\n",
            "Epoch 11/300\n",
            "259/263 [============================>.] - ETA: 0s - loss: 0.5096 - accuracy: 0.8283\n",
            "Epoch 11: val_accuracy improved from 0.83546 to 0.83956, saving model to /content/drive/MyDrive/m_p/MLP/HyperMixer/Hissar_sentinel2/Without Pearson correlation/Trained models/75% ps_9\n"
          ]
        },
        {
          "output_type": "stream",
          "name": "stderr",
          "text": [
            "WARNING:absl:Found untraced functions such as layer_normalization_layer_call_fn, layer_normalization_layer_call_and_return_conditional_losses, layer_normalization_1_layer_call_fn, layer_normalization_1_layer_call_and_return_conditional_losses, mlp_layer_call_fn while saving (showing 5 of 30). These functions will not be directly callable after loading.\n"
          ]
        },
        {
          "output_type": "stream",
          "name": "stdout",
          "text": [
            "\b\b\b\b\b\b\b\b\b\b\b\b\b\b\b\b\b\b\b\b\b\b\b\b\b\b\b\b\b\b\b\b\b\b\b\b\b\b\b\b\b\b\b\b\b\b\b\b\b\b\b\b\b\b\b\b\b\b\b\b\b\b\b\b\b\b\b\b\b\b\b\b\b\b\b\b\b\b\b\b\b\b\b\b\r263/263 [==============================] - 5s 20ms/step - loss: 0.5097 - accuracy: 0.8279 - val_loss: 0.4871 - val_accuracy: 0.8396 - lr: 5.9835e-04\n",
            "\n",
            "Epoch 12: LearningRateScheduler setting learning rate to 0.0005979988570544356.\n",
            "Epoch 12/300\n",
            "259/263 [============================>.] - ETA: 0s - loss: 0.4994 - accuracy: 0.8324\n",
            "Epoch 12: val_accuracy improved from 0.83956 to 0.84394, saving model to /content/drive/MyDrive/m_p/MLP/HyperMixer/Hissar_sentinel2/Without Pearson correlation/Trained models/75% ps_9\n"
          ]
        },
        {
          "output_type": "stream",
          "name": "stderr",
          "text": [
            "WARNING:absl:Found untraced functions such as layer_normalization_layer_call_fn, layer_normalization_layer_call_and_return_conditional_losses, layer_normalization_1_layer_call_fn, layer_normalization_1_layer_call_and_return_conditional_losses, mlp_layer_call_fn while saving (showing 5 of 30). These functions will not be directly callable after loading.\n"
          ]
        },
        {
          "output_type": "stream",
          "name": "stdout",
          "text": [
            "\b\b\b\b\b\b\b\b\b\b\b\b\b\b\b\b\b\b\b\b\b\b\b\b\b\b\b\b\b\b\b\b\b\b\b\b\b\b\b\b\b\b\b\b\b\b\b\b\b\b\b\b\b\b\b\b\b\b\b\b\b\b\b\b\b\b\b\b\b\b\b\b\b\b\b\b\b\b\b\b\b\b\b\b\r263/263 [==============================] - 4s 17ms/step - loss: 0.4995 - accuracy: 0.8321 - val_loss: 0.4791 - val_accuracy: 0.8439 - lr: 5.9800e-04\n",
            "\n",
            "Epoch 13: LearningRateScheduler setting learning rate to 0.0005976189784978356.\n",
            "Epoch 13/300\n",
            "260/263 [============================>.] - ETA: 0s - loss: 0.4901 - accuracy: 0.8359\n",
            "Epoch 13: val_accuracy improved from 0.84394 to 0.84581, saving model to /content/drive/MyDrive/m_p/MLP/HyperMixer/Hissar_sentinel2/Without Pearson correlation/Trained models/75% ps_9\n"
          ]
        },
        {
          "output_type": "stream",
          "name": "stderr",
          "text": [
            "WARNING:absl:Found untraced functions such as layer_normalization_layer_call_fn, layer_normalization_layer_call_and_return_conditional_losses, layer_normalization_1_layer_call_fn, layer_normalization_1_layer_call_and_return_conditional_losses, mlp_layer_call_fn while saving (showing 5 of 30). These functions will not be directly callable after loading.\n"
          ]
        },
        {
          "output_type": "stream",
          "name": "stdout",
          "text": [
            "\b\b\b\b\b\b\b\b\b\b\b\b\b\b\b\b\b\b\b\b\b\b\b\b\b\b\b\b\b\b\b\b\b\b\b\b\b\b\b\b\b\b\b\b\b\b\b\b\b\b\b\b\b\b\b\b\b\b\b\b\b\b\b\b\b\b\b\b\b\b\b\b\b\b\b\b\b\b\b\b\b\b\b\b\r263/263 [==============================] - 6s 22ms/step - loss: 0.4903 - accuracy: 0.8357 - val_loss: 0.4729 - val_accuracy: 0.8458 - lr: 5.9762e-04\n",
            "\n",
            "Epoch 14: LearningRateScheduler setting learning rate to 0.0005972062495135974.\n",
            "Epoch 14/300\n",
            "262/263 [============================>.] - ETA: 0s - loss: 0.4822 - accuracy: 0.8388\n",
            "Epoch 14: val_accuracy improved from 0.84581 to 0.84956, saving model to /content/drive/MyDrive/m_p/MLP/HyperMixer/Hissar_sentinel2/Without Pearson correlation/Trained models/75% ps_9\n"
          ]
        },
        {
          "output_type": "stream",
          "name": "stderr",
          "text": [
            "WARNING:absl:Found untraced functions such as layer_normalization_layer_call_fn, layer_normalization_layer_call_and_return_conditional_losses, layer_normalization_1_layer_call_fn, layer_normalization_1_layer_call_and_return_conditional_losses, mlp_layer_call_fn while saving (showing 5 of 30). These functions will not be directly callable after loading.\n"
          ]
        },
        {
          "output_type": "stream",
          "name": "stdout",
          "text": [
            "\b\b\b\b\b\b\b\b\b\b\b\b\b\b\b\b\b\b\b\b\b\b\b\b\b\b\b\b\b\b\b\b\b\b\b\b\b\b\b\b\b\b\b\b\b\b\b\b\b\b\b\b\b\b\b\b\b\b\b\b\b\b\b\b\b\b\b\b\b\b\b\b\b\b\b\b\b\b\b\b\b\b\b\b\r263/263 [==============================] - 4s 17ms/step - loss: 0.4819 - accuracy: 0.8388 - val_loss: 0.4674 - val_accuracy: 0.8496 - lr: 5.9721e-04\n",
            "\n",
            "Epoch 15: LearningRateScheduler setting learning rate to 0.0005967607156653538.\n",
            "Epoch 15/300\n",
            "259/263 [============================>.] - ETA: 0s - loss: 0.4737 - accuracy: 0.8418\n",
            "Epoch 15: val_accuracy improved from 0.84956 to 0.85152, saving model to /content/drive/MyDrive/m_p/MLP/HyperMixer/Hissar_sentinel2/Without Pearson correlation/Trained models/75% ps_9\n"
          ]
        },
        {
          "output_type": "stream",
          "name": "stderr",
          "text": [
            "WARNING:absl:Found untraced functions such as layer_normalization_layer_call_fn, layer_normalization_layer_call_and_return_conditional_losses, layer_normalization_1_layer_call_fn, layer_normalization_1_layer_call_and_return_conditional_losses, mlp_layer_call_fn while saving (showing 5 of 30). These functions will not be directly callable after loading.\n"
          ]
        },
        {
          "output_type": "stream",
          "name": "stdout",
          "text": [
            "\b\b\b\b\b\b\b\b\b\b\b\b\b\b\b\b\b\b\b\b\b\b\b\b\b\b\b\b\b\b\b\b\b\b\b\b\b\b\b\b\b\b\b\b\b\b\b\b\b\b\b\b\b\b\b\b\b\b\b\b\b\b\b\b\b\b\b\b\b\b\b\b\b\b\b\b\b\b\b\b\b\b\b\b\r263/263 [==============================] - 5s 18ms/step - loss: 0.4739 - accuracy: 0.8417 - val_loss: 0.4618 - val_accuracy: 0.8515 - lr: 5.9676e-04\n",
            "\n",
            "Epoch 16: LearningRateScheduler setting learning rate to 0.0005962824261382637.\n",
            "Epoch 16/300\n",
            "262/263 [============================>.] - ETA: 0s - loss: 0.4662 - accuracy: 0.8442\n",
            "Epoch 16: val_accuracy improved from 0.85152 to 0.85340, saving model to /content/drive/MyDrive/m_p/MLP/HyperMixer/Hissar_sentinel2/Without Pearson correlation/Trained models/75% ps_9\n"
          ]
        },
        {
          "output_type": "stream",
          "name": "stderr",
          "text": [
            "WARNING:absl:Found untraced functions such as layer_normalization_layer_call_fn, layer_normalization_layer_call_and_return_conditional_losses, layer_normalization_1_layer_call_fn, layer_normalization_1_layer_call_and_return_conditional_losses, mlp_layer_call_fn while saving (showing 5 of 30). These functions will not be directly callable after loading.\n"
          ]
        },
        {
          "output_type": "stream",
          "name": "stdout",
          "text": [
            "\b\b\b\b\b\b\b\b\b\b\b\b\b\b\b\b\b\b\b\b\b\b\b\b\b\b\b\b\b\b\b\b\b\b\b\b\b\b\b\b\b\b\b\b\b\b\b\b\b\b\b\b\b\b\b\b\b\b\b\b\b\b\b\b\b\b\b\b\b\b\b\b\b\b\b\b\b\b\b\b\b\b\b\b\r263/263 [==============================] - 6s 21ms/step - loss: 0.4659 - accuracy: 0.8443 - val_loss: 0.4555 - val_accuracy: 0.8534 - lr: 5.9628e-04\n",
            "\n",
            "Epoch 17: LearningRateScheduler setting learning rate to 0.0005957714337335819.\n",
            "Epoch 17/300\n",
            "260/263 [============================>.] - ETA: 0s - loss: 0.4579 - accuracy: 0.8471\n",
            "Epoch 17: val_accuracy improved from 0.85340 to 0.85464, saving model to /content/drive/MyDrive/m_p/MLP/HyperMixer/Hissar_sentinel2/Without Pearson correlation/Trained models/75% ps_9\n"
          ]
        },
        {
          "output_type": "stream",
          "name": "stderr",
          "text": [
            "WARNING:absl:Found untraced functions such as layer_normalization_layer_call_fn, layer_normalization_layer_call_and_return_conditional_losses, layer_normalization_1_layer_call_fn, layer_normalization_1_layer_call_and_return_conditional_losses, mlp_layer_call_fn while saving (showing 5 of 30). These functions will not be directly callable after loading.\n"
          ]
        },
        {
          "output_type": "stream",
          "name": "stdout",
          "text": [
            "\b\b\b\b\b\b\b\b\b\b\b\b\b\b\b\b\b\b\b\b\b\b\b\b\b\b\b\b\b\b\b\b\b\b\b\b\b\b\b\b\b\b\b\b\b\b\b\b\b\b\b\b\b\b\b\b\b\b\b\b\b\b\b\b\b\b\b\b\b\b\b\b\b\b\b\b\b\b\b\b\b\b\b\b\r263/263 [==============================] - 4s 17ms/step - loss: 0.4581 - accuracy: 0.8469 - val_loss: 0.4481 - val_accuracy: 0.8546 - lr: 5.9577e-04\n",
            "\n",
            "Epoch 18: LearningRateScheduler setting learning rate to 0.0005952277948628305.\n",
            "Epoch 18/300\n",
            "261/263 [============================>.] - ETA: 0s - loss: 0.4500 - accuracy: 0.8487\n",
            "Epoch 18: val_accuracy improved from 0.85464 to 0.85732, saving model to /content/drive/MyDrive/m_p/MLP/HyperMixer/Hissar_sentinel2/Without Pearson correlation/Trained models/75% ps_9\n"
          ]
        },
        {
          "output_type": "stream",
          "name": "stderr",
          "text": [
            "WARNING:absl:Found untraced functions such as layer_normalization_layer_call_fn, layer_normalization_layer_call_and_return_conditional_losses, layer_normalization_1_layer_call_fn, layer_normalization_1_layer_call_and_return_conditional_losses, mlp_layer_call_fn while saving (showing 5 of 30). These functions will not be directly callable after loading.\n"
          ]
        },
        {
          "output_type": "stream",
          "name": "stdout",
          "text": [
            "\b\b\b\b\b\b\b\b\b\b\b\b\b\b\b\b\b\b\b\b\b\b\b\b\b\b\b\b\b\b\b\b\b\b\b\b\b\b\b\b\b\b\b\b\b\b\b\b\b\b\b\b\b\b\b\b\b\b\b\b\b\b\b\b\b\b\b\b\b\b\b\b\b\b\b\b\b\b\b\b\b\b\b\b\r263/263 [==============================] - 5s 20ms/step - loss: 0.4501 - accuracy: 0.8485 - val_loss: 0.4398 - val_accuracy: 0.8573 - lr: 5.9523e-04\n",
            "\n",
            "Epoch 19: LearningRateScheduler setting learning rate to 0.0005946515695415714.\n",
            "Epoch 19/300\n",
            "256/263 [============================>.] - ETA: 0s - loss: 0.4416 - accuracy: 0.8518\n",
            "Epoch 19: val_accuracy improved from 0.85732 to 0.86027, saving model to /content/drive/MyDrive/m_p/MLP/HyperMixer/Hissar_sentinel2/Without Pearson correlation/Trained models/75% ps_9\n"
          ]
        },
        {
          "output_type": "stream",
          "name": "stderr",
          "text": [
            "WARNING:absl:Found untraced functions such as layer_normalization_layer_call_fn, layer_normalization_layer_call_and_return_conditional_losses, layer_normalization_1_layer_call_fn, layer_normalization_1_layer_call_and_return_conditional_losses, mlp_layer_call_fn while saving (showing 5 of 30). These functions will not be directly callable after loading.\n"
          ]
        },
        {
          "output_type": "stream",
          "name": "stdout",
          "text": [
            "\b\b\b\b\b\b\b\b\b\b\b\b\b\b\b\b\b\b\b\b\b\b\b\b\b\b\b\b\b\b\b\b\b\b\b\b\b\b\b\b\b\b\b\b\b\b\b\b\b\b\b\b\b\b\b\b\b\b\b\b\b\b\b\b\b\b\b\b\b\b\b\b\b\b\b\b\b\b\b\b\b\b\b\b\r263/263 [==============================] - 7s 28ms/step - loss: 0.4421 - accuracy: 0.8515 - val_loss: 0.4318 - val_accuracy: 0.8603 - lr: 5.9465e-04\n",
            "\n",
            "Epoch 20: LearningRateScheduler setting learning rate to 0.0005940428213827801.\n",
            "Epoch 20/300\n",
            "263/263 [==============================] - ETA: 0s - loss: 0.4338 - accuracy: 0.8542\n",
            "Epoch 20: val_accuracy improved from 0.86027 to 0.86232, saving model to /content/drive/MyDrive/m_p/MLP/HyperMixer/Hissar_sentinel2/Without Pearson correlation/Trained models/75% ps_9\n"
          ]
        },
        {
          "output_type": "stream",
          "name": "stderr",
          "text": [
            "WARNING:absl:Found untraced functions such as layer_normalization_layer_call_fn, layer_normalization_layer_call_and_return_conditional_losses, layer_normalization_1_layer_call_fn, layer_normalization_1_layer_call_and_return_conditional_losses, mlp_layer_call_fn while saving (showing 5 of 30). These functions will not be directly callable after loading.\n"
          ]
        },
        {
          "output_type": "stream",
          "name": "stdout",
          "text": [
            "\b\b\b\b\b\b\b\b\b\b\b\b\b\b\b\b\b\b\b\b\b\b\b\b\b\b\b\b\b\b\b\b\b\b\b\b\b\b\b\b\b\b\b\b\b\b\b\b\b\b\b\b\b\b\b\b\b\b\b\b\b\b\b\b\b\b\b\b\b\b\b\b\b\b\b\b\b\b\b\b\b\b\b\b\r263/263 [==============================] - 4s 17ms/step - loss: 0.4338 - accuracy: 0.8542 - val_loss: 0.4249 - val_accuracy: 0.8623 - lr: 5.9404e-04\n",
            "\n",
            "Epoch 21: LearningRateScheduler setting learning rate to 0.000593401617589824.\n",
            "Epoch 21/300\n",
            "262/263 [============================>.] - ETA: 0s - loss: 0.4244 - accuracy: 0.8582\n",
            "Epoch 21: val_accuracy improved from 0.86232 to 0.86544, saving model to /content/drive/MyDrive/m_p/MLP/HyperMixer/Hissar_sentinel2/Without Pearson correlation/Trained models/75% ps_9\n"
          ]
        },
        {
          "output_type": "stream",
          "name": "stderr",
          "text": [
            "WARNING:absl:Found untraced functions such as layer_normalization_layer_call_fn, layer_normalization_layer_call_and_return_conditional_losses, layer_normalization_1_layer_call_fn, layer_normalization_1_layer_call_and_return_conditional_losses, mlp_layer_call_fn while saving (showing 5 of 30). These functions will not be directly callable after loading.\n"
          ]
        },
        {
          "output_type": "stream",
          "name": "stdout",
          "text": [
            "\b\b\b\b\b\b\b\b\b\b\b\b\b\b\b\b\b\b\b\b\b\b\b\b\b\b\b\b\b\b\b\b\b\b\b\b\b\b\b\b\b\b\b\b\b\b\b\b\b\b\b\b\b\b\b\b\b\b\b\b\b\b\b\b\b\b\b\b\b\b\b\b\b\b\b\b\b\b\b\b\b\b\b\b\r263/263 [==============================] - 6s 23ms/step - loss: 0.4243 - accuracy: 0.8581 - val_loss: 0.4148 - val_accuracy: 0.8654 - lr: 5.9340e-04\n",
            "\n",
            "Epoch 22: LearningRateScheduler setting learning rate to 0.0005927280289490428.\n",
            "Epoch 22/300\n",
            "257/263 [============================>.] - ETA: 0s - loss: 0.4135 - accuracy: 0.8621\n",
            "Epoch 22: val_accuracy improved from 0.86544 to 0.87017, saving model to /content/drive/MyDrive/m_p/MLP/HyperMixer/Hissar_sentinel2/Without Pearson correlation/Trained models/75% ps_9\n"
          ]
        },
        {
          "output_type": "stream",
          "name": "stderr",
          "text": [
            "WARNING:absl:Found untraced functions such as layer_normalization_layer_call_fn, layer_normalization_layer_call_and_return_conditional_losses, layer_normalization_1_layer_call_fn, layer_normalization_1_layer_call_and_return_conditional_losses, mlp_layer_call_fn while saving (showing 5 of 30). These functions will not be directly callable after loading.\n"
          ]
        },
        {
          "output_type": "stream",
          "name": "stdout",
          "text": [
            "\b\b\b\b\b\b\b\b\b\b\b\b\b\b\b\b\b\b\b\b\b\b\b\b\b\b\b\b\b\b\b\b\b\b\b\b\b\b\b\b\b\b\b\b\b\b\b\b\b\b\b\b\b\b\b\b\b\b\b\b\b\b\b\b\b\b\b\b\b\b\b\b\b\b\b\b\b\b\b\b\b\b\b\b\r263/263 [==============================] - 4s 17ms/step - loss: 0.4140 - accuracy: 0.8617 - val_loss: 0.3983 - val_accuracy: 0.8702 - lr: 5.9273e-04\n",
            "\n",
            "Epoch 23: LearningRateScheduler setting learning rate to 0.000592022129821934.\n",
            "Epoch 23/300\n",
            "258/263 [============================>.] - ETA: 0s - loss: 0.4029 - accuracy: 0.8670\n",
            "Epoch 23: val_accuracy improved from 0.87017 to 0.87615, saving model to /content/drive/MyDrive/m_p/MLP/HyperMixer/Hissar_sentinel2/Without Pearson correlation/Trained models/75% ps_9\n"
          ]
        },
        {
          "output_type": "stream",
          "name": "stderr",
          "text": [
            "WARNING:absl:Found untraced functions such as layer_normalization_layer_call_fn, layer_normalization_layer_call_and_return_conditional_losses, layer_normalization_1_layer_call_fn, layer_normalization_1_layer_call_and_return_conditional_losses, mlp_layer_call_fn while saving (showing 5 of 30). These functions will not be directly callable after loading.\n"
          ]
        },
        {
          "output_type": "stream",
          "name": "stdout",
          "text": [
            "\b\b\b\b\b\b\b\b\b\b\b\b\b\b\b\b\b\b\b\b\b\b\b\b\b\b\b\b\b\b\b\b\b\b\b\b\b\b\b\b\b\b\b\b\b\b\b\b\b\b\b\b\b\b\b\b\b\b\b\b\b\b\b\b\b\b\b\b\b\b\b\b\b\b\b\b\b\b\b\b\b\b\b\b\r263/263 [==============================] - 5s 19ms/step - loss: 0.4032 - accuracy: 0.8668 - val_loss: 0.3793 - val_accuracy: 0.8761 - lr: 5.9202e-04\n",
            "\n",
            "Epoch 24: LearningRateScheduler setting learning rate to 0.0005912839981369443.\n",
            "Epoch 24/300\n",
            "262/263 [============================>.] - ETA: 0s - loss: 0.3926 - accuracy: 0.8717\n",
            "Epoch 24: val_accuracy improved from 0.87615 to 0.88132, saving model to /content/drive/MyDrive/m_p/MLP/HyperMixer/Hissar_sentinel2/Without Pearson correlation/Trained models/75% ps_9\n"
          ]
        },
        {
          "output_type": "stream",
          "name": "stderr",
          "text": [
            "WARNING:absl:Found untraced functions such as layer_normalization_layer_call_fn, layer_normalization_layer_call_and_return_conditional_losses, layer_normalization_1_layer_call_fn, layer_normalization_1_layer_call_and_return_conditional_losses, mlp_layer_call_fn while saving (showing 5 of 30). These functions will not be directly callable after loading.\n"
          ]
        },
        {
          "output_type": "stream",
          "name": "stdout",
          "text": [
            "\b\b\b\b\b\b\b\b\b\b\b\b\b\b\b\b\b\b\b\b\b\b\b\b\b\b\b\b\b\b\b\b\b\b\b\b\b\b\b\b\b\b\b\b\b\b\b\b\b\b\b\b\b\b\b\b\b\b\b\b\b\b\b\b\b\b\b\b\b\b\b\b\b\b\b\b\b\b\b\b\b\b\b\b\r263/263 [==============================] - 5s 19ms/step - loss: 0.3924 - accuracy: 0.8717 - val_loss: 0.3634 - val_accuracy: 0.8813 - lr: 5.9128e-04\n",
            "\n",
            "Epoch 25: LearningRateScheduler setting learning rate to 0.0005905137153808655.\n",
            "Epoch 25/300\n",
            "262/263 [============================>.] - ETA: 0s - loss: 0.3816 - accuracy: 0.8753\n",
            "Epoch 25: val_accuracy improved from 0.88132 to 0.88605, saving model to /content/drive/MyDrive/m_p/MLP/HyperMixer/Hissar_sentinel2/Without Pearson correlation/Trained models/75% ps_9\n"
          ]
        },
        {
          "output_type": "stream",
          "name": "stderr",
          "text": [
            "WARNING:absl:Found untraced functions such as layer_normalization_layer_call_fn, layer_normalization_layer_call_and_return_conditional_losses, layer_normalization_1_layer_call_fn, layer_normalization_1_layer_call_and_return_conditional_losses, mlp_layer_call_fn while saving (showing 5 of 30). These functions will not be directly callable after loading.\n"
          ]
        },
        {
          "output_type": "stream",
          "name": "stdout",
          "text": [
            "\b\b\b\b\b\b\b\b\b\b\b\b\b\b\b\b\b\b\b\b\b\b\b\b\b\b\b\b\b\b\b\b\b\b\b\b\b\b\b\b\b\b\b\b\b\b\b\b\b\b\b\b\b\b\b\b\b\b\b\b\b\b\b\b\b\b\b\b\b\b\b\b\b\b\b\b\b\b\b\b\b\b\b\b\r263/263 [==============================] - 5s 19ms/step - loss: 0.3815 - accuracy: 0.8753 - val_loss: 0.3503 - val_accuracy: 0.8861 - lr: 5.9051e-04\n",
            "\n",
            "Epoch 26: LearningRateScheduler setting learning rate to 0.0005897113665898402.\n",
            "Epoch 26/300\n",
            "263/263 [==============================] - ETA: 0s - loss: 0.3703 - accuracy: 0.8796\n",
            "Epoch 26: val_accuracy improved from 0.88605 to 0.89105, saving model to /content/drive/MyDrive/m_p/MLP/HyperMixer/Hissar_sentinel2/Without Pearson correlation/Trained models/75% ps_9\n"
          ]
        },
        {
          "output_type": "stream",
          "name": "stderr",
          "text": [
            "WARNING:absl:Found untraced functions such as layer_normalization_layer_call_fn, layer_normalization_layer_call_and_return_conditional_losses, layer_normalization_1_layer_call_fn, layer_normalization_1_layer_call_and_return_conditional_losses, mlp_layer_call_fn while saving (showing 5 of 30). These functions will not be directly callable after loading.\n"
          ]
        },
        {
          "output_type": "stream",
          "name": "stdout",
          "text": [
            "\b\b\b\b\b\b\b\b\b\b\b\b\b\b\b\b\b\b\b\b\b\b\b\b\b\b\b\b\b\b\b\b\b\b\b\b\b\b\b\b\b\b\b\b\b\b\b\b\b\b\b\b\b\b\b\b\b\b\b\b\b\b\b\b\b\b\b\b\b\b\b\b\b\b\b\b\b\b\b\b\b\b\b\b\r263/263 [==============================] - 6s 21ms/step - loss: 0.3703 - accuracy: 0.8796 - val_loss: 0.3403 - val_accuracy: 0.8911 - lr: 5.8971e-04\n",
            "\n",
            "Epoch 27: LearningRateScheduler setting learning rate to 0.0005888770403399724.\n",
            "Epoch 27/300\n",
            "262/263 [============================>.] - ETA: 0s - loss: 0.3594 - accuracy: 0.8837\n",
            "Epoch 27: val_accuracy improved from 0.89105 to 0.89239, saving model to /content/drive/MyDrive/m_p/MLP/HyperMixer/Hissar_sentinel2/Without Pearson correlation/Trained models/75% ps_9\n"
          ]
        },
        {
          "output_type": "stream",
          "name": "stderr",
          "text": [
            "WARNING:absl:Found untraced functions such as layer_normalization_layer_call_fn, layer_normalization_layer_call_and_return_conditional_losses, layer_normalization_1_layer_call_fn, layer_normalization_1_layer_call_and_return_conditional_losses, mlp_layer_call_fn while saving (showing 5 of 30). These functions will not be directly callable after loading.\n"
          ]
        },
        {
          "output_type": "stream",
          "name": "stdout",
          "text": [
            "\b\b\b\b\b\b\b\b\b\b\b\b\b\b\b\b\b\b\b\b\b\b\b\b\b\b\b\b\b\b\b\b\b\b\b\b\b\b\b\b\b\b\b\b\b\b\b\b\b\b\b\b\b\b\b\b\b\b\b\b\b\b\b\b\b\b\b\b\b\b\b\b\b\b\b\b\b\b\b\b\b\b\b\b\r263/263 [==============================] - 4s 17ms/step - loss: 0.3591 - accuracy: 0.8837 - val_loss: 0.3335 - val_accuracy: 0.8924 - lr: 5.8888e-04\n",
            "\n",
            "Epoch 28: LearningRateScheduler setting learning rate to 0.0005880108287375503.\n",
            "Epoch 28/300\n",
            "258/263 [============================>.] - ETA: 0s - loss: 0.3485 - accuracy: 0.8869\n",
            "Epoch 28: val_accuracy improved from 0.89239 to 0.89382, saving model to /content/drive/MyDrive/m_p/MLP/HyperMixer/Hissar_sentinel2/Without Pearson correlation/Trained models/75% ps_9\n"
          ]
        },
        {
          "output_type": "stream",
          "name": "stderr",
          "text": [
            "WARNING:absl:Found untraced functions such as layer_normalization_layer_call_fn, layer_normalization_layer_call_and_return_conditional_losses, layer_normalization_1_layer_call_fn, layer_normalization_1_layer_call_and_return_conditional_losses, mlp_layer_call_fn while saving (showing 5 of 30). These functions will not be directly callable after loading.\n"
          ]
        },
        {
          "output_type": "stream",
          "name": "stdout",
          "text": [
            "\b\b\b\b\b\b\b\b\b\b\b\b\b\b\b\b\b\b\b\b\b\b\b\b\b\b\b\b\b\b\b\b\b\b\b\b\b\b\b\b\b\b\b\b\b\b\b\b\b\b\b\b\b\b\b\b\b\b\b\b\b\b\b\b\b\b\b\b\b\b\b\b\b\b\b\b\b\b\b\b\b\b\b\b\r263/263 [==============================] - 5s 19ms/step - loss: 0.3482 - accuracy: 0.8869 - val_loss: 0.3279 - val_accuracy: 0.8938 - lr: 5.8801e-04\n",
            "\n",
            "Epoch 29: LearningRateScheduler setting learning rate to 0.000587112827408878.\n",
            "Epoch 29/300\n",
            "262/263 [============================>.] - ETA: 0s - loss: 0.3380 - accuracy: 0.8905\n",
            "Epoch 29: val_accuracy did not improve from 0.89382\n",
            "263/263 [==============================] - 3s 13ms/step - loss: 0.3378 - accuracy: 0.8906 - val_loss: 0.3234 - val_accuracy: 0.8933 - lr: 5.8711e-04\n",
            "\n",
            "Epoch 30: LearningRateScheduler setting learning rate to 0.0005861831354897182.\n",
            "Epoch 30/300\n",
            "261/263 [============================>.] - ETA: 0s - loss: 0.3294 - accuracy: 0.8946\n",
            "Epoch 30: val_accuracy did not improve from 0.89382\n",
            "263/263 [==============================] - 3s 11ms/step - loss: 0.3290 - accuracy: 0.8947 - val_loss: 0.3191 - val_accuracy: 0.8938 - lr: 5.8618e-04\n",
            "\n",
            "Epoch 31: LearningRateScheduler setting learning rate to 0.0005852218556143483.\n",
            "Epoch 31/300\n",
            "261/263 [============================>.] - ETA: 0s - loss: 0.3217 - accuracy: 0.8970\n",
            "Epoch 31: val_accuracy improved from 0.89382 to 0.89560, saving model to /content/drive/MyDrive/m_p/MLP/HyperMixer/Hissar_sentinel2/Without Pearson correlation/Trained models/75% ps_9\n"
          ]
        },
        {
          "output_type": "stream",
          "name": "stderr",
          "text": [
            "WARNING:absl:Found untraced functions such as layer_normalization_layer_call_fn, layer_normalization_layer_call_and_return_conditional_losses, layer_normalization_1_layer_call_fn, layer_normalization_1_layer_call_and_return_conditional_losses, mlp_layer_call_fn while saving (showing 5 of 30). These functions will not be directly callable after loading.\n"
          ]
        },
        {
          "output_type": "stream",
          "name": "stdout",
          "text": [
            "\b\b\b\b\b\b\b\b\b\b\b\b\b\b\b\b\b\b\b\b\b\b\b\b\b\b\b\b\b\b\b\b\b\b\b\b\b\b\b\b\b\b\b\b\b\b\b\b\b\b\b\b\b\b\b\b\b\b\b\b\b\b\b\b\b\b\b\b\b\b\b\b\b\b\b\b\b\b\b\b\b\b\b\b\r263/263 [==============================] - 5s 18ms/step - loss: 0.3214 - accuracy: 0.8972 - val_loss: 0.3143 - val_accuracy: 0.8956 - lr: 5.8522e-04\n",
            "\n",
            "Epoch 32: LearningRateScheduler setting learning rate to 0.0005842290939042303.\n",
            "Epoch 32/300\n",
            "256/263 [============================>.] - ETA: 0s - loss: 0.3153 - accuracy: 0.8984\n",
            "Epoch 32: val_accuracy improved from 0.89560 to 0.89819, saving model to /content/drive/MyDrive/m_p/MLP/HyperMixer/Hissar_sentinel2/Without Pearson correlation/Trained models/75% ps_9\n"
          ]
        },
        {
          "output_type": "stream",
          "name": "stderr",
          "text": [
            "WARNING:absl:Found untraced functions such as layer_normalization_layer_call_fn, layer_normalization_layer_call_and_return_conditional_losses, layer_normalization_1_layer_call_fn, layer_normalization_1_layer_call_and_return_conditional_losses, mlp_layer_call_fn while saving (showing 5 of 30). These functions will not be directly callable after loading.\n"
          ]
        },
        {
          "output_type": "stream",
          "name": "stdout",
          "text": [
            "\b\b\b\b\b\b\b\b\b\b\b\b\b\b\b\b\b\b\b\b\b\b\b\b\b\b\b\b\b\b\b\b\b\b\b\b\b\b\b\b\b\b\b\b\b\b\b\b\b\b\b\b\b\b\b\b\b\b\b\b\b\b\b\b\b\b\b\b\b\b\b\b\b\b\b\b\b\b\b\b\b\b\b\b\r263/263 [==============================] - 5s 19ms/step - loss: 0.3148 - accuracy: 0.8988 - val_loss: 0.3101 - val_accuracy: 0.8982 - lr: 5.8423e-04\n",
            "\n",
            "Epoch 33: LearningRateScheduler setting learning rate to 0.0005832049599562947.\n",
            "Epoch 33/300\n",
            "260/263 [============================>.] - ETA: 0s - loss: 0.3098 - accuracy: 0.8996\n",
            "Epoch 33: val_accuracy did not improve from 0.89819\n",
            "263/263 [==============================] - 3s 11ms/step - loss: 0.3094 - accuracy: 0.8999 - val_loss: 0.3079 - val_accuracy: 0.8980 - lr: 5.8320e-04\n",
            "\n",
            "Epoch 34: LearningRateScheduler setting learning rate to 0.0005821495668308423.\n",
            "Epoch 34/300\n",
            "259/263 [============================>.] - ETA: 0s - loss: 0.3038 - accuracy: 0.9018\n",
            "Epoch 34: val_accuracy improved from 0.89819 to 0.90104, saving model to /content/drive/MyDrive/m_p/MLP/HyperMixer/Hissar_sentinel2/Without Pearson correlation/Trained models/75% ps_9\n"
          ]
        },
        {
          "output_type": "stream",
          "name": "stderr",
          "text": [
            "WARNING:absl:Found untraced functions such as layer_normalization_layer_call_fn, layer_normalization_layer_call_and_return_conditional_losses, layer_normalization_1_layer_call_fn, layer_normalization_1_layer_call_and_return_conditional_losses, mlp_layer_call_fn while saving (showing 5 of 30). These functions will not be directly callable after loading.\n"
          ]
        },
        {
          "output_type": "stream",
          "name": "stdout",
          "text": [
            "\b\b\b\b\b\b\b\b\b\b\b\b\b\b\b\b\b\b\b\b\b\b\b\b\b\b\b\b\b\b\b\b\b\b\b\b\b\b\b\b\b\b\b\b\b\b\b\b\b\b\b\b\b\b\b\b\b\b\b\b\b\b\b\b\b\b\b\b\b\b\b\b\b\b\b\b\b\b\b\b\b\b\b\b\r263/263 [==============================] - 5s 18ms/step - loss: 0.3037 - accuracy: 0.9020 - val_loss: 0.3019 - val_accuracy: 0.9010 - lr: 5.8215e-04\n",
            "\n",
            "Epoch 35: LearningRateScheduler setting learning rate to 0.000581063031039062.\n",
            "Epoch 35/300\n",
            "260/263 [============================>.] - ETA: 0s - loss: 0.2940 - accuracy: 0.9051\n",
            "Epoch 35: val_accuracy improved from 0.90104 to 0.90399, saving model to /content/drive/MyDrive/m_p/MLP/HyperMixer/Hissar_sentinel2/Without Pearson correlation/Trained models/75% ps_9\n"
          ]
        },
        {
          "output_type": "stream",
          "name": "stderr",
          "text": [
            "WARNING:absl:Found untraced functions such as layer_normalization_layer_call_fn, layer_normalization_layer_call_and_return_conditional_losses, layer_normalization_1_layer_call_fn, layer_normalization_1_layer_call_and_return_conditional_losses, mlp_layer_call_fn while saving (showing 5 of 30). These functions will not be directly callable after loading.\n"
          ]
        },
        {
          "output_type": "stream",
          "name": "stdout",
          "text": [
            "\b\b\b\b\b\b\b\b\b\b\b\b\b\b\b\b\b\b\b\b\b\b\b\b\b\b\b\b\b\b\b\b\b\b\b\b\b\b\b\b\b\b\b\b\b\b\b\b\b\b\b\b\b\b\b\b\b\b\b\b\b\b\b\b\b\b\b\b\b\b\b\b\b\b\b\b\b\b\b\b\b\b\b\b\r263/263 [==============================] - 5s 18ms/step - loss: 0.2937 - accuracy: 0.9054 - val_loss: 0.2926 - val_accuracy: 0.9040 - lr: 5.8106e-04\n",
            "\n",
            "Epoch 36: LearningRateScheduler setting learning rate to 0.0005799454725301688.\n",
            "Epoch 36/300\n",
            "260/263 [============================>.] - ETA: 0s - loss: 0.2833 - accuracy: 0.9086\n",
            "Epoch 36: val_accuracy improved from 0.90399 to 0.90631, saving model to /content/drive/MyDrive/m_p/MLP/HyperMixer/Hissar_sentinel2/Without Pearson correlation/Trained models/75% ps_9\n"
          ]
        },
        {
          "output_type": "stream",
          "name": "stderr",
          "text": [
            "WARNING:absl:Found untraced functions such as layer_normalization_layer_call_fn, layer_normalization_layer_call_and_return_conditional_losses, layer_normalization_1_layer_call_fn, layer_normalization_1_layer_call_and_return_conditional_losses, mlp_layer_call_fn while saving (showing 5 of 30). These functions will not be directly callable after loading.\n"
          ]
        },
        {
          "output_type": "stream",
          "name": "stdout",
          "text": [
            "\b\b\b\b\b\b\b\b\b\b\b\b\b\b\b\b\b\b\b\b\b\b\b\b\b\b\b\b\b\b\b\b\b\b\b\b\b\b\b\b\b\b\b\b\b\b\b\b\b\b\b\b\b\b\b\b\b\b\b\b\b\b\b\b\b\b\b\b\b\b\b\b\b\b\b\b\b\b\b\b\b\b\b\b\r263/263 [==============================] - 5s 20ms/step - loss: 0.2830 - accuracy: 0.9088 - val_loss: 0.2863 - val_accuracy: 0.9063 - lr: 5.7995e-04\n",
            "\n",
            "Epoch 37: LearningRateScheduler setting learning rate to 0.000578797014678162.\n",
            "Epoch 37/300\n",
            "258/263 [============================>.] - ETA: 0s - loss: 0.2728 - accuracy: 0.9119\n",
            "Epoch 37: val_accuracy improved from 0.90631 to 0.90702, saving model to /content/drive/MyDrive/m_p/MLP/HyperMixer/Hissar_sentinel2/Without Pearson correlation/Trained models/75% ps_9\n"
          ]
        },
        {
          "output_type": "stream",
          "name": "stderr",
          "text": [
            "WARNING:absl:Found untraced functions such as layer_normalization_layer_call_fn, layer_normalization_layer_call_and_return_conditional_losses, layer_normalization_1_layer_call_fn, layer_normalization_1_layer_call_and_return_conditional_losses, mlp_layer_call_fn while saving (showing 5 of 30). These functions will not be directly callable after loading.\n"
          ]
        },
        {
          "output_type": "stream",
          "name": "stdout",
          "text": [
            "\b\b\b\b\b\b\b\b\b\b\b\b\b\b\b\b\b\b\b\b\b\b\b\b\b\b\b\b\b\b\b\b\b\b\b\b\b\b\b\b\b\b\b\b\b\b\b\b\b\b\b\b\b\b\b\b\b\b\b\b\b\b\b\b\b\b\b\b\b\b\b\b\b\b\b\b\b\b\b\b\b\b\b\b\r263/263 [==============================] - 4s 17ms/step - loss: 0.2725 - accuracy: 0.9121 - val_loss: 0.2840 - val_accuracy: 0.9070 - lr: 5.7880e-04\n",
            "\n",
            "Epoch 38: LearningRateScheduler setting learning rate to 0.0005776177842682051.\n",
            "Epoch 38/300\n",
            "263/263 [==============================] - ETA: 0s - loss: 0.2623 - accuracy: 0.9148\n",
            "Epoch 38: val_accuracy did not improve from 0.90702\n",
            "263/263 [==============================] - 2s 9ms/step - loss: 0.2623 - accuracy: 0.9148 - val_loss: 0.2827 - val_accuracy: 0.9067 - lr: 5.7762e-04\n",
            "\n",
            "Epoch 39: LearningRateScheduler setting learning rate to 0.000576407911482629.\n",
            "Epoch 39/300\n",
            "262/263 [============================>.] - ETA: 0s - loss: 0.2535 - accuracy: 0.9179\n",
            "Epoch 39: val_accuracy improved from 0.90702 to 0.90872, saving model to /content/drive/MyDrive/m_p/MLP/HyperMixer/Hissar_sentinel2/Without Pearson correlation/Trained models/75% ps_9\n"
          ]
        },
        {
          "output_type": "stream",
          "name": "stderr",
          "text": [
            "WARNING:absl:Found untraced functions such as layer_normalization_layer_call_fn, layer_normalization_layer_call_and_return_conditional_losses, layer_normalization_1_layer_call_fn, layer_normalization_1_layer_call_and_return_conditional_losses, mlp_layer_call_fn while saving (showing 5 of 30). These functions will not be directly callable after loading.\n"
          ]
        },
        {
          "output_type": "stream",
          "name": "stdout",
          "text": [
            "\b\b\b\b\b\b\b\b\b\b\b\b\b\b\b\b\b\b\b\b\b\b\b\b\b\b\b\b\b\b\b\b\b\b\b\b\b\b\b\b\b\b\b\b\b\b\b\b\b\b\b\b\b\b\b\b\b\b\b\b\b\b\b\b\b\b\b\b\b\b\b\b\b\b\b\b\b\b\b\b\b\b\b\b\r263/263 [==============================] - 6s 23ms/step - loss: 0.2532 - accuracy: 0.9181 - val_loss: 0.2775 - val_accuracy: 0.9087 - lr: 5.7641e-04\n",
            "\n",
            "Epoch 40: LearningRateScheduler setting learning rate to 0.0005751675298865605.\n",
            "Epoch 40/300\n",
            "262/263 [============================>.] - ETA: 0s - loss: 0.2453 - accuracy: 0.9197\n",
            "Epoch 40: val_accuracy improved from 0.90872 to 0.91247, saving model to /content/drive/MyDrive/m_p/MLP/HyperMixer/Hissar_sentinel2/Without Pearson correlation/Trained models/75% ps_9\n"
          ]
        },
        {
          "output_type": "stream",
          "name": "stderr",
          "text": [
            "WARNING:absl:Found untraced functions such as layer_normalization_layer_call_fn, layer_normalization_layer_call_and_return_conditional_losses, layer_normalization_1_layer_call_fn, layer_normalization_1_layer_call_and_return_conditional_losses, mlp_layer_call_fn while saving (showing 5 of 30). These functions will not be directly callable after loading.\n"
          ]
        },
        {
          "output_type": "stream",
          "name": "stdout",
          "text": [
            "\b\b\b\b\b\b\b\b\b\b\b\b\b\b\b\b\b\b\b\b\b\b\b\b\b\b\b\b\b\b\b\b\b\b\b\b\b\b\b\b\b\b\b\b\b\b\b\b\b\b\b\b\b\b\b\b\b\b\b\b\b\b\b\b\b\b\b\b\b\b\b\b\b\b\b\b\b\b\b\b\b\b\b\b\r263/263 [==============================] - 4s 17ms/step - loss: 0.2451 - accuracy: 0.9198 - val_loss: 0.2716 - val_accuracy: 0.9125 - lr: 5.7517e-04\n",
            "\n",
            "Epoch 41: LearningRateScheduler setting learning rate to 0.0005738967764131778.\n",
            "Epoch 41/300\n",
            "257/263 [============================>.] - ETA: 0s - loss: 0.2377 - accuracy: 0.9218\n",
            "Epoch 41: val_accuracy improved from 0.91247 to 0.91496, saving model to /content/drive/MyDrive/m_p/MLP/HyperMixer/Hissar_sentinel2/Without Pearson correlation/Trained models/75% ps_9\n"
          ]
        },
        {
          "output_type": "stream",
          "name": "stderr",
          "text": [
            "WARNING:absl:Found untraced functions such as layer_normalization_layer_call_fn, layer_normalization_layer_call_and_return_conditional_losses, layer_normalization_1_layer_call_fn, layer_normalization_1_layer_call_and_return_conditional_losses, mlp_layer_call_fn while saving (showing 5 of 30). These functions will not be directly callable after loading.\n"
          ]
        },
        {
          "output_type": "stream",
          "name": "stdout",
          "text": [
            "\b\b\b\b\b\b\b\b\b\b\b\b\b\b\b\b\b\b\b\b\b\b\b\b\b\b\b\b\b\b\b\b\b\b\b\b\b\b\b\b\b\b\b\b\b\b\b\b\b\b\b\b\b\b\b\b\b\b\b\b\b\b\b\b\b\b\b\b\b\b\b\b\b\b\b\b\b\b\b\b\b\b\b\b\r263/263 [==============================] - 5s 18ms/step - loss: 0.2372 - accuracy: 0.9223 - val_loss: 0.2675 - val_accuracy: 0.9150 - lr: 5.7390e-04\n",
            "\n",
            "Epoch 42: LearningRateScheduler setting learning rate to 0.0005725957913485927.\n",
            "Epoch 42/300\n",
            "259/263 [============================>.] - ETA: 0s - loss: 0.2295 - accuracy: 0.9241\n",
            "Epoch 42: val_accuracy did not improve from 0.91496\n",
            "263/263 [==============================] - 3s 13ms/step - loss: 0.2293 - accuracy: 0.9242 - val_loss: 0.2674 - val_accuracy: 0.9140 - lr: 5.7260e-04\n",
            "\n",
            "Epoch 43: LearningRateScheduler setting learning rate to 0.0005712647183163642.\n",
            "Epoch 43/300\n",
            "263/263 [==============================] - ETA: 0s - loss: 0.2209 - accuracy: 0.9264\n",
            "Epoch 43: val_accuracy did not improve from 0.91496\n",
            "263/263 [==============================] - 2s 9ms/step - loss: 0.2209 - accuracy: 0.9264 - val_loss: 0.2726 - val_accuracy: 0.9125 - lr: 5.7126e-04\n",
            "\n",
            "Epoch 44: LearningRateScheduler setting learning rate to 0.0005699037042616427.\n",
            "Epoch 44/300\n",
            "257/263 [============================>.] - ETA: 0s - loss: 0.2129 - accuracy: 0.9280\n",
            "Epoch 44: val_accuracy did not improve from 0.91496\n",
            "263/263 [==============================] - 2s 9ms/step - loss: 0.2125 - accuracy: 0.9283 - val_loss: 0.2680 - val_accuracy: 0.9136 - lr: 5.6990e-04\n",
            "\n",
            "Epoch 45: LearningRateScheduler setting learning rate to 0.0005685128994349479.\n",
            "Epoch 45/300\n",
            "262/263 [============================>.] - ETA: 0s - loss: 0.2051 - accuracy: 0.9308\n",
            "Epoch 45: val_accuracy improved from 0.91496 to 0.91809, saving model to /content/drive/MyDrive/m_p/MLP/HyperMixer/Hissar_sentinel2/Without Pearson correlation/Trained models/75% ps_9\n"
          ]
        },
        {
          "output_type": "stream",
          "name": "stderr",
          "text": [
            "WARNING:absl:Found untraced functions such as layer_normalization_layer_call_fn, layer_normalization_layer_call_and_return_conditional_losses, layer_normalization_1_layer_call_fn, layer_normalization_1_layer_call_and_return_conditional_losses, mlp_layer_call_fn while saving (showing 5 of 30). These functions will not be directly callable after loading.\n"
          ]
        },
        {
          "output_type": "stream",
          "name": "stdout",
          "text": [
            "\b\b\b\b\b\b\b\b\b\b\b\b\b\b\b\b\b\b\b\b\b\b\b\b\b\b\b\b\b\b\b\b\b\b\b\b\b\b\b\b\b\b\b\b\b\b\b\b\b\b\b\b\b\b\b\b\b\b\b\b\b\b\b\b\b\b\b\b\b\b\b\b\b\b\b\b\b\b\b\b\b\b\b\b\r263/263 [==============================] - 5s 18ms/step - loss: 0.2049 - accuracy: 0.9308 - val_loss: 0.2546 - val_accuracy: 0.9181 - lr: 5.6851e-04\n",
            "\n",
            "Epoch 46: LearningRateScheduler setting learning rate to 0.0005670924573755823.\n",
            "Epoch 46/300\n",
            "263/263 [==============================] - ETA: 0s - loss: 0.1976 - accuracy: 0.9325\n",
            "Epoch 46: val_accuracy improved from 0.91809 to 0.92255, saving model to /content/drive/MyDrive/m_p/MLP/HyperMixer/Hissar_sentinel2/Without Pearson correlation/Trained models/75% ps_9\n"
          ]
        },
        {
          "output_type": "stream",
          "name": "stderr",
          "text": [
            "WARNING:absl:Found untraced functions such as layer_normalization_layer_call_fn, layer_normalization_layer_call_and_return_conditional_losses, layer_normalization_1_layer_call_fn, layer_normalization_1_layer_call_and_return_conditional_losses, mlp_layer_call_fn while saving (showing 5 of 30). These functions will not be directly callable after loading.\n"
          ]
        },
        {
          "output_type": "stream",
          "name": "stdout",
          "text": [
            "\b\b\b\b\b\b\b\b\b\b\b\b\b\b\b\b\b\b\b\b\b\b\b\b\b\b\b\b\b\b\b\b\b\b\b\b\b\b\b\b\b\b\b\b\b\b\b\b\b\b\b\b\b\b\b\b\b\b\b\b\b\b\b\b\b\b\b\b\b\b\b\b\b\b\b\b\b\b\b\b\b\b\b\b\r263/263 [==============================] - 6s 22ms/step - loss: 0.1976 - accuracy: 0.9325 - val_loss: 0.2393 - val_accuracy: 0.9225 - lr: 5.6709e-04\n",
            "\n",
            "Epoch 47: LearningRateScheduler setting learning rate to 0.0005656425348946802.\n",
            "Epoch 47/300\n",
            "258/263 [============================>.] - ETA: 0s - loss: 0.1907 - accuracy: 0.9348\n",
            "Epoch 47: val_accuracy improved from 0.92255 to 0.92701, saving model to /content/drive/MyDrive/m_p/MLP/HyperMixer/Hissar_sentinel2/Without Pearson correlation/Trained models/75% ps_9\n"
          ]
        },
        {
          "output_type": "stream",
          "name": "stderr",
          "text": [
            "WARNING:absl:Found untraced functions such as layer_normalization_layer_call_fn, layer_normalization_layer_call_and_return_conditional_losses, layer_normalization_1_layer_call_fn, layer_normalization_1_layer_call_and_return_conditional_losses, mlp_layer_call_fn while saving (showing 5 of 30). These functions will not be directly callable after loading.\n"
          ]
        },
        {
          "output_type": "stream",
          "name": "stdout",
          "text": [
            "\b\b\b\b\b\b\b\b\b\b\b\b\b\b\b\b\b\b\b\b\b\b\b\b\b\b\b\b\b\b\b\b\b\b\b\b\b\b\b\b\b\b\b\b\b\b\b\b\b\b\b\b\b\b\b\b\b\b\b\b\b\b\b\b\b\b\b\b\b\b\b\b\b\b\b\b\b\b\b\b\b\b\b\b\r263/263 [==============================] - 5s 18ms/step - loss: 0.1906 - accuracy: 0.9349 - val_loss: 0.2235 - val_accuracy: 0.9270 - lr: 5.6564e-04\n",
            "\n",
            "Epoch 48: LearningRateScheduler setting learning rate to 0.000564163292057897.\n",
            "Epoch 48/300\n",
            "262/263 [============================>.] - ETA: 0s - loss: 0.1839 - accuracy: 0.9363\n",
            "Epoch 48: val_accuracy improved from 0.92701 to 0.93272, saving model to /content/drive/MyDrive/m_p/MLP/HyperMixer/Hissar_sentinel2/Without Pearson correlation/Trained models/75% ps_9\n"
          ]
        },
        {
          "output_type": "stream",
          "name": "stderr",
          "text": [
            "WARNING:absl:Found untraced functions such as layer_normalization_layer_call_fn, layer_normalization_layer_call_and_return_conditional_losses, layer_normalization_1_layer_call_fn, layer_normalization_1_layer_call_and_return_conditional_losses, mlp_layer_call_fn while saving (showing 5 of 30). These functions will not be directly callable after loading.\n"
          ]
        },
        {
          "output_type": "stream",
          "name": "stdout",
          "text": [
            "\b\b\b\b\b\b\b\b\b\b\b\b\b\b\b\b\b\b\b\b\b\b\b\b\b\b\b\b\b\b\b\b\b\b\b\b\b\b\b\b\b\b\b\b\b\b\b\b\b\b\b\b\b\b\b\b\b\b\b\b\b\b\b\b\b\b\b\b\b\b\b\b\b\b\b\b\b\b\b\b\b\b\b\b\r263/263 [==============================] - 6s 21ms/step - loss: 0.1836 - accuracy: 0.9364 - val_loss: 0.2055 - val_accuracy: 0.9327 - lr: 5.6416e-04\n",
            "\n",
            "Epoch 49: LearningRateScheduler setting learning rate to 0.0005626548921677381.\n",
            "Epoch 49/300\n",
            "259/263 [============================>.] - ETA: 0s - loss: 0.1772 - accuracy: 0.9385\n",
            "Epoch 49: val_accuracy improved from 0.93272 to 0.93718, saving model to /content/drive/MyDrive/m_p/MLP/HyperMixer/Hissar_sentinel2/Without Pearson correlation/Trained models/75% ps_9\n"
          ]
        },
        {
          "output_type": "stream",
          "name": "stderr",
          "text": [
            "WARNING:absl:Found untraced functions such as layer_normalization_layer_call_fn, layer_normalization_layer_call_and_return_conditional_losses, layer_normalization_1_layer_call_fn, layer_normalization_1_layer_call_and_return_conditional_losses, mlp_layer_call_fn while saving (showing 5 of 30). These functions will not be directly callable after loading.\n"
          ]
        },
        {
          "output_type": "stream",
          "name": "stdout",
          "text": [
            "\b\b\b\b\b\b\b\b\b\b\b\b\b\b\b\b\b\b\b\b\b\b\b\b\b\b\b\b\b\b\b\b\b\b\b\b\b\b\b\b\b\b\b\b\b\b\b\b\b\b\b\b\b\b\b\b\b\b\b\b\b\b\b\b\b\b\b\b\b\b\b\b\b\b\b\b\b\b\b\b\b\b\b\b\r263/263 [==============================] - 5s 19ms/step - loss: 0.1774 - accuracy: 0.9385 - val_loss: 0.1875 - val_accuracy: 0.9372 - lr: 5.6265e-04\n",
            "\n",
            "Epoch 50: LearningRateScheduler setting learning rate to 0.0005611175017455315.\n",
            "Epoch 50/300\n",
            "259/263 [============================>.] - ETA: 0s - loss: 0.1714 - accuracy: 0.9405\n",
            "Epoch 50: val_accuracy improved from 0.93718 to 0.94164, saving model to /content/drive/MyDrive/m_p/MLP/HyperMixer/Hissar_sentinel2/Without Pearson correlation/Trained models/75% ps_9\n"
          ]
        },
        {
          "output_type": "stream",
          "name": "stderr",
          "text": [
            "WARNING:absl:Found untraced functions such as layer_normalization_layer_call_fn, layer_normalization_layer_call_and_return_conditional_losses, layer_normalization_1_layer_call_fn, layer_normalization_1_layer_call_and_return_conditional_losses, mlp_layer_call_fn while saving (showing 5 of 30). These functions will not be directly callable after loading.\n"
          ]
        },
        {
          "output_type": "stream",
          "name": "stdout",
          "text": [
            "\b\b\b\b\b\b\b\b\b\b\b\b\b\b\b\b\b\b\b\b\b\b\b\b\b\b\b\b\b\b\b\b\b\b\b\b\b\b\b\b\b\b\b\b\b\b\b\b\b\b\b\b\b\b\b\b\b\b\b\b\b\b\b\b\b\b\b\b\b\b\b\b\b\b\b\b\b\b\b\b\b\b\b\b\r263/263 [==============================] - 5s 18ms/step - loss: 0.1715 - accuracy: 0.9405 - val_loss: 0.1744 - val_accuracy: 0.9416 - lr: 5.6112e-04\n",
            "\n",
            "Epoch 51: LearningRateScheduler setting learning rate to 0.0005595512905130442.\n",
            "Epoch 51/300\n",
            "259/263 [============================>.] - ETA: 0s - loss: 0.1657 - accuracy: 0.9425\n",
            "Epoch 51: val_accuracy improved from 0.94164 to 0.94450, saving model to /content/drive/MyDrive/m_p/MLP/HyperMixer/Hissar_sentinel2/Without Pearson correlation/Trained models/75% ps_9\n"
          ]
        },
        {
          "output_type": "stream",
          "name": "stderr",
          "text": [
            "WARNING:absl:Found untraced functions such as layer_normalization_layer_call_fn, layer_normalization_layer_call_and_return_conditional_losses, layer_normalization_1_layer_call_fn, layer_normalization_1_layer_call_and_return_conditional_losses, mlp_layer_call_fn while saving (showing 5 of 30). These functions will not be directly callable after loading.\n"
          ]
        },
        {
          "output_type": "stream",
          "name": "stdout",
          "text": [
            "\b\b\b\b\b\b\b\b\b\b\b\b\b\b\b\b\b\b\b\b\b\b\b\b\b\b\b\b\b\b\b\b\b\b\b\b\b\b\b\b\b\b\b\b\b\b\b\b\b\b\b\b\b\b\b\b\b\b\b\b\b\b\b\b\b\b\b\b\b\b\b\b\b\b\b\b\b\b\b\b\b\b\b\b\r263/263 [==============================] - 6s 22ms/step - loss: 0.1659 - accuracy: 0.9425 - val_loss: 0.1637 - val_accuracy: 0.9445 - lr: 5.5955e-04\n",
            "\n",
            "Epoch 52: LearningRateScheduler setting learning rate to 0.0005579564313737454.\n",
            "Epoch 52/300\n",
            "262/263 [============================>.] - ETA: 0s - loss: 0.1607 - accuracy: 0.9436\n",
            "Epoch 52: val_accuracy improved from 0.94450 to 0.94914, saving model to /content/drive/MyDrive/m_p/MLP/HyperMixer/Hissar_sentinel2/Without Pearson correlation/Trained models/75% ps_9\n"
          ]
        },
        {
          "output_type": "stream",
          "name": "stderr",
          "text": [
            "WARNING:absl:Found untraced functions such as layer_normalization_layer_call_fn, layer_normalization_layer_call_and_return_conditional_losses, layer_normalization_1_layer_call_fn, layer_normalization_1_layer_call_and_return_conditional_losses, mlp_layer_call_fn while saving (showing 5 of 30). These functions will not be directly callable after loading.\n"
          ]
        },
        {
          "output_type": "stream",
          "name": "stdout",
          "text": [
            "\b\b\b\b\b\b\b\b\b\b\b\b\b\b\b\b\b\b\b\b\b\b\b\b\b\b\b\b\b\b\b\b\b\b\b\b\b\b\b\b\b\b\b\b\b\b\b\b\b\b\b\b\b\b\b\b\b\b\b\b\b\b\b\b\b\b\b\b\b\b\b\b\b\b\b\b\b\b\b\b\b\b\b\b\r263/263 [==============================] - 5s 18ms/step - loss: 0.1605 - accuracy: 0.9436 - val_loss: 0.1516 - val_accuracy: 0.9491 - lr: 5.5796e-04\n",
            "\n",
            "Epoch 53: LearningRateScheduler setting learning rate to 0.0005563331003937192.\n",
            "Epoch 53/300\n",
            "260/263 [============================>.] - ETA: 0s - loss: 0.1541 - accuracy: 0.9454\n",
            "Epoch 53: val_accuracy improved from 0.94914 to 0.95155, saving model to /content/drive/MyDrive/m_p/MLP/HyperMixer/Hissar_sentinel2/Without Pearson correlation/Trained models/75% ps_9\n"
          ]
        },
        {
          "output_type": "stream",
          "name": "stderr",
          "text": [
            "WARNING:absl:Found untraced functions such as layer_normalization_layer_call_fn, layer_normalization_layer_call_and_return_conditional_losses, layer_normalization_1_layer_call_fn, layer_normalization_1_layer_call_and_return_conditional_losses, mlp_layer_call_fn while saving (showing 5 of 30). These functions will not be directly callable after loading.\n"
          ]
        },
        {
          "output_type": "stream",
          "name": "stdout",
          "text": [
            "\b\b\b\b\b\b\b\b\b\b\b\b\b\b\b\b\b\b\b\b\b\b\b\b\b\b\b\b\b\b\b\b\b\b\b\b\b\b\b\b\b\b\b\b\b\b\b\b\b\b\b\b\b\b\b\b\b\b\b\b\b\b\b\b\b\b\b\b\b\b\b\b\b\b\b\b\b\b\b\b\b\b\b\b\r263/263 [==============================] - 4s 17ms/step - loss: 0.1543 - accuracy: 0.9455 - val_loss: 0.1442 - val_accuracy: 0.9515 - lr: 5.5633e-04\n",
            "\n",
            "Epoch 54: LearningRateScheduler setting learning rate to 0.0005546814767822271.\n",
            "Epoch 54/300\n",
            "259/263 [============================>.] - ETA: 0s - loss: 0.1491 - accuracy: 0.9472\n",
            "Epoch 54: val_accuracy improved from 0.95155 to 0.95182, saving model to /content/drive/MyDrive/m_p/MLP/HyperMixer/Hissar_sentinel2/Without Pearson correlation/Trained models/75% ps_9\n"
          ]
        },
        {
          "output_type": "stream",
          "name": "stderr",
          "text": [
            "WARNING:absl:Found untraced functions such as layer_normalization_layer_call_fn, layer_normalization_layer_call_and_return_conditional_losses, layer_normalization_1_layer_call_fn, layer_normalization_1_layer_call_and_return_conditional_losses, mlp_layer_call_fn while saving (showing 5 of 30). These functions will not be directly callable after loading.\n"
          ]
        },
        {
          "output_type": "stream",
          "name": "stdout",
          "text": [
            "\b\b\b\b\b\b\b\b\b\b\b\b\b\b\b\b\b\b\b\b\b\b\b\b\b\b\b\b\b\b\b\b\b\b\b\b\b\b\b\b\b\b\b\b\b\b\b\b\b\b\b\b\b\b\b\b\b\b\b\b\b\b\b\b\b\b\b\b\b\b\b\b\b\b\b\b\b\b\b\b\b\b\b\b\r263/263 [==============================] - 6s 21ms/step - loss: 0.1491 - accuracy: 0.9473 - val_loss: 0.1407 - val_accuracy: 0.9518 - lr: 5.5468e-04\n",
            "\n",
            "Epoch 55: LearningRateScheduler setting learning rate to 0.000553001742871924.\n",
            "Epoch 55/300\n",
            "263/263 [==============================] - ETA: 0s - loss: 0.1456 - accuracy: 0.9484\n",
            "Epoch 55: val_accuracy did not improve from 0.95182\n",
            "263/263 [==============================] - 2s 9ms/step - loss: 0.1456 - accuracy: 0.9484 - val_loss: 0.1407 - val_accuracy: 0.9508 - lr: 5.5300e-04\n",
            "\n",
            "Epoch 56: LearningRateScheduler setting learning rate to 0.0005512940840987303.\n",
            "Epoch 56/300\n",
            "260/263 [============================>.] - ETA: 0s - loss: 0.1412 - accuracy: 0.9489\n",
            "Epoch 56: val_accuracy did not improve from 0.95182\n",
            "263/263 [==============================] - 2s 9ms/step - loss: 0.1412 - accuracy: 0.9490 - val_loss: 0.1440 - val_accuracy: 0.9499 - lr: 5.5129e-04\n",
            "\n",
            "Epoch 57: LearningRateScheduler setting learning rate to 0.000549558688981359.\n",
            "Epoch 57/300\n",
            "258/263 [============================>.] - ETA: 0s - loss: 0.1370 - accuracy: 0.9508\n",
            "Epoch 57: val_accuracy did not improve from 0.95182\n",
            "263/263 [==============================] - 3s 10ms/step - loss: 0.1367 - accuracy: 0.9511 - val_loss: 0.1445 - val_accuracy: 0.9493 - lr: 5.4956e-04\n",
            "\n",
            "Epoch 58: LearningRateScheduler setting learning rate to 0.000547795749100505.\n",
            "Epoch 58/300\n",
            "263/263 [==============================] - ETA: 0s - loss: 0.1321 - accuracy: 0.9523\n",
            "Epoch 58: val_accuracy did not improve from 0.95182\n",
            "263/263 [==============================] - 3s 12ms/step - loss: 0.1321 - accuracy: 0.9523 - val_loss: 0.1440 - val_accuracy: 0.9480 - lr: 5.4780e-04\n",
            "\n",
            "Epoch 59: LearningRateScheduler setting learning rate to 0.0005460054590776958.\n",
            "Epoch 59/300\n",
            "261/263 [============================>.] - ETA: 0s - loss: 0.1284 - accuracy: 0.9538\n",
            "Epoch 59: val_accuracy did not improve from 0.95182\n",
            "263/263 [==============================] - 3s 11ms/step - loss: 0.1282 - accuracy: 0.9538 - val_loss: 0.1391 - val_accuracy: 0.9500 - lr: 5.4601e-04\n",
            "\n",
            "Epoch 60: LearningRateScheduler setting learning rate to 0.0005441880165538047.\n",
            "Epoch 60/300\n",
            "258/263 [============================>.] - ETA: 0s - loss: 0.1261 - accuracy: 0.9542\n",
            "Epoch 60: val_accuracy did not improve from 0.95182\n",
            "263/263 [==============================] - 2s 9ms/step - loss: 0.1258 - accuracy: 0.9543 - val_loss: 0.1434 - val_accuracy: 0.9463 - lr: 5.4419e-04\n",
            "\n",
            "Epoch 61: LearningRateScheduler setting learning rate to 0.0005423436221672329.\n",
            "Epoch 61/300\n",
            "260/263 [============================>.] - ETA: 0s - loss: 0.1249 - accuracy: 0.9548\n",
            "Epoch 61: val_accuracy did not improve from 0.95182\n",
            "263/263 [==============================] - 3s 10ms/step - loss: 0.1249 - accuracy: 0.9547 - val_loss: 0.1616 - val_accuracy: 0.9399 - lr: 5.4234e-04\n",
            "\n",
            "Epoch 62: LearningRateScheduler setting learning rate to 0.0005404724795317599.\n",
            "Epoch 62/300\n",
            "259/263 [============================>.] - ETA: 0s - loss: 0.1190 - accuracy: 0.9578\n",
            "Epoch 62: val_accuracy did not improve from 0.95182\n",
            "263/263 [==============================] - 3s 10ms/step - loss: 0.1191 - accuracy: 0.9578 - val_loss: 0.1537 - val_accuracy: 0.9440 - lr: 5.4047e-04\n",
            "\n",
            "Epoch 63: LearningRateScheduler setting learning rate to 0.0005385747952140647.\n",
            "Epoch 63/300\n",
            "260/263 [============================>.] - ETA: 0s - loss: 0.1141 - accuracy: 0.9592\n",
            "Epoch 63: val_accuracy did not improve from 0.95182\n",
            "263/263 [==============================] - 3s 12ms/step - loss: 0.1141 - accuracy: 0.9592 - val_loss: 0.1330 - val_accuracy: 0.9501 - lr: 5.3857e-04\n",
            "\n",
            "Epoch 64: LearningRateScheduler setting learning rate to 0.0005366507787109227.\n",
            "Epoch 64/300\n",
            "263/263 [==============================] - ETA: 0s - loss: 0.1150 - accuracy: 0.9588\n",
            "Epoch 64: val_accuracy did not improve from 0.95182\n",
            "263/263 [==============================] - 3s 10ms/step - loss: 0.1150 - accuracy: 0.9588 - val_loss: 0.1534 - val_accuracy: 0.9432 - lr: 5.3665e-04\n",
            "\n",
            "Epoch 65: LearningRateScheduler setting learning rate to 0.0005347006424260771.\n",
            "Epoch 65/300\n",
            "258/263 [============================>.] - ETA: 0s - loss: 0.1186 - accuracy: 0.9571\n",
            "Epoch 65: val_accuracy did not improve from 0.95182\n",
            "263/263 [==============================] - 2s 9ms/step - loss: 0.1187 - accuracy: 0.9570 - val_loss: 0.1452 - val_accuracy: 0.9476 - lr: 5.3470e-04\n",
            "\n",
            "Epoch 66: LearningRateScheduler setting learning rate to 0.0005327246016467907.\n",
            "Epoch 66/300\n",
            "257/263 [============================>.] - ETA: 0s - loss: 0.1158 - accuracy: 0.9586\n",
            "Epoch 66: val_accuracy improved from 0.95182 to 0.95610, saving model to /content/drive/MyDrive/m_p/MLP/HyperMixer/Hissar_sentinel2/Without Pearson correlation/Trained models/75% ps_9\n"
          ]
        },
        {
          "output_type": "stream",
          "name": "stderr",
          "text": [
            "WARNING:absl:Found untraced functions such as layer_normalization_layer_call_fn, layer_normalization_layer_call_and_return_conditional_losses, layer_normalization_1_layer_call_fn, layer_normalization_1_layer_call_and_return_conditional_losses, mlp_layer_call_fn while saving (showing 5 of 30). These functions will not be directly callable after loading.\n"
          ]
        },
        {
          "output_type": "stream",
          "name": "stdout",
          "text": [
            "\b\b\b\b\b\b\b\b\b\b\b\b\b\b\b\b\b\b\b\b\b\b\b\b\b\b\b\b\b\b\b\b\b\b\b\b\b\b\b\b\b\b\b\b\b\b\b\b\b\b\b\b\b\b\b\b\b\b\b\b\b\b\b\b\b\b\b\b\b\b\b\b\b\b\b\b\b\b\b\b\b\b\b\b\r263/263 [==============================] - 5s 18ms/step - loss: 0.1157 - accuracy: 0.9588 - val_loss: 0.1161 - val_accuracy: 0.9561 - lr: 5.3272e-04\n",
            "\n",
            "Epoch 67: LearningRateScheduler setting learning rate to 0.0005307228745200793.\n",
            "Epoch 67/300\n",
            "259/263 [============================>.] - ETA: 0s - loss: 0.1092 - accuracy: 0.9609\n",
            "Epoch 67: val_accuracy improved from 0.95610 to 0.96101, saving model to /content/drive/MyDrive/m_p/MLP/HyperMixer/Hissar_sentinel2/Without Pearson correlation/Trained models/75% ps_9\n"
          ]
        },
        {
          "output_type": "stream",
          "name": "stderr",
          "text": [
            "WARNING:absl:Found untraced functions such as layer_normalization_layer_call_fn, layer_normalization_layer_call_and_return_conditional_losses, layer_normalization_1_layer_call_fn, layer_normalization_1_layer_call_and_return_conditional_losses, mlp_layer_call_fn while saving (showing 5 of 30). These functions will not be directly callable after loading.\n"
          ]
        },
        {
          "output_type": "stream",
          "name": "stdout",
          "text": [
            "\b\b\b\b\b\b\b\b\b\b\b\b\b\b\b\b\b\b\b\b\b\b\b\b\b\b\b\b\b\b\b\b\b\b\b\b\b\b\b\b\b\b\b\b\b\b\b\b\b\b\b\b\b\b\b\b\b\b\b\b\b\b\b\b\b\b\b\b\b\b\b\b\b\b\b\b\b\b\b\b\b\b\b\b\r263/263 [==============================] - 6s 21ms/step - loss: 0.1092 - accuracy: 0.9610 - val_loss: 0.1054 - val_accuracy: 0.9610 - lr: 5.3072e-04\n",
            "\n",
            "Epoch 68: LearningRateScheduler setting learning rate to 0.0005286956820286288.\n",
            "Epoch 68/300\n",
            "257/263 [============================>.] - ETA: 0s - loss: 0.1027 - accuracy: 0.9629\n",
            "Epoch 68: val_accuracy improved from 0.96101 to 0.96136, saving model to /content/drive/MyDrive/m_p/MLP/HyperMixer/Hissar_sentinel2/Without Pearson correlation/Trained models/75% ps_9\n"
          ]
        },
        {
          "output_type": "stream",
          "name": "stderr",
          "text": [
            "WARNING:absl:Found untraced functions such as layer_normalization_layer_call_fn, layer_normalization_layer_call_and_return_conditional_losses, layer_normalization_1_layer_call_fn, layer_normalization_1_layer_call_and_return_conditional_losses, mlp_layer_call_fn while saving (showing 5 of 30). These functions will not be directly callable after loading.\n"
          ]
        },
        {
          "output_type": "stream",
          "name": "stdout",
          "text": [
            "\b\b\b\b\b\b\b\b\b\b\b\b\b\b\b\b\b\b\b\b\b\b\b\b\b\b\b\b\b\b\b\b\b\b\b\b\b\b\b\b\b\b\b\b\b\b\b\b\b\b\b\b\b\b\b\b\b\b\b\b\b\b\b\b\b\b\b\b\b\b\b\b\b\b\b\b\b\b\b\b\b\b\b\b\r263/263 [==============================] - 4s 17ms/step - loss: 0.1024 - accuracy: 0.9631 - val_loss: 0.1050 - val_accuracy: 0.9614 - lr: 5.2870e-04\n",
            "\n",
            "Epoch 69: LearningRateScheduler setting learning rate to 0.0005266432479663998.\n",
            "Epoch 69/300\n",
            "262/263 [============================>.] - ETA: 0s - loss: 0.0975 - accuracy: 0.9654\n",
            "Epoch 69: val_accuracy improved from 0.96136 to 0.96654, saving model to /content/drive/MyDrive/m_p/MLP/HyperMixer/Hissar_sentinel2/Without Pearson correlation/Trained models/75% ps_9\n"
          ]
        },
        {
          "output_type": "stream",
          "name": "stderr",
          "text": [
            "WARNING:absl:Found untraced functions such as layer_normalization_layer_call_fn, layer_normalization_layer_call_and_return_conditional_losses, layer_normalization_1_layer_call_fn, layer_normalization_1_layer_call_and_return_conditional_losses, mlp_layer_call_fn while saving (showing 5 of 30). These functions will not be directly callable after loading.\n"
          ]
        },
        {
          "output_type": "stream",
          "name": "stdout",
          "text": [
            "\b\b\b\b\b\b\b\b\b\b\b\b\b\b\b\b\b\b\b\b\b\b\b\b\b\b\b\b\b\b\b\b\b\b\b\b\b\b\b\b\b\b\b\b\b\b\b\b\b\b\b\b\b\b\b\b\b\b\b\b\b\b\b\b\b\b\b\b\b\b\b\b\b\b\b\b\b\b\b\b\b\b\b\b\r263/263 [==============================] - 5s 18ms/step - loss: 0.0973 - accuracy: 0.9654 - val_loss: 0.0930 - val_accuracy: 0.9665 - lr: 5.2664e-04\n",
            "\n",
            "Epoch 70: LearningRateScheduler setting learning rate to 0.0005245657989139217.\n",
            "Epoch 70/300\n",
            "263/263 [==============================] - ETA: 0s - loss: 0.0952 - accuracy: 0.9659\n",
            "Epoch 70: val_accuracy improved from 0.96654 to 0.96761, saving model to /content/drive/MyDrive/m_p/MLP/HyperMixer/Hissar_sentinel2/Without Pearson correlation/Trained models/75% ps_9\n"
          ]
        },
        {
          "output_type": "stream",
          "name": "stderr",
          "text": [
            "WARNING:absl:Found untraced functions such as layer_normalization_layer_call_fn, layer_normalization_layer_call_and_return_conditional_losses, layer_normalization_1_layer_call_fn, layer_normalization_1_layer_call_and_return_conditional_losses, mlp_layer_call_fn while saving (showing 5 of 30). These functions will not be directly callable after loading.\n"
          ]
        },
        {
          "output_type": "stream",
          "name": "stdout",
          "text": [
            "\b\b\b\b\b\b\b\b\b\b\b\b\b\b\b\b\b\b\b\b\b\b\b\b\b\b\b\b\b\b\b\b\b\b\b\b\b\b\b\b\b\b\b\b\b\b\b\b\b\b\b\b\b\b\b\b\b\b\b\b\b\b\b\b\b\b\b\b\b\b\b\b\b\b\b\b\b\b\b\b\b\b\b\b\r263/263 [==============================] - 6s 21ms/step - loss: 0.0952 - accuracy: 0.9659 - val_loss: 0.0897 - val_accuracy: 0.9676 - lr: 5.2457e-04\n",
            "\n",
            "Epoch 71: LearningRateScheduler setting learning rate to 0.0005224635642132788.\n",
            "Epoch 71/300\n",
            "262/263 [============================>.] - ETA: 0s - loss: 0.0910 - accuracy: 0.9678\n",
            "Epoch 71: val_accuracy did not improve from 0.96761\n",
            "263/263 [==============================] - 2s 9ms/step - loss: 0.0909 - accuracy: 0.9679 - val_loss: 0.0919 - val_accuracy: 0.9664 - lr: 5.2246e-04\n",
            "\n",
            "Epoch 72: LearningRateScheduler setting learning rate to 0.0005203367759427919.\n",
            "Epoch 72/300\n",
            "259/263 [============================>.] - ETA: 0s - loss: 0.0873 - accuracy: 0.9691\n",
            "Epoch 72: val_accuracy did not improve from 0.96761\n",
            "263/263 [==============================] - 2s 9ms/step - loss: 0.0874 - accuracy: 0.9692 - val_loss: 0.0912 - val_accuracy: 0.9659 - lr: 5.2034e-04\n",
            "\n",
            "Epoch 73: LearningRateScheduler setting learning rate to 0.0005181856688913984.\n",
            "Epoch 73/300\n",
            "261/263 [============================>.] - ETA: 0s - loss: 0.0864 - accuracy: 0.9691\n",
            "Epoch 73: val_accuracy improved from 0.96761 to 0.96797, saving model to /content/drive/MyDrive/m_p/MLP/HyperMixer/Hissar_sentinel2/Without Pearson correlation/Trained models/75% ps_9\n"
          ]
        },
        {
          "output_type": "stream",
          "name": "stderr",
          "text": [
            "WARNING:absl:Found untraced functions such as layer_normalization_layer_call_fn, layer_normalization_layer_call_and_return_conditional_losses, layer_normalization_1_layer_call_fn, layer_normalization_1_layer_call_and_return_conditional_losses, mlp_layer_call_fn while saving (showing 5 of 30). These functions will not be directly callable after loading.\n"
          ]
        },
        {
          "output_type": "stream",
          "name": "stdout",
          "text": [
            "\b\b\b\b\b\b\b\b\b\b\b\b\b\b\b\b\b\b\b\b\b\b\b\b\b\b\b\b\b\b\b\b\b\b\b\b\b\b\b\b\b\b\b\b\b\b\b\b\b\b\b\b\b\b\b\b\b\b\b\b\b\b\b\b\b\b\b\b\b\b\b\b\b\b\b\b\b\b\b\b\b\b\b\b\r263/263 [==============================] - 5s 19ms/step - loss: 0.0862 - accuracy: 0.9692 - val_loss: 0.0858 - val_accuracy: 0.9680 - lr: 5.1819e-04\n",
            "\n",
            "Epoch 74: LearningRateScheduler setting learning rate to 0.0005160104805327318.\n",
            "Epoch 74/300\n",
            "256/263 [============================>.] - ETA: 0s - loss: 0.0850 - accuracy: 0.9698\n",
            "Epoch 74: val_accuracy improved from 0.96797 to 0.96868, saving model to /content/drive/MyDrive/m_p/MLP/HyperMixer/Hissar_sentinel2/Without Pearson correlation/Trained models/75% ps_9\n"
          ]
        },
        {
          "output_type": "stream",
          "name": "stderr",
          "text": [
            "WARNING:absl:Found untraced functions such as layer_normalization_layer_call_fn, layer_normalization_layer_call_and_return_conditional_losses, layer_normalization_1_layer_call_fn, layer_normalization_1_layer_call_and_return_conditional_losses, mlp_layer_call_fn while saving (showing 5 of 30). These functions will not be directly callable after loading.\n"
          ]
        },
        {
          "output_type": "stream",
          "name": "stdout",
          "text": [
            "\b\b\b\b\b\b\b\b\b\b\b\b\b\b\b\b\b\b\b\b\b\b\b\b\b\b\b\b\b\b\b\b\b\b\b\b\b\b\b\b\b\b\b\b\b\b\b\b\b\b\b\b\b\b\b\b\b\b\b\b\b\b\b\b\b\b\b\b\b\b\b\b\b\b\b\b\b\b\b\b\b\b\b\b\r263/263 [==============================] - 6s 22ms/step - loss: 0.0847 - accuracy: 0.9699 - val_loss: 0.0842 - val_accuracy: 0.9687 - lr: 5.1601e-04\n",
            "\n",
            "Epoch 75: LearningRateScheduler setting learning rate to 0.0005138114509989055.\n",
            "Epoch 75/300\n",
            "262/263 [============================>.] - ETA: 0s - loss: 0.0810 - accuracy: 0.9713\n",
            "Epoch 75: val_accuracy did not improve from 0.96868\n",
            "263/263 [==============================] - 2s 9ms/step - loss: 0.0809 - accuracy: 0.9713 - val_loss: 0.0900 - val_accuracy: 0.9661 - lr: 5.1381e-04\n",
            "\n",
            "Epoch 76: LearningRateScheduler setting learning rate to 0.000511588823054004.\n",
            "Epoch 76/300\n",
            "261/263 [============================>.] - ETA: 0s - loss: 0.0783 - accuracy: 0.9719\n",
            "Epoch 76: val_accuracy did not improve from 0.96868\n",
            "263/263 [==============================] - 3s 10ms/step - loss: 0.0780 - accuracy: 0.9720 - val_loss: 0.0887 - val_accuracy: 0.9646 - lr: 5.1159e-04\n",
            "\n",
            "Epoch 77: LearningRateScheduler setting learning rate to 0.0005093428420672819.\n",
            "Epoch 77/300\n",
            "263/263 [==============================] - ETA: 0s - loss: 0.0749 - accuracy: 0.9732\n",
            "Epoch 77: val_accuracy did not improve from 0.96868\n",
            "263/263 [==============================] - 3s 11ms/step - loss: 0.0749 - accuracy: 0.9732 - val_loss: 0.0906 - val_accuracy: 0.9657 - lr: 5.0934e-04\n",
            "\n",
            "Epoch 78: LearningRateScheduler setting learning rate to 0.0005070737559860764.\n",
            "Epoch 78/300\n",
            "263/263 [==============================] - ETA: 0s - loss: 0.0725 - accuracy: 0.9737\n",
            "Epoch 78: val_accuracy did not improve from 0.96868\n",
            "263/263 [==============================] - 3s 11ms/step - loss: 0.0725 - accuracy: 0.9737 - val_loss: 0.1008 - val_accuracy: 0.9619 - lr: 5.0707e-04\n",
            "\n",
            "Epoch 79: LearningRateScheduler setting learning rate to 0.0005047818153084353.\n",
            "Epoch 79/300\n",
            "260/263 [============================>.] - ETA: 0s - loss: 0.0714 - accuracy: 0.9741\n",
            "Epoch 79: val_accuracy did not improve from 0.96868\n",
            "263/263 [==============================] - 3s 10ms/step - loss: 0.0716 - accuracy: 0.9741 - val_loss: 0.0890 - val_accuracy: 0.9656 - lr: 5.0478e-04\n",
            "\n",
            "Epoch 80: LearningRateScheduler setting learning rate to 0.0005024672730554621.\n",
            "Epoch 80/300\n",
            "263/263 [==============================] - ETA: 0s - loss: 0.0689 - accuracy: 0.9758\n",
            "Epoch 80: val_accuracy did not improve from 0.96868\n",
            "263/263 [==============================] - 2s 9ms/step - loss: 0.0689 - accuracy: 0.9758 - val_loss: 0.0865 - val_accuracy: 0.9679 - lr: 5.0247e-04\n",
            "\n",
            "Epoch 81: LearningRateScheduler setting learning rate to 0.0005001303847433843.\n",
            "Epoch 81/300\n",
            "258/263 [============================>.] - ETA: 0s - loss: 0.0715 - accuracy: 0.9752\n",
            "Epoch 81: val_accuracy improved from 0.96868 to 0.97332, saving model to /content/drive/MyDrive/m_p/MLP/HyperMixer/Hissar_sentinel2/Without Pearson correlation/Trained models/75% ps_9\n"
          ]
        },
        {
          "output_type": "stream",
          "name": "stderr",
          "text": [
            "WARNING:absl:Found untraced functions such as layer_normalization_layer_call_fn, layer_normalization_layer_call_and_return_conditional_losses, layer_normalization_1_layer_call_fn, layer_normalization_1_layer_call_and_return_conditional_losses, mlp_layer_call_fn while saving (showing 5 of 30). These functions will not be directly callable after loading.\n"
          ]
        },
        {
          "output_type": "stream",
          "name": "stdout",
          "text": [
            "\b\b\b\b\b\b\b\b\b\b\b\b\b\b\b\b\b\b\b\b\b\b\b\b\b\b\b\b\b\b\b\b\b\b\b\b\b\b\b\b\b\b\b\b\b\b\b\b\b\b\b\b\b\b\b\b\b\b\b\b\b\b\b\b\b\b\b\b\b\b\b\b\b\b\b\b\b\b\b\b\b\b\b\b\r263/263 [==============================] - 5s 18ms/step - loss: 0.0717 - accuracy: 0.9753 - val_loss: 0.0736 - val_accuracy: 0.9733 - lr: 5.0013e-04\n",
            "\n",
            "Epoch 82: LearningRateScheduler setting learning rate to 0.0004977714083553451.\n",
            "Epoch 82/300\n",
            "260/263 [============================>.] - ETA: 0s - loss: 0.0634 - accuracy: 0.9778\n",
            "Epoch 82: val_accuracy did not improve from 0.97332\n",
            "263/263 [==============================] - 3s 13ms/step - loss: 0.0636 - accuracy: 0.9778 - val_loss: 0.0731 - val_accuracy: 0.9722 - lr: 4.9777e-04\n",
            "\n",
            "Epoch 83: LearningRateScheduler setting learning rate to 0.0004953906043129234.\n",
            "Epoch 83/300\n",
            "263/263 [==============================] - ETA: 0s - loss: 0.0644 - accuracy: 0.9767\n",
            "Epoch 83: val_accuracy did not improve from 0.97332\n",
            "263/263 [==============================] - 2s 9ms/step - loss: 0.0644 - accuracy: 0.9767 - val_loss: 0.0823 - val_accuracy: 0.9704 - lr: 4.9539e-04\n",
            "\n",
            "Epoch 84: LearningRateScheduler setting learning rate to 0.0004929882354473834.\n",
            "Epoch 84/300\n",
            "263/263 [==============================] - ETA: 0s - loss: 0.0634 - accuracy: 0.9772\n",
            "Epoch 84: val_accuracy did not improve from 0.97332\n",
            "263/263 [==============================] - 3s 9ms/step - loss: 0.0634 - accuracy: 0.9772 - val_loss: 0.0928 - val_accuracy: 0.9670 - lr: 4.9299e-04\n",
            "\n",
            "Epoch 85: LearningRateScheduler setting learning rate to 0.0004905645669706604.\n",
            "Epoch 85/300\n",
            "259/263 [============================>.] - ETA: 0s - loss: 0.0654 - accuracy: 0.9763\n",
            "Epoch 85: val_accuracy did not improve from 0.97332\n",
            "263/263 [==============================] - 3s 10ms/step - loss: 0.0653 - accuracy: 0.9763 - val_loss: 0.1140 - val_accuracy: 0.9597 - lr: 4.9056e-04\n",
            "\n",
            "Epoch 86: LearningRateScheduler setting learning rate to 0.0004881198664460812.\n",
            "Epoch 86/300\n",
            "259/263 [============================>.] - ETA: 0s - loss: 0.0589 - accuracy: 0.9789\n",
            "Epoch 86: val_accuracy did not improve from 0.97332\n",
            "263/263 [==============================] - 3s 10ms/step - loss: 0.0588 - accuracy: 0.9790 - val_loss: 0.0857 - val_accuracy: 0.9694 - lr: 4.8812e-04\n",
            "\n",
            "Epoch 87: LearningRateScheduler setting learning rate to 0.00048565440375882707.\n",
            "Epoch 87/300\n",
            "259/263 [============================>.] - ETA: 0s - loss: 0.0582 - accuracy: 0.9788\n",
            "Epoch 87: val_accuracy did not improve from 0.97332\n",
            "263/263 [==============================] - 4s 14ms/step - loss: 0.0581 - accuracy: 0.9787 - val_loss: 0.0876 - val_accuracy: 0.9681 - lr: 4.8565e-04\n",
            "\n",
            "Epoch 88: LearningRateScheduler setting learning rate to 0.0004831684510861392.\n",
            "Epoch 88/300\n",
            "262/263 [============================>.] - ETA: 0s - loss: 0.0588 - accuracy: 0.9793\n",
            "Epoch 88: val_accuracy did not improve from 0.97332\n",
            "263/263 [==============================] - 2s 9ms/step - loss: 0.0587 - accuracy: 0.9793 - val_loss: 0.1186 - val_accuracy: 0.9565 - lr: 4.8317e-04\n",
            "\n",
            "Epoch 89: LearningRateScheduler setting learning rate to 0.0004806622828672711.\n",
            "Epoch 89/300\n",
            "257/263 [============================>.] - ETA: 0s - loss: 0.0558 - accuracy: 0.9798\n",
            "Epoch 89: val_accuracy did not improve from 0.97332\n",
            "263/263 [==============================] - 2s 9ms/step - loss: 0.0558 - accuracy: 0.9797 - val_loss: 0.1150 - val_accuracy: 0.9587 - lr: 4.8066e-04\n",
            "\n",
            "Epoch 90: LearningRateScheduler setting learning rate to 0.00047813617577319227.\n",
            "Epoch 90/300\n",
            "260/263 [============================>.] - ETA: 0s - loss: 0.0565 - accuracy: 0.9788\n",
            "Epoch 90: val_accuracy did not improve from 0.97332\n",
            "263/263 [==============================] - 2s 9ms/step - loss: 0.0564 - accuracy: 0.9789 - val_loss: 0.0814 - val_accuracy: 0.9702 - lr: 4.7814e-04\n",
            "\n",
            "Epoch 91: LearningRateScheduler setting learning rate to 0.0004755904086760442.\n",
            "Epoch 91/300\n",
            "262/263 [============================>.] - ETA: 0s - loss: 0.0496 - accuracy: 0.9830\n",
            "Epoch 91: val_accuracy did not improve from 0.97332\n",
            "263/263 [==============================] - 2s 9ms/step - loss: 0.0495 - accuracy: 0.9830 - val_loss: 0.0762 - val_accuracy: 0.9722 - lr: 4.7559e-04\n",
            "\n",
            "Epoch 92: LearningRateScheduler setting learning rate to 0.00047302526261835444.\n",
            "Epoch 92/300\n",
            "260/263 [============================>.] - ETA: 0s - loss: 0.0506 - accuracy: 0.9828\n",
            "Epoch 92: val_accuracy improved from 0.97332 to 0.97341, saving model to /content/drive/MyDrive/m_p/MLP/HyperMixer/Hissar_sentinel2/Without Pearson correlation/Trained models/75% ps_9\n"
          ]
        },
        {
          "output_type": "stream",
          "name": "stderr",
          "text": [
            "WARNING:absl:Found untraced functions such as layer_normalization_layer_call_fn, layer_normalization_layer_call_and_return_conditional_losses, layer_normalization_1_layer_call_fn, layer_normalization_1_layer_call_and_return_conditional_losses, mlp_layer_call_fn while saving (showing 5 of 30). These functions will not be directly callable after loading.\n"
          ]
        },
        {
          "output_type": "stream",
          "name": "stdout",
          "text": [
            "\b\b\b\b\b\b\b\b\b\b\b\b\b\b\b\b\b\b\b\b\b\b\b\b\b\b\b\b\b\b\b\b\b\b\b\b\b\b\b\b\b\b\b\b\b\b\b\b\b\b\b\b\b\b\b\b\b\b\b\b\b\b\b\b\b\b\b\b\b\b\b\b\b\b\b\b\b\b\b\b\b\b\b\b\r263/263 [==============================] - 6s 21ms/step - loss: 0.0504 - accuracy: 0.9828 - val_loss: 0.0715 - val_accuracy: 0.9734 - lr: 4.7303e-04\n",
            "\n",
            "Epoch 93: LearningRateScheduler setting learning rate to 0.0004704410207820102.\n",
            "Epoch 93/300\n",
            "258/263 [============================>.] - ETA: 0s - loss: 0.0488 - accuracy: 0.9823\n",
            "Epoch 93: val_accuracy did not improve from 0.97341\n",
            "263/263 [==============================] - 3s 10ms/step - loss: 0.0486 - accuracy: 0.9824 - val_loss: 0.0794 - val_accuracy: 0.9707 - lr: 4.7044e-04\n",
            "\n",
            "Epoch 94: LearningRateScheduler setting learning rate to 0.0004678379684569967.\n",
            "Epoch 94/300\n",
            "257/263 [============================>.] - ETA: 0s - loss: 0.0467 - accuracy: 0.9837\n",
            "Epoch 94: val_accuracy did not improve from 0.97341\n",
            "263/263 [==============================] - 2s 9ms/step - loss: 0.0465 - accuracy: 0.9837 - val_loss: 0.0830 - val_accuracy: 0.9716 - lr: 4.6784e-04\n",
            "\n",
            "Epoch 95: LearningRateScheduler setting learning rate to 0.0004652163930099018.\n",
            "Epoch 95/300\n",
            "258/263 [============================>.] - ETA: 0s - loss: 0.0469 - accuracy: 0.9828\n",
            "Epoch 95: val_accuracy did not improve from 0.97341\n",
            "263/263 [==============================] - 2s 9ms/step - loss: 0.0469 - accuracy: 0.9827 - val_loss: 0.0943 - val_accuracy: 0.9670 - lr: 4.6522e-04\n",
            "\n",
            "Epoch 96: LearningRateScheduler setting learning rate to 0.0004625765838521925.\n",
            "Epoch 96/300\n",
            "259/263 [============================>.] - ETA: 0s - loss: 0.0552 - accuracy: 0.9805\n",
            "Epoch 96: val_accuracy improved from 0.97341 to 0.97475, saving model to /content/drive/MyDrive/m_p/MLP/HyperMixer/Hissar_sentinel2/Without Pearson correlation/Trained models/75% ps_9\n"
          ]
        },
        {
          "output_type": "stream",
          "name": "stderr",
          "text": [
            "WARNING:absl:Found untraced functions such as layer_normalization_layer_call_fn, layer_normalization_layer_call_and_return_conditional_losses, layer_normalization_1_layer_call_fn, layer_normalization_1_layer_call_and_return_conditional_losses, mlp_layer_call_fn while saving (showing 5 of 30). These functions will not be directly callable after loading.\n"
          ]
        },
        {
          "output_type": "stream",
          "name": "stdout",
          "text": [
            "\b\b\b\b\b\b\b\b\b\b\b\b\b\b\b\b\b\b\b\b\b\b\b\b\b\b\b\b\b\b\b\b\b\b\b\b\b\b\b\b\b\b\b\b\b\b\b\b\b\b\b\b\b\b\b\b\b\b\b\b\b\b\b\b\b\b\b\b\b\b\b\b\b\b\b\b\b\b\b\b\b\b\b\b\r263/263 [==============================] - 6s 21ms/step - loss: 0.0551 - accuracy: 0.9806 - val_loss: 0.0710 - val_accuracy: 0.9747 - lr: 4.6258e-04\n",
            "\n",
            "Epoch 97: LearningRateScheduler setting learning rate to 0.0004599188324082641.\n",
            "Epoch 97/300\n",
            "258/263 [============================>.] - ETA: 0s - loss: 0.0436 - accuracy: 0.9843\n",
            "Epoch 97: val_accuracy did not improve from 0.97475\n",
            "263/263 [==============================] - 2s 9ms/step - loss: 0.0434 - accuracy: 0.9844 - val_loss: 0.0839 - val_accuracy: 0.9706 - lr: 4.5992e-04\n",
            "\n",
            "Epoch 98: LearningRateScheduler setting learning rate to 0.0004572434320832692.\n",
            "Epoch 98/300\n",
            "260/263 [============================>.] - ETA: 0s - loss: 0.0481 - accuracy: 0.9825\n",
            "Epoch 98: val_accuracy did not improve from 0.97475\n",
            "263/263 [==============================] - 3s 10ms/step - loss: 0.0482 - accuracy: 0.9825 - val_loss: 0.0915 - val_accuracy: 0.9703 - lr: 4.5724e-04\n",
            "\n",
            "Epoch 99: LearningRateScheduler setting learning rate to 0.00045455067823072616.\n",
            "Epoch 99/300\n",
            "260/263 [============================>.] - ETA: 0s - loss: 0.0470 - accuracy: 0.9826\n",
            "Epoch 99: val_accuracy did not improve from 0.97475\n",
            "263/263 [==============================] - 2s 9ms/step - loss: 0.0469 - accuracy: 0.9826 - val_loss: 0.0895 - val_accuracy: 0.9702 - lr: 4.5455e-04\n",
            "\n",
            "Epoch 100: LearningRateScheduler setting learning rate to 0.00045184086811991364.\n",
            "Epoch 100/300\n",
            "260/263 [============================>.] - ETA: 0s - loss: 0.0405 - accuracy: 0.9858\n",
            "Epoch 100: val_accuracy improved from 0.97475 to 0.97725, saving model to /content/drive/MyDrive/m_p/MLP/HyperMixer/Hissar_sentinel2/Without Pearson correlation/Trained models/75% ps_9\n"
          ]
        },
        {
          "output_type": "stream",
          "name": "stderr",
          "text": [
            "WARNING:absl:Found untraced functions such as layer_normalization_layer_call_fn, layer_normalization_layer_call_and_return_conditional_losses, layer_normalization_1_layer_call_fn, layer_normalization_1_layer_call_and_return_conditional_losses, mlp_layer_call_fn while saving (showing 5 of 30). These functions will not be directly callable after loading.\n"
          ]
        },
        {
          "output_type": "stream",
          "name": "stdout",
          "text": [
            "\b\b\b\b\b\b\b\b\b\b\b\b\b\b\b\b\b\b\b\b\b\b\b\b\b\b\b\b\b\b\b\b\b\b\b\b\b\b\b\b\b\b\b\b\b\b\b\b\b\b\b\b\b\b\b\b\b\b\b\b\b\b\b\b\b\b\b\b\b\b\b\b\b\b\b\b\b\b\b\b\b\b\b\b\r263/263 [==============================] - 6s 23ms/step - loss: 0.0404 - accuracy: 0.9858 - val_loss: 0.0673 - val_accuracy: 0.9772 - lr: 4.5184e-04\n",
            "\n",
            "Epoch 101: LearningRateScheduler setting learning rate to 0.0004491143009030531.\n",
            "Epoch 101/300\n",
            "258/263 [============================>.] - ETA: 0s - loss: 0.0432 - accuracy: 0.9843\n",
            "Epoch 101: val_accuracy improved from 0.97725 to 0.97805, saving model to /content/drive/MyDrive/m_p/MLP/HyperMixer/Hissar_sentinel2/Without Pearson correlation/Trained models/75% ps_9\n"
          ]
        },
        {
          "output_type": "stream",
          "name": "stderr",
          "text": [
            "WARNING:absl:Found untraced functions such as layer_normalization_layer_call_fn, layer_normalization_layer_call_and_return_conditional_losses, layer_normalization_1_layer_call_fn, layer_normalization_1_layer_call_and_return_conditional_losses, mlp_layer_call_fn while saving (showing 5 of 30). These functions will not be directly callable after loading.\n"
          ]
        },
        {
          "output_type": "stream",
          "name": "stdout",
          "text": [
            "\b\b\b\b\b\b\b\b\b\b\b\b\b\b\b\b\b\b\b\b\b\b\b\b\b\b\b\b\b\b\b\b\b\b\b\b\b\b\b\b\b\b\b\b\b\b\b\b\b\b\b\b\b\b\b\b\b\b\b\b\b\b\b\b\b\b\b\b\b\b\b\b\b\b\b\b\b\b\b\b\b\b\b\b\r263/263 [==============================] - 4s 17ms/step - loss: 0.0432 - accuracy: 0.9843 - val_loss: 0.0586 - val_accuracy: 0.9780 - lr: 4.4911e-04\n",
            "\n",
            "Epoch 102: LearningRateScheduler setting learning rate to 0.00044637127758228364.\n",
            "Epoch 102/300\n",
            "261/263 [============================>.] - ETA: 0s - loss: 0.0394 - accuracy: 0.9861\n",
            "Epoch 102: val_accuracy improved from 0.97805 to 0.98010, saving model to /content/drive/MyDrive/m_p/MLP/HyperMixer/Hissar_sentinel2/Without Pearson correlation/Trained models/75% ps_9\n"
          ]
        },
        {
          "output_type": "stream",
          "name": "stderr",
          "text": [
            "WARNING:absl:Found untraced functions such as layer_normalization_layer_call_fn, layer_normalization_layer_call_and_return_conditional_losses, layer_normalization_1_layer_call_fn, layer_normalization_1_layer_call_and_return_conditional_losses, mlp_layer_call_fn while saving (showing 5 of 30). These functions will not be directly callable after loading.\n"
          ]
        },
        {
          "output_type": "stream",
          "name": "stdout",
          "text": [
            "\b\b\b\b\b\b\b\b\b\b\b\b\b\b\b\b\b\b\b\b\b\b\b\b\b\b\b\b\b\b\b\b\b\b\b\b\b\b\b\b\b\b\b\b\b\b\b\b\b\b\b\b\b\b\b\b\b\b\b\b\b\b\b\b\b\b\b\b\b\b\b\b\b\b\b\b\b\b\b\b\b\b\b\b\r263/263 [==============================] - 4s 17ms/step - loss: 0.0393 - accuracy: 0.9861 - val_loss: 0.0544 - val_accuracy: 0.9801 - lr: 4.4637e-04\n",
            "\n",
            "Epoch 103: LearningRateScheduler setting learning rate to 0.0004436121009764327.\n",
            "Epoch 103/300\n",
            "262/263 [============================>.] - ETA: 0s - loss: 0.0469 - accuracy: 0.9828\n",
            "Epoch 103: val_accuracy did not improve from 0.98010\n",
            "263/263 [==============================] - 4s 13ms/step - loss: 0.0469 - accuracy: 0.9828 - val_loss: 0.0695 - val_accuracy: 0.9776 - lr: 4.4361e-04\n",
            "\n",
            "Epoch 104: LearningRateScheduler setting learning rate to 0.0004408370756875855.\n",
            "Epoch 104/300\n",
            "259/263 [============================>.] - ETA: 0s - loss: 0.0447 - accuracy: 0.9841\n",
            "Epoch 104: val_accuracy did not improve from 0.98010\n",
            "263/263 [==============================] - 3s 10ms/step - loss: 0.0445 - accuracy: 0.9841 - val_loss: 0.0651 - val_accuracy: 0.9770 - lr: 4.4084e-04\n",
            "\n",
            "Epoch 105: LearningRateScheduler setting learning rate to 0.000438046508067459.\n",
            "Epoch 105/300\n",
            "259/263 [============================>.] - ETA: 0s - loss: 0.0411 - accuracy: 0.9850\n",
            "Epoch 105: val_accuracy improved from 0.98010 to 0.98046, saving model to /content/drive/MyDrive/m_p/MLP/HyperMixer/Hissar_sentinel2/Without Pearson correlation/Trained models/75% ps_9\n"
          ]
        },
        {
          "output_type": "stream",
          "name": "stderr",
          "text": [
            "WARNING:absl:Found untraced functions such as layer_normalization_layer_call_fn, layer_normalization_layer_call_and_return_conditional_losses, layer_normalization_1_layer_call_fn, layer_normalization_1_layer_call_and_return_conditional_losses, mlp_layer_call_fn while saving (showing 5 of 30). These functions will not be directly callable after loading.\n"
          ]
        },
        {
          "output_type": "stream",
          "name": "stdout",
          "text": [
            "\b\b\b\b\b\b\b\b\b\b\b\b\b\b\b\b\b\b\b\b\b\b\b\b\b\b\b\b\b\b\b\b\b\b\b\b\b\b\b\b\b\b\b\b\b\b\b\b\b\b\b\b\b\b\b\b\b\b\b\b\b\b\b\b\b\b\b\b\b\b\b\b\b\b\b\b\b\b\b\b\b\b\b\b\r263/263 [==============================] - 5s 18ms/step - loss: 0.0409 - accuracy: 0.9851 - val_loss: 0.0515 - val_accuracy: 0.9805 - lr: 4.3805e-04\n",
            "\n",
            "Epoch 106: LearningRateScheduler setting learning rate to 0.0004352407061835816.\n",
            "Epoch 106/300\n",
            "260/263 [============================>.] - ETA: 0s - loss: 0.0363 - accuracy: 0.9870\n",
            "Epoch 106: val_accuracy did not improve from 0.98046\n",
            "263/263 [==============================] - 2s 9ms/step - loss: 0.0362 - accuracy: 0.9870 - val_loss: 0.0572 - val_accuracy: 0.9780 - lr: 4.3524e-04\n",
            "\n",
            "Epoch 107: LearningRateScheduler setting learning rate to 0.00043241997978528315.\n",
            "Epoch 107/300\n",
            "259/263 [============================>.] - ETA: 0s - loss: 0.0371 - accuracy: 0.9865\n",
            "Epoch 107: val_accuracy did not improve from 0.98046\n",
            "263/263 [==============================] - 4s 14ms/step - loss: 0.0370 - accuracy: 0.9866 - val_loss: 0.0742 - val_accuracy: 0.9739 - lr: 4.3242e-04\n",
            "\n",
            "Epoch 108: LearningRateScheduler setting learning rate to 0.0004295846402695008.\n",
            "Epoch 108/300\n",
            "257/263 [============================>.] - ETA: 0s - loss: 0.0379 - accuracy: 0.9867\n",
            "Epoch 108: val_accuracy did not improve from 0.98046\n",
            "263/263 [==============================] - 3s 10ms/step - loss: 0.0377 - accuracy: 0.9867 - val_loss: 0.0618 - val_accuracy: 0.9759 - lr: 4.2958e-04\n",
            "\n",
            "Epoch 109: LearningRateScheduler setting learning rate to 0.0004267350006464012.\n",
            "Epoch 109/300\n",
            "259/263 [============================>.] - ETA: 0s - loss: 0.0343 - accuracy: 0.9879\n",
            "Epoch 109: val_accuracy did not improve from 0.98046\n",
            "263/263 [==============================] - 3s 10ms/step - loss: 0.0342 - accuracy: 0.9878 - val_loss: 0.0664 - val_accuracy: 0.9768 - lr: 4.2674e-04\n",
            "\n",
            "Epoch 110: LearningRateScheduler setting learning rate to 0.00042387137550482594.\n",
            "Epoch 110/300\n",
            "263/263 [==============================] - ETA: 0s - loss: 0.0365 - accuracy: 0.9870\n",
            "Epoch 110: val_accuracy did not improve from 0.98046\n",
            "263/263 [==============================] - 2s 9ms/step - loss: 0.0365 - accuracy: 0.9870 - val_loss: 0.0575 - val_accuracy: 0.9776 - lr: 4.2387e-04\n",
            "\n",
            "Epoch 111: LearningRateScheduler setting learning rate to 0.00042099408097756195.\n",
            "Epoch 111/300\n",
            "261/263 [============================>.] - ETA: 0s - loss: 0.0384 - accuracy: 0.9860\n",
            "Epoch 111: val_accuracy did not improve from 0.98046\n",
            "263/263 [==============================] - 2s 9ms/step - loss: 0.0383 - accuracy: 0.9860 - val_loss: 0.0675 - val_accuracy: 0.9739 - lr: 4.2099e-04\n",
            "\n",
            "Epoch 112: LearningRateScheduler setting learning rate to 0.00041810343470644214.\n",
            "Epoch 112/300\n",
            "263/263 [==============================] - ETA: 0s - loss: 0.0365 - accuracy: 0.9865\n",
            "Epoch 112: val_accuracy did not improve from 0.98046\n",
            "263/263 [==============================] - 4s 14ms/step - loss: 0.0365 - accuracy: 0.9865 - val_loss: 0.0615 - val_accuracy: 0.9768 - lr: 4.1810e-04\n",
            "\n",
            "Epoch 113: LearningRateScheduler setting learning rate to 0.000415199755807278.\n",
            "Epoch 113/300\n",
            "259/263 [============================>.] - ETA: 0s - loss: 0.0340 - accuracy: 0.9877\n",
            "Epoch 113: val_accuracy improved from 0.98046 to 0.98162, saving model to /content/drive/MyDrive/m_p/MLP/HyperMixer/Hissar_sentinel2/Without Pearson correlation/Trained models/75% ps_9\n"
          ]
        },
        {
          "output_type": "stream",
          "name": "stderr",
          "text": [
            "WARNING:absl:Found untraced functions such as layer_normalization_layer_call_fn, layer_normalization_layer_call_and_return_conditional_losses, layer_normalization_1_layer_call_fn, layer_normalization_1_layer_call_and_return_conditional_losses, mlp_layer_call_fn while saving (showing 5 of 30). These functions will not be directly callable after loading.\n"
          ]
        },
        {
          "output_type": "stream",
          "name": "stdout",
          "text": [
            "\b\b\b\b\b\b\b\b\b\b\b\b\b\b\b\b\b\b\b\b\b\b\b\b\b\b\b\b\b\b\b\b\b\b\b\b\b\b\b\b\b\b\b\b\b\b\b\b\b\b\b\b\b\b\b\b\b\b\b\b\b\b\b\b\b\b\b\b\b\b\b\b\b\b\b\b\b\b\b\b\b\b\b\b\r263/263 [==============================] - 4s 17ms/step - loss: 0.0338 - accuracy: 0.9878 - val_loss: 0.0496 - val_accuracy: 0.9816 - lr: 4.1520e-04\n",
            "\n",
            "Epoch 114: LearningRateScheduler setting learning rate to 0.0004122833648346317.\n",
            "Epoch 114/300\n",
            "258/263 [============================>.] - ETA: 0s - loss: 0.0319 - accuracy: 0.9886\n",
            "Epoch 114: val_accuracy did not improve from 0.98162\n",
            "263/263 [==============================] - 2s 9ms/step - loss: 0.0317 - accuracy: 0.9887 - val_loss: 0.0604 - val_accuracy: 0.9772 - lr: 4.1228e-04\n",
            "\n",
            "Epoch 115: LearningRateScheduler setting learning rate to 0.0004093545837464275.\n",
            "Epoch 115/300\n",
            "261/263 [============================>.] - ETA: 0s - loss: 0.0303 - accuracy: 0.9901\n",
            "Epoch 115: val_accuracy did not improve from 0.98162\n",
            "263/263 [==============================] - 3s 10ms/step - loss: 0.0302 - accuracy: 0.9902 - val_loss: 0.0696 - val_accuracy: 0.9731 - lr: 4.0935e-04\n",
            "\n",
            "Epoch 116: LearningRateScheduler setting learning rate to 0.0004064137358684085.\n",
            "Epoch 116/300\n",
            "261/263 [============================>.] - ETA: 0s - loss: 0.0307 - accuracy: 0.9894\n",
            "Epoch 116: val_accuracy improved from 0.98162 to 0.98314, saving model to /content/drive/MyDrive/m_p/MLP/HyperMixer/Hissar_sentinel2/Without Pearson correlation/Trained models/75% ps_9\n"
          ]
        },
        {
          "output_type": "stream",
          "name": "stderr",
          "text": [
            "WARNING:absl:Found untraced functions such as layer_normalization_layer_call_fn, layer_normalization_layer_call_and_return_conditional_losses, layer_normalization_1_layer_call_fn, layer_normalization_1_layer_call_and_return_conditional_losses, mlp_layer_call_fn while saving (showing 5 of 30). These functions will not be directly callable after loading.\n"
          ]
        },
        {
          "output_type": "stream",
          "name": "stdout",
          "text": [
            "\b\b\b\b\b\b\b\b\b\b\b\b\b\b\b\b\b\b\b\b\b\b\b\b\b\b\b\b\b\b\b\b\b\b\b\b\b\b\b\b\b\b\b\b\b\b\b\b\b\b\b\b\b\b\b\b\b\b\b\b\b\b\b\b\b\b\b\b\b\b\b\b\b\b\b\b\b\b\b\b\b\b\b\b\r263/263 [==============================] - 6s 21ms/step - loss: 0.0306 - accuracy: 0.9895 - val_loss: 0.0443 - val_accuracy: 0.9831 - lr: 4.0641e-04\n",
            "\n",
            "Epoch 117: LearningRateScheduler setting learning rate to 0.000403461145858444.\n",
            "Epoch 117/300\n",
            "259/263 [============================>.] - ETA: 0s - loss: 0.0292 - accuracy: 0.9899\n",
            "Epoch 117: val_accuracy did not improve from 0.98314\n",
            "263/263 [==============================] - 3s 10ms/step - loss: 0.0290 - accuracy: 0.9899 - val_loss: 0.0594 - val_accuracy: 0.9783 - lr: 4.0346e-04\n",
            "\n",
            "Epoch 118: LearningRateScheduler setting learning rate to 0.0004004971396706873.\n",
            "Epoch 118/300\n",
            "261/263 [============================>.] - ETA: 0s - loss: 0.0291 - accuracy: 0.9899\n",
            "Epoch 118: val_accuracy did not improve from 0.98314\n",
            "263/263 [==============================] - 2s 9ms/step - loss: 0.0291 - accuracy: 0.9899 - val_loss: 0.0614 - val_accuracy: 0.9779 - lr: 4.0050e-04\n",
            "\n",
            "Epoch 119: LearningRateScheduler setting learning rate to 0.0003975220445195922.\n",
            "Epoch 119/300\n",
            "262/263 [============================>.] - ETA: 0s - loss: 0.0288 - accuracy: 0.9897\n",
            "Epoch 119: val_accuracy did not improve from 0.98314\n",
            "263/263 [==============================] - 2s 9ms/step - loss: 0.0288 - accuracy: 0.9897 - val_loss: 0.0615 - val_accuracy: 0.9768 - lr: 3.9752e-04\n",
            "\n",
            "Epoch 120: LearningRateScheduler setting learning rate to 0.00039453618884378985.\n",
            "Epoch 120/300\n",
            "259/263 [============================>.] - ETA: 0s - loss: 0.0302 - accuracy: 0.9889\n",
            "Epoch 120: val_accuracy improved from 0.98314 to 0.98590, saving model to /content/drive/MyDrive/m_p/MLP/HyperMixer/Hissar_sentinel2/Without Pearson correlation/Trained models/75% ps_9\n"
          ]
        },
        {
          "output_type": "stream",
          "name": "stderr",
          "text": [
            "WARNING:absl:Found untraced functions such as layer_normalization_layer_call_fn, layer_normalization_layer_call_and_return_conditional_losses, layer_normalization_1_layer_call_fn, layer_normalization_1_layer_call_and_return_conditional_losses, mlp_layer_call_fn while saving (showing 5 of 30). These functions will not be directly callable after loading.\n"
          ]
        },
        {
          "output_type": "stream",
          "name": "stdout",
          "text": [
            "\b\b\b\b\b\b\b\b\b\b\b\b\b\b\b\b\b\b\b\b\b\b\b\b\b\b\b\b\b\b\b\b\b\b\b\b\b\b\b\b\b\b\b\b\b\b\b\b\b\b\b\b\b\b\b\b\b\b\b\b\b\b\b\b\b\b\b\b\b\b\b\b\b\b\b\b\b\b\b\b\b\b\b\b\r263/263 [==============================] - 6s 23ms/step - loss: 0.0301 - accuracy: 0.9890 - val_loss: 0.0407 - val_accuracy: 0.9859 - lr: 3.9454e-04\n",
            "\n",
            "Epoch 121: LearningRateScheduler setting learning rate to 0.0003915399022698305.\n",
            "Epoch 121/300\n",
            "261/263 [============================>.] - ETA: 0s - loss: 0.0268 - accuracy: 0.9907\n",
            "Epoch 121: val_accuracy did not improve from 0.98590\n",
            "263/263 [==============================] - 2s 9ms/step - loss: 0.0267 - accuracy: 0.9908 - val_loss: 0.0456 - val_accuracy: 0.9832 - lr: 3.9154e-04\n",
            "\n",
            "Epoch 122: LearningRateScheduler setting learning rate to 0.00038853351557579374.\n",
            "Epoch 122/300\n",
            "261/263 [============================>.] - ETA: 0s - loss: 0.0234 - accuracy: 0.9922\n",
            "Epoch 122: val_accuracy did not improve from 0.98590\n",
            "263/263 [==============================] - 2s 9ms/step - loss: 0.0233 - accuracy: 0.9923 - val_loss: 0.0568 - val_accuracy: 0.9792 - lr: 3.8853e-04\n",
            "\n",
            "Epoch 123: LearningRateScheduler setting learning rate to 0.0003855173606547723.\n",
            "Epoch 123/300\n",
            "262/263 [============================>.] - ETA: 0s - loss: 0.0244 - accuracy: 0.9912\n",
            "Epoch 123: val_accuracy did not improve from 0.98590\n",
            "263/263 [==============================] - 2s 9ms/step - loss: 0.0243 - accuracy: 0.9913 - val_loss: 0.0607 - val_accuracy: 0.9772 - lr: 3.8552e-04\n",
            "\n",
            "Epoch 124: LearningRateScheduler setting learning rate to 0.0003824917704782321.\n",
            "Epoch 124/300\n",
            "259/263 [============================>.] - ETA: 0s - loss: 0.0256 - accuracy: 0.9906\n",
            "Epoch 124: val_accuracy did not improve from 0.98590\n",
            "263/263 [==============================] - 3s 11ms/step - loss: 0.0255 - accuracy: 0.9907 - val_loss: 0.0448 - val_accuracy: 0.9829 - lr: 3.8249e-04\n",
            "\n",
            "Epoch 125: LearningRateScheduler setting learning rate to 0.0003794570790592535.\n",
            "Epoch 125/300\n",
            "263/263 [==============================] - ETA: 0s - loss: 0.0241 - accuracy: 0.9914\n",
            "Epoch 125: val_accuracy did not improve from 0.98590\n",
            "263/263 [==============================] - 3s 12ms/step - loss: 0.0241 - accuracy: 0.9914 - val_loss: 0.0515 - val_accuracy: 0.9814 - lr: 3.7946e-04\n",
            "\n",
            "Epoch 126: LearningRateScheduler setting learning rate to 0.00037641362141565773.\n",
            "Epoch 126/300\n",
            "261/263 [============================>.] - ETA: 0s - loss: 0.0374 - accuracy: 0.9859\n",
            "Epoch 126: val_accuracy did not improve from 0.98590\n",
            "263/263 [==============================] - 2s 9ms/step - loss: 0.0372 - accuracy: 0.9860 - val_loss: 0.0412 - val_accuracy: 0.9847 - lr: 3.7641e-04\n",
            "\n",
            "Epoch 127: LearningRateScheduler setting learning rate to 0.0003733617335330225.\n",
            "Epoch 127/300\n",
            "257/263 [============================>.] - ETA: 0s - loss: 0.0221 - accuracy: 0.9925\n",
            "Epoch 127: val_accuracy did not improve from 0.98590\n",
            "263/263 [==============================] - 2s 9ms/step - loss: 0.0220 - accuracy: 0.9926 - val_loss: 0.0613 - val_accuracy: 0.9773 - lr: 3.7336e-04\n",
            "\n",
            "Epoch 128: LearningRateScheduler setting learning rate to 0.0003703017523275899.\n",
            "Epoch 128/300\n",
            "261/263 [============================>.] - ETA: 0s - loss: 0.0207 - accuracy: 0.9926\n",
            "Epoch 128: val_accuracy did not improve from 0.98590\n",
            "263/263 [==============================] - 3s 10ms/step - loss: 0.0207 - accuracy: 0.9927 - val_loss: 0.0510 - val_accuracy: 0.9820 - lr: 3.7030e-04\n",
            "\n",
            "Epoch 129: LearningRateScheduler setting learning rate to 0.0003672340156090729.\n",
            "Epoch 129/300\n",
            "260/263 [============================>.] - ETA: 0s - loss: 0.0196 - accuracy: 0.9931\n",
            "Epoch 129: val_accuracy did not improve from 0.98590\n",
            "263/263 [==============================] - 3s 11ms/step - loss: 0.0196 - accuracy: 0.9931 - val_loss: 0.0518 - val_accuracy: 0.9804 - lr: 3.6723e-04\n",
            "\n",
            "Epoch 130: LearningRateScheduler setting learning rate to 0.0003641588620433618.\n",
            "Epoch 130/300\n",
            "263/263 [==============================] - ETA: 0s - loss: 0.0248 - accuracy: 0.9907\n",
            "Epoch 130: val_accuracy did not improve from 0.98590\n",
            "263/263 [==============================] - 3s 13ms/step - loss: 0.0248 - accuracy: 0.9907 - val_loss: 0.0419 - val_accuracy: 0.9852 - lr: 3.6416e-04\n",
            "\n",
            "Epoch 131: LearningRateScheduler setting learning rate to 0.0003610766311151376.\n",
            "Epoch 131/300\n",
            "260/263 [============================>.] - ETA: 0s - loss: 0.0211 - accuracy: 0.9928\n",
            "Epoch 131: val_accuracy did not improve from 0.98590\n",
            "263/263 [==============================] - 2s 9ms/step - loss: 0.0211 - accuracy: 0.9928 - val_loss: 0.0619 - val_accuracy: 0.9788 - lr: 3.6108e-04\n",
            "\n",
            "Epoch 132: LearningRateScheduler setting learning rate to 0.0003579876630903934.\n",
            "Epoch 132/300\n",
            "263/263 [==============================] - ETA: 0s - loss: 0.0230 - accuracy: 0.9919\n",
            "Epoch 132: val_accuracy did not improve from 0.98590\n",
            "263/263 [==============================] - 2s 9ms/step - loss: 0.0230 - accuracy: 0.9919 - val_loss: 0.0743 - val_accuracy: 0.9727 - lr: 3.5799e-04\n",
            "\n",
            "Epoch 133: LearningRateScheduler setting learning rate to 0.0003548922989788715.\n",
            "Epoch 133/300\n",
            "261/263 [============================>.] - ETA: 0s - loss: 0.0237 - accuracy: 0.9918\n",
            "Epoch 133: val_accuracy did not improve from 0.98590\n",
            "263/263 [==============================] - 2s 9ms/step - loss: 0.0236 - accuracy: 0.9919 - val_loss: 0.0407 - val_accuracy: 0.9855 - lr: 3.5489e-04\n",
            "\n",
            "Epoch 134: LearningRateScheduler setting learning rate to 0.00035179088049641617.\n",
            "Epoch 134/300\n",
            "263/263 [==============================] - ETA: 0s - loss: 0.0249 - accuracy: 0.9908\n",
            "Epoch 134: val_accuracy did not improve from 0.98590\n",
            "263/263 [==============================] - 3s 11ms/step - loss: 0.0249 - accuracy: 0.9908 - val_loss: 0.0518 - val_accuracy: 0.9808 - lr: 3.5179e-04\n",
            "\n",
            "Epoch 135: LearningRateScheduler setting learning rate to 0.0003486837500272502.\n",
            "Epoch 135/300\n",
            "256/263 [============================>.] - ETA: 0s - loss: 0.0222 - accuracy: 0.9918\n",
            "Epoch 135: val_accuracy did not improve from 0.98590\n",
            "263/263 [==============================] - 3s 13ms/step - loss: 0.0221 - accuracy: 0.9918 - val_loss: 0.0423 - val_accuracy: 0.9831 - lr: 3.4868e-04\n",
            "\n",
            "Epoch 136: LearningRateScheduler setting learning rate to 0.00034557125058617695.\n",
            "Epoch 136/300\n",
            "263/263 [==============================] - ETA: 0s - loss: 0.0206 - accuracy: 0.9928\n",
            "Epoch 136: val_accuracy did not improve from 0.98590\n",
            "263/263 [==============================] - 2s 9ms/step - loss: 0.0206 - accuracy: 0.9928 - val_loss: 0.0491 - val_accuracy: 0.9822 - lr: 3.4557e-04\n",
            "\n",
            "Epoch 137: LearningRateScheduler setting learning rate to 0.00034245372578071276.\n",
            "Epoch 137/300\n",
            "263/263 [==============================] - ETA: 0s - loss: 0.0218 - accuracy: 0.9924\n",
            "Epoch 137: val_accuracy did not improve from 0.98590\n",
            "263/263 [==============================] - 3s 10ms/step - loss: 0.0218 - accuracy: 0.9924 - val_loss: 0.0419 - val_accuracy: 0.9847 - lr: 3.4245e-04\n",
            "\n",
            "Epoch 138: LearningRateScheduler setting learning rate to 0.0003393315197731543.\n",
            "Epoch 138/300\n",
            "257/263 [============================>.] - ETA: 0s - loss: 0.0213 - accuracy: 0.9928\n",
            "Epoch 138: val_accuracy did not improve from 0.98590\n",
            "263/263 [==============================] - 2s 9ms/step - loss: 0.0214 - accuracy: 0.9927 - val_loss: 0.0427 - val_accuracy: 0.9843 - lr: 3.3933e-04\n",
            "\n",
            "Epoch 139: LearningRateScheduler setting learning rate to 0.0003362049772425841.\n",
            "Epoch 139/300\n",
            "262/263 [============================>.] - ETA: 0s - loss: 0.0177 - accuracy: 0.9942\n",
            "Epoch 139: val_accuracy did not improve from 0.98590\n",
            "263/263 [==============================] - 3s 12ms/step - loss: 0.0176 - accuracy: 0.9942 - val_loss: 0.0530 - val_accuracy: 0.9798 - lr: 3.3620e-04\n",
            "\n",
            "Epoch 140: LearningRateScheduler setting learning rate to 0.0003330744433468198.\n",
            "Epoch 140/300\n",
            "259/263 [============================>.] - ETA: 0s - loss: 0.0185 - accuracy: 0.9938\n",
            "Epoch 140: val_accuracy did not improve from 0.98590\n",
            "263/263 [==============================] - 3s 12ms/step - loss: 0.0185 - accuracy: 0.9938 - val_loss: 0.0477 - val_accuracy: 0.9831 - lr: 3.3307e-04\n",
            "\n",
            "Epoch 141: LearningRateScheduler setting learning rate to 0.00032994026368430944.\n",
            "Epoch 141/300\n",
            "258/263 [============================>.] - ETA: 0s - loss: 0.0183 - accuracy: 0.9938\n",
            "Epoch 141: val_accuracy did not improve from 0.98590\n",
            "263/263 [==============================] - 2s 9ms/step - loss: 0.0184 - accuracy: 0.9937 - val_loss: 0.0824 - val_accuracy: 0.9710 - lr: 3.2994e-04\n",
            "\n",
            "Epoch 142: LearningRateScheduler setting learning rate to 0.00032680278425597934.\n",
            "Epoch 142/300\n",
            "263/263 [==============================] - ETA: 0s - loss: 0.0250 - accuracy: 0.9912\n",
            "Epoch 142: val_accuracy did not improve from 0.98590\n",
            "263/263 [==============================] - 3s 10ms/step - loss: 0.0250 - accuracy: 0.9912 - val_loss: 0.0541 - val_accuracy: 0.9802 - lr: 3.2680e-04\n",
            "\n",
            "Epoch 143: LearningRateScheduler setting learning rate to 0.00032366235142703694.\n",
            "Epoch 143/300\n",
            "257/263 [============================>.] - ETA: 0s - loss: 0.0166 - accuracy: 0.9945\n",
            "Epoch 143: val_accuracy did not improve from 0.98590\n",
            "263/263 [==============================] - 3s 10ms/step - loss: 0.0165 - accuracy: 0.9945 - val_loss: 0.0381 - val_accuracy: 0.9855 - lr: 3.2366e-04\n",
            "\n",
            "Epoch 144: LearningRateScheduler setting learning rate to 0.0003205193118887331.\n",
            "Epoch 144/300\n",
            "261/263 [============================>.] - ETA: 0s - loss: 0.0195 - accuracy: 0.9936\n",
            "Epoch 144: val_accuracy did not improve from 0.98590\n",
            "263/263 [==============================] - 3s 12ms/step - loss: 0.0194 - accuracy: 0.9936 - val_loss: 0.0478 - val_accuracy: 0.9814 - lr: 3.2052e-04\n",
            "\n",
            "Epoch 145: LearningRateScheduler setting learning rate to 0.0003173740126200891.\n",
            "Epoch 145/300\n",
            "259/263 [============================>.] - ETA: 0s - loss: 0.0196 - accuracy: 0.9933\n",
            "Epoch 145: val_accuracy did not improve from 0.98590\n",
            "263/263 [==============================] - 3s 13ms/step - loss: 0.0195 - accuracy: 0.9934 - val_loss: 0.0453 - val_accuracy: 0.9826 - lr: 3.1737e-04\n",
            "\n",
            "Epoch 146: LearningRateScheduler setting learning rate to 0.0003142268008495914.\n",
            "Epoch 146/300\n",
            "260/263 [============================>.] - ETA: 0s - loss: 0.0209 - accuracy: 0.9926\n",
            "Epoch 146: val_accuracy did not improve from 0.98590\n",
            "263/263 [==============================] - 2s 9ms/step - loss: 0.0208 - accuracy: 0.9926 - val_loss: 0.0410 - val_accuracy: 0.9839 - lr: 3.1423e-04\n",
            "\n",
            "Epoch 147: LearningRateScheduler setting learning rate to 0.0003110780240168591.\n",
            "Epoch 147/300\n",
            "259/263 [============================>.] - ETA: 0s - loss: 0.0172 - accuracy: 0.9941\n",
            "Epoch 147: val_accuracy did not improve from 0.98590\n",
            "263/263 [==============================] - 2s 9ms/step - loss: 0.0173 - accuracy: 0.9941 - val_loss: 0.0428 - val_accuracy: 0.9845 - lr: 3.1108e-04\n",
            "\n",
            "Epoch 148: LearningRateScheduler setting learning rate to 0.00030792802973428774.\n",
            "Epoch 148/300\n",
            "263/263 [==============================] - ETA: 0s - loss: 0.0164 - accuracy: 0.9945\n",
            "Epoch 148: val_accuracy did not improve from 0.98590\n",
            "263/263 [==============================] - 2s 9ms/step - loss: 0.0164 - accuracy: 0.9945 - val_loss: 0.0532 - val_accuracy: 0.9796 - lr: 3.0793e-04\n",
            "\n",
            "Epoch 149: LearningRateScheduler setting learning rate to 0.00030477716574867477.\n",
            "Epoch 149/300\n",
            "263/263 [==============================] - ETA: 0s - loss: 0.0163 - accuracy: 0.9945\n",
            "Epoch 149: val_accuracy did not improve from 0.98590\n",
            "263/263 [==============================] - 3s 12ms/step - loss: 0.0163 - accuracy: 0.9945 - val_loss: 0.0997 - val_accuracy: 0.9665 - lr: 3.0478e-04\n",
            "\n",
            "Epoch 150: LearningRateScheduler setting learning rate to 0.0003016257799028291.\n",
            "Epoch 150/300\n",
            "263/263 [==============================] - ETA: 0s - loss: 0.0178 - accuracy: 0.9941\n",
            "Epoch 150: val_accuracy improved from 0.98590 to 0.98724, saving model to /content/drive/MyDrive/m_p/MLP/HyperMixer/Hissar_sentinel2/Without Pearson correlation/Trained models/75% ps_9\n"
          ]
        },
        {
          "output_type": "stream",
          "name": "stderr",
          "text": [
            "WARNING:absl:Found untraced functions such as layer_normalization_layer_call_fn, layer_normalization_layer_call_and_return_conditional_losses, layer_normalization_1_layer_call_fn, layer_normalization_1_layer_call_and_return_conditional_losses, mlp_layer_call_fn while saving (showing 5 of 30). These functions will not be directly callable after loading.\n"
          ]
        },
        {
          "output_type": "stream",
          "name": "stdout",
          "text": [
            "\b\b\b\b\b\b\b\b\b\b\b\b\b\b\b\b\b\b\b\b\b\b\b\b\b\b\b\b\b\b\b\b\b\b\b\b\b\b\b\b\b\b\b\b\b\b\b\b\b\b\b\b\b\b\b\b\b\b\b\b\b\b\b\b\b\b\b\b\b\b\b\b\b\b\b\b\b\b\b\b\b\b\b\b\r263/263 [==============================] - 5s 19ms/step - loss: 0.0178 - accuracy: 0.9941 - val_loss: 0.0350 - val_accuracy: 0.9872 - lr: 3.0163e-04\n",
            "\n",
            "Epoch 151: LearningRateScheduler setting learning rate to 0.000298474220097171.\n",
            "Epoch 151/300\n",
            "258/263 [============================>.] - ETA: 0s - loss: 0.0162 - accuracy: 0.9944\n",
            "Epoch 151: val_accuracy did not improve from 0.98724\n",
            "263/263 [==============================] - 2s 9ms/step - loss: 0.0163 - accuracy: 0.9944 - val_loss: 0.0392 - val_accuracy: 0.9861 - lr: 2.9847e-04\n",
            "\n",
            "Epoch 152: LearningRateScheduler setting learning rate to 0.0002953228342513253.\n",
            "Epoch 152/300\n",
            "260/263 [============================>.] - ETA: 0s - loss: 0.0115 - accuracy: 0.9965\n",
            "Epoch 152: val_accuracy did not improve from 0.98724\n",
            "263/263 [==============================] - 2s 9ms/step - loss: 0.0115 - accuracy: 0.9965 - val_loss: 0.1572 - val_accuracy: 0.9537 - lr: 2.9532e-04\n",
            "\n",
            "Epoch 153: LearningRateScheduler setting learning rate to 0.0002921719702657123.\n",
            "Epoch 153/300\n",
            "261/263 [============================>.] - ETA: 0s - loss: 0.0161 - accuracy: 0.9946\n",
            "Epoch 153: val_accuracy did not improve from 0.98724\n",
            "263/263 [==============================] - 3s 10ms/step - loss: 0.0160 - accuracy: 0.9946 - val_loss: 0.0368 - val_accuracy: 0.9862 - lr: 2.9217e-04\n",
            "\n",
            "Epoch 154: LearningRateScheduler setting learning rate to 0.00028902197598314097.\n",
            "Epoch 154/300\n",
            "259/263 [============================>.] - ETA: 0s - loss: 0.0118 - accuracy: 0.9964\n",
            "Epoch 154: val_accuracy did not improve from 0.98724\n",
            "263/263 [==============================] - 3s 13ms/step - loss: 0.0118 - accuracy: 0.9963 - val_loss: 0.2073 - val_accuracy: 0.9411 - lr: 2.8902e-04\n",
            "\n",
            "Epoch 155: LearningRateScheduler setting learning rate to 0.0002858731991504086.\n",
            "Epoch 155/300\n",
            "263/263 [==============================] - ETA: 0s - loss: 0.0139 - accuracy: 0.9952\n",
            "Epoch 155: val_accuracy improved from 0.98724 to 0.99027, saving model to /content/drive/MyDrive/m_p/MLP/HyperMixer/Hissar_sentinel2/Without Pearson correlation/Trained models/75% ps_9\n"
          ]
        },
        {
          "output_type": "stream",
          "name": "stderr",
          "text": [
            "WARNING:absl:Found untraced functions such as layer_normalization_layer_call_fn, layer_normalization_layer_call_and_return_conditional_losses, layer_normalization_1_layer_call_fn, layer_normalization_1_layer_call_and_return_conditional_losses, mlp_layer_call_fn while saving (showing 5 of 30). These functions will not be directly callable after loading.\n"
          ]
        },
        {
          "output_type": "stream",
          "name": "stdout",
          "text": [
            "\b\b\b\b\b\b\b\b\b\b\b\b\b\b\b\b\b\b\b\b\b\b\b\b\b\b\b\b\b\b\b\b\b\b\b\b\b\b\b\b\b\b\b\b\b\b\b\b\b\b\b\b\b\b\b\b\b\b\b\b\b\b\b\b\b\b\b\b\b\b\b\b\b\b\b\b\b\b\b\b\b\b\b\b\r263/263 [==============================] - 4s 17ms/step - loss: 0.0139 - accuracy: 0.9952 - val_loss: 0.0271 - val_accuracy: 0.9903 - lr: 2.8587e-04\n",
            "\n",
            "Epoch 156: LearningRateScheduler setting learning rate to 0.00028272598737991096.\n",
            "Epoch 156/300\n",
            "257/263 [============================>.] - ETA: 0s - loss: 0.0088 - accuracy: 0.9974\n",
            "Epoch 156: val_accuracy improved from 0.99027 to 0.99054, saving model to /content/drive/MyDrive/m_p/MLP/HyperMixer/Hissar_sentinel2/Without Pearson correlation/Trained models/75% ps_9\n"
          ]
        },
        {
          "output_type": "stream",
          "name": "stderr",
          "text": [
            "WARNING:absl:Found untraced functions such as layer_normalization_layer_call_fn, layer_normalization_layer_call_and_return_conditional_losses, layer_normalization_1_layer_call_fn, layer_normalization_1_layer_call_and_return_conditional_losses, mlp_layer_call_fn while saving (showing 5 of 30). These functions will not be directly callable after loading.\n"
          ]
        },
        {
          "output_type": "stream",
          "name": "stdout",
          "text": [
            "\b\b\b\b\b\b\b\b\b\b\b\b\b\b\b\b\b\b\b\b\b\b\b\b\b\b\b\b\b\b\b\b\b\b\b\b\b\b\b\b\b\b\b\b\b\b\b\b\b\b\b\b\b\b\b\b\b\b\b\b\b\b\b\b\b\b\b\b\b\b\b\b\b\b\b\b\b\b\b\b\b\b\b\b\r263/263 [==============================] - 4s 16ms/step - loss: 0.0089 - accuracy: 0.9973 - val_loss: 0.0265 - val_accuracy: 0.9905 - lr: 2.8273e-04\n",
            "\n",
            "Epoch 157: LearningRateScheduler setting learning rate to 0.000279580688111267.\n",
            "Epoch 157/300\n",
            "261/263 [============================>.] - ETA: 0s - loss: 0.0100 - accuracy: 0.9967\n",
            "Epoch 157: val_accuracy did not improve from 0.99054\n",
            "263/263 [==============================] - 3s 12ms/step - loss: 0.0101 - accuracy: 0.9967 - val_loss: 0.1288 - val_accuracy: 0.9605 - lr: 2.7958e-04\n",
            "\n",
            "Epoch 158: LearningRateScheduler setting learning rate to 0.0002764376485729631.\n",
            "Epoch 158/300\n",
            "258/263 [============================>.] - ETA: 0s - loss: 0.0188 - accuracy: 0.9932\n",
            "Epoch 158: val_accuracy did not improve from 0.99054\n",
            "263/263 [==============================] - 3s 11ms/step - loss: 0.0186 - accuracy: 0.9933 - val_loss: 0.0301 - val_accuracy: 0.9896 - lr: 2.7644e-04\n",
            "\n",
            "Epoch 159: LearningRateScheduler setting learning rate to 0.00027329721574402067.\n",
            "Epoch 159/300\n",
            "257/263 [============================>.] - ETA: 0s - loss: 0.0116 - accuracy: 0.9964\n",
            "Epoch 159: val_accuracy did not improve from 0.99054\n",
            "263/263 [==============================] - 2s 9ms/step - loss: 0.0115 - accuracy: 0.9965 - val_loss: 0.0285 - val_accuracy: 0.9896 - lr: 2.7330e-04\n",
            "\n",
            "Epoch 160: LearningRateScheduler setting learning rate to 0.0002701597363156906.\n",
            "Epoch 160/300\n",
            "257/263 [============================>.] - ETA: 0s - loss: 0.0107 - accuracy: 0.9966\n",
            "Epoch 160: val_accuracy did not improve from 0.99054\n",
            "263/263 [==============================] - 2s 9ms/step - loss: 0.0108 - accuracy: 0.9965 - val_loss: 0.0610 - val_accuracy: 0.9782 - lr: 2.7016e-04\n",
            "\n",
            "Epoch 161: LearningRateScheduler setting learning rate to 0.0002670255566531802.\n",
            "Epoch 161/300\n",
            "263/263 [==============================] - ETA: 0s - loss: 0.0096 - accuracy: 0.9969\n",
            "Epoch 161: val_accuracy did not improve from 0.99054\n",
            "263/263 [==============================] - 3s 10ms/step - loss: 0.0096 - accuracy: 0.9969 - val_loss: 0.0916 - val_accuracy: 0.9697 - lr: 2.6703e-04\n",
            "\n",
            "Epoch 162: LearningRateScheduler setting learning rate to 0.0002638950227574159.\n",
            "Epoch 162/300\n",
            "263/263 [==============================] - ETA: 0s - loss: 0.0129 - accuracy: 0.9955\n",
            "Epoch 162: val_accuracy did not improve from 0.99054\n",
            "263/263 [==============================] - 3s 13ms/step - loss: 0.0129 - accuracy: 0.9955 - val_loss: 0.0257 - val_accuracy: 0.9904 - lr: 2.6390e-04\n",
            "\n",
            "Epoch 163: LearningRateScheduler setting learning rate to 0.0002607684802268458.\n",
            "Epoch 163/300\n",
            "262/263 [============================>.] - ETA: 0s - loss: 0.0095 - accuracy: 0.9969\n",
            "Epoch 163: val_accuracy did not improve from 0.99054\n",
            "263/263 [==============================] - 3s 11ms/step - loss: 0.0094 - accuracy: 0.9969 - val_loss: 0.0258 - val_accuracy: 0.9905 - lr: 2.6077e-04\n",
            "\n",
            "Epoch 164: LearningRateScheduler setting learning rate to 0.0002576462742192873.\n",
            "Epoch 164/300\n",
            "263/263 [==============================] - ETA: 0s - loss: 0.0127 - accuracy: 0.9954\n",
            "Epoch 164: val_accuracy improved from 0.99054 to 0.99161, saving model to /content/drive/MyDrive/m_p/MLP/HyperMixer/Hissar_sentinel2/Without Pearson correlation/Trained models/75% ps_9\n"
          ]
        },
        {
          "output_type": "stream",
          "name": "stderr",
          "text": [
            "WARNING:absl:Found untraced functions such as layer_normalization_layer_call_fn, layer_normalization_layer_call_and_return_conditional_losses, layer_normalization_1_layer_call_fn, layer_normalization_1_layer_call_and_return_conditional_losses, mlp_layer_call_fn while saving (showing 5 of 30). These functions will not be directly callable after loading.\n"
          ]
        },
        {
          "output_type": "stream",
          "name": "stdout",
          "text": [
            "\b\b\b\b\b\b\b\b\b\b\b\b\b\b\b\b\b\b\b\b\b\b\b\b\b\b\b\b\b\b\b\b\b\b\b\b\b\b\b\b\b\b\b\b\b\b\b\b\b\b\b\b\b\b\b\b\b\b\b\b\b\b\b\b\b\b\b\b\b\b\b\b\b\b\b\b\b\b\b\b\b\b\b\b\r263/263 [==============================] - 5s 19ms/step - loss: 0.0127 - accuracy: 0.9954 - val_loss: 0.0242 - val_accuracy: 0.9916 - lr: 2.5765e-04\n",
            "\n",
            "Epoch 165: LearningRateScheduler setting learning rate to 0.0002545287494138232.\n",
            "Epoch 165/300\n",
            "261/263 [============================>.] - ETA: 0s - loss: 0.0080 - accuracy: 0.9977\n",
            "Epoch 165: val_accuracy improved from 0.99161 to 0.99170, saving model to /content/drive/MyDrive/m_p/MLP/HyperMixer/Hissar_sentinel2/Without Pearson correlation/Trained models/75% ps_9\n"
          ]
        },
        {
          "output_type": "stream",
          "name": "stderr",
          "text": [
            "WARNING:absl:Found untraced functions such as layer_normalization_layer_call_fn, layer_normalization_layer_call_and_return_conditional_losses, layer_normalization_1_layer_call_fn, layer_normalization_1_layer_call_and_return_conditional_losses, mlp_layer_call_fn while saving (showing 5 of 30). These functions will not be directly callable after loading.\n"
          ]
        },
        {
          "output_type": "stream",
          "name": "stdout",
          "text": [
            "\b\b\b\b\b\b\b\b\b\b\b\b\b\b\b\b\b\b\b\b\b\b\b\b\b\b\b\b\b\b\b\b\b\b\b\b\b\b\b\b\b\b\b\b\b\b\b\b\b\b\b\b\b\b\b\b\b\b\b\b\b\b\b\b\b\b\b\b\b\b\b\b\b\b\b\b\b\b\b\b\b\b\b\b\r263/263 [==============================] - 5s 21ms/step - loss: 0.0080 - accuracy: 0.9977 - val_loss: 0.0270 - val_accuracy: 0.9917 - lr: 2.5453e-04\n",
            "\n",
            "Epoch 166: LearningRateScheduler setting learning rate to 0.00025141624997274993.\n",
            "Epoch 166/300\n",
            "256/263 [============================>.] - ETA: 0s - loss: 0.0074 - accuracy: 0.9979\n",
            "Epoch 166: val_accuracy did not improve from 0.99170\n",
            "263/263 [==============================] - 3s 11ms/step - loss: 0.0075 - accuracy: 0.9979 - val_loss: 0.0264 - val_accuracy: 0.9908 - lr: 2.5142e-04\n",
            "\n",
            "Epoch 167: LearningRateScheduler setting learning rate to 0.0002483091195035838.\n",
            "Epoch 167/300\n",
            "257/263 [============================>.] - ETA: 0s - loss: 0.0122 - accuracy: 0.9958\n",
            "Epoch 167: val_accuracy did not improve from 0.99170\n",
            "263/263 [==============================] - 2s 9ms/step - loss: 0.0122 - accuracy: 0.9957 - val_loss: 0.0407 - val_accuracy: 0.9862 - lr: 2.4831e-04\n",
            "\n",
            "Epoch 168: LearningRateScheduler setting learning rate to 0.0002452077010211285.\n",
            "Epoch 168/300\n",
            "260/263 [============================>.] - ETA: 0s - loss: 0.0123 - accuracy: 0.9961\n",
            "Epoch 168: val_accuracy did not improve from 0.99170\n",
            "263/263 [==============================] - 3s 10ms/step - loss: 0.0123 - accuracy: 0.9961 - val_loss: 0.0559 - val_accuracy: 0.9814 - lr: 2.4521e-04\n",
            "\n",
            "Epoch 169: LearningRateScheduler setting learning rate to 0.00024211233690960655.\n",
            "Epoch 169/300\n",
            "262/263 [============================>.] - ETA: 0s - loss: 0.0157 - accuracy: 0.9948\n",
            "Epoch 169: val_accuracy did not improve from 0.99170\n",
            "263/263 [==============================] - 2s 9ms/step - loss: 0.0156 - accuracy: 0.9949 - val_loss: 0.0354 - val_accuracy: 0.9860 - lr: 2.4211e-04\n",
            "\n",
            "Epoch 170: LearningRateScheduler setting learning rate to 0.00023902336888486248.\n",
            "Epoch 170/300\n",
            "260/263 [============================>.] - ETA: 0s - loss: 0.0113 - accuracy: 0.9960\n",
            "Epoch 170: val_accuracy improved from 0.99170 to 0.99179, saving model to /content/drive/MyDrive/m_p/MLP/HyperMixer/Hissar_sentinel2/Without Pearson correlation/Trained models/75% ps_9\n"
          ]
        },
        {
          "output_type": "stream",
          "name": "stderr",
          "text": [
            "WARNING:absl:Found untraced functions such as layer_normalization_layer_call_fn, layer_normalization_layer_call_and_return_conditional_losses, layer_normalization_1_layer_call_fn, layer_normalization_1_layer_call_and_return_conditional_losses, mlp_layer_call_fn while saving (showing 5 of 30). These functions will not be directly callable after loading.\n"
          ]
        },
        {
          "output_type": "stream",
          "name": "stdout",
          "text": [
            "\b\b\b\b\b\b\b\b\b\b\b\b\b\b\b\b\b\b\b\b\b\b\b\b\b\b\b\b\b\b\b\b\b\b\b\b\b\b\b\b\b\b\b\b\b\b\b\b\b\b\b\b\b\b\b\b\b\b\b\b\b\b\b\b\b\b\b\b\b\b\b\b\b\b\b\b\b\b\b\b\b\b\b\b\r263/263 [==============================] - 6s 21ms/step - loss: 0.0113 - accuracy: 0.9960 - val_loss: 0.0218 - val_accuracy: 0.9918 - lr: 2.3902e-04\n",
            "\n",
            "Epoch 171: LearningRateScheduler setting learning rate to 0.00023594113795663826.\n",
            "Epoch 171/300\n",
            "262/263 [============================>.] - ETA: 0s - loss: 0.0065 - accuracy: 0.9984\n",
            "Epoch 171: val_accuracy did not improve from 0.99179\n",
            "263/263 [==============================] - 3s 10ms/step - loss: 0.0065 - accuracy: 0.9984 - val_loss: 0.0332 - val_accuracy: 0.9876 - lr: 2.3594e-04\n",
            "\n",
            "Epoch 172: LearningRateScheduler setting learning rate to 0.00023286598439092718.\n",
            "Epoch 172/300\n",
            "262/263 [============================>.] - ETA: 0s - loss: 0.0125 - accuracy: 0.9957\n",
            "Epoch 172: val_accuracy did not improve from 0.99179\n",
            "263/263 [==============================] - 2s 9ms/step - loss: 0.0124 - accuracy: 0.9957 - val_loss: 0.0227 - val_accuracy: 0.9912 - lr: 2.3287e-04\n",
            "\n",
            "Epoch 173: LearningRateScheduler setting learning rate to 0.0002297982476724101.\n",
            "Epoch 173/300\n",
            "262/263 [============================>.] - ETA: 0s - loss: 0.0071 - accuracy: 0.9979\n",
            "Epoch 173: val_accuracy improved from 0.99179 to 0.99286, saving model to /content/drive/MyDrive/m_p/MLP/HyperMixer/Hissar_sentinel2/Without Pearson correlation/Trained models/75% ps_9\n"
          ]
        },
        {
          "output_type": "stream",
          "name": "stderr",
          "text": [
            "WARNING:absl:Found untraced functions such as layer_normalization_layer_call_fn, layer_normalization_layer_call_and_return_conditional_losses, layer_normalization_1_layer_call_fn, layer_normalization_1_layer_call_and_return_conditional_losses, mlp_layer_call_fn while saving (showing 5 of 30). These functions will not be directly callable after loading.\n"
          ]
        },
        {
          "output_type": "stream",
          "name": "stdout",
          "text": [
            "\b\b\b\b\b\b\b\b\b\b\b\b\b\b\b\b\b\b\b\b\b\b\b\b\b\b\b\b\b\b\b\b\b\b\b\b\b\b\b\b\b\b\b\b\b\b\b\b\b\b\b\b\b\b\b\b\b\b\b\b\b\b\b\b\b\b\b\b\b\b\b\b\b\b\b\b\b\b\b\b\b\b\b\b\r263/263 [==============================] - 5s 20ms/step - loss: 0.0071 - accuracy: 0.9979 - val_loss: 0.0216 - val_accuracy: 0.9929 - lr: 2.2980e-04\n",
            "\n",
            "Epoch 174: LearningRateScheduler setting learning rate to 0.00022673826646697764.\n",
            "Epoch 174/300\n",
            "263/263 [==============================] - ETA: 0s - loss: 0.0128 - accuracy: 0.9959\n",
            "Epoch 174: val_accuracy did not improve from 0.99286\n",
            "263/263 [==============================] - 4s 13ms/step - loss: 0.0128 - accuracy: 0.9959 - val_loss: 0.0269 - val_accuracy: 0.9893 - lr: 2.2674e-04\n",
            "\n",
            "Epoch 175: LearningRateScheduler setting learning rate to 0.00022368637858434236.\n",
            "Epoch 175/300\n",
            "262/263 [============================>.] - ETA: 0s - loss: 0.0061 - accuracy: 0.9984\n",
            "Epoch 175: val_accuracy did not improve from 0.99286\n",
            "263/263 [==============================] - 3s 10ms/step - loss: 0.0061 - accuracy: 0.9984 - val_loss: 0.0209 - val_accuracy: 0.9929 - lr: 2.2369e-04\n",
            "\n",
            "Epoch 176: LearningRateScheduler setting learning rate to 0.00022064292094074663.\n",
            "Epoch 176/300\n",
            "260/263 [============================>.] - ETA: 0s - loss: 0.0070 - accuracy: 0.9978\n",
            "Epoch 176: val_accuracy did not improve from 0.99286\n",
            "263/263 [==============================] - 2s 9ms/step - loss: 0.0073 - accuracy: 0.9977 - val_loss: 0.1019 - val_accuracy: 0.9676 - lr: 2.2064e-04\n",
            "\n",
            "Epoch 177: LearningRateScheduler setting learning rate to 0.000217608229521768.\n",
            "Epoch 177/300\n",
            "260/263 [============================>.] - ETA: 0s - loss: 0.0111 - accuracy: 0.9963\n",
            "Epoch 177: val_accuracy did not improve from 0.99286\n",
            "263/263 [==============================] - 2s 9ms/step - loss: 0.0110 - accuracy: 0.9963 - val_loss: 0.0205 - val_accuracy: 0.9927 - lr: 2.1761e-04\n",
            "\n",
            "Epoch 178: LearningRateScheduler setting learning rate to 0.00021458263934522767.\n",
            "Epoch 178/300\n",
            "260/263 [============================>.] - ETA: 0s - loss: 0.0055 - accuracy: 0.9984\n",
            "Epoch 178: val_accuracy improved from 0.99286 to 0.99304, saving model to /content/drive/MyDrive/m_p/MLP/HyperMixer/Hissar_sentinel2/Without Pearson correlation/Trained models/75% ps_9\n"
          ]
        },
        {
          "output_type": "stream",
          "name": "stderr",
          "text": [
            "WARNING:absl:Found untraced functions such as layer_normalization_layer_call_fn, layer_normalization_layer_call_and_return_conditional_losses, layer_normalization_1_layer_call_fn, layer_normalization_1_layer_call_and_return_conditional_losses, mlp_layer_call_fn while saving (showing 5 of 30). These functions will not be directly callable after loading.\n"
          ]
        },
        {
          "output_type": "stream",
          "name": "stdout",
          "text": [
            "\b\b\b\b\b\b\b\b\b\b\b\b\b\b\b\b\b\b\b\b\b\b\b\b\b\b\b\b\b\b\b\b\b\b\b\b\b\b\b\b\b\b\b\b\b\b\b\b\b\b\b\b\b\b\b\b\b\b\b\b\b\b\b\b\b\b\b\b\b\b\b\b\b\b\b\b\b\b\b\b\b\b\b\b\r263/263 [==============================] - 6s 22ms/step - loss: 0.0055 - accuracy: 0.9984 - val_loss: 0.0197 - val_accuracy: 0.9930 - lr: 2.1458e-04\n",
            "\n",
            "Epoch 179: LearningRateScheduler setting learning rate to 0.00021156648442420618.\n",
            "Epoch 179/300\n",
            "260/263 [============================>.] - ETA: 0s - loss: 0.0054 - accuracy: 0.9985\n",
            "Epoch 179: val_accuracy did not improve from 0.99304\n",
            "263/263 [==============================] - 2s 9ms/step - loss: 0.0054 - accuracy: 0.9985 - val_loss: 0.0205 - val_accuracy: 0.9928 - lr: 2.1157e-04\n",
            "\n",
            "Epoch 180: LearningRateScheduler setting learning rate to 0.00020856009773016955.\n",
            "Epoch 180/300\n",
            "257/263 [============================>.] - ETA: 0s - loss: 0.0047 - accuracy: 0.9990\n",
            "Epoch 180: val_accuracy did not improve from 0.99304\n",
            "263/263 [==============================] - 2s 9ms/step - loss: 0.0048 - accuracy: 0.9989 - val_loss: 0.0213 - val_accuracy: 0.9925 - lr: 2.0856e-04\n",
            "\n",
            "Epoch 181: LearningRateScheduler setting learning rate to 0.00020556381115621015.\n",
            "Epoch 181/300\n",
            "262/263 [============================>.] - ETA: 0s - loss: 0.0083 - accuracy: 0.9974\n",
            "Epoch 181: val_accuracy did not improve from 0.99304\n",
            "263/263 [==============================] - 2s 9ms/step - loss: 0.0083 - accuracy: 0.9974 - val_loss: 0.0294 - val_accuracy: 0.9892 - lr: 2.0556e-04\n",
            "\n",
            "Epoch 182: LearningRateScheduler setting learning rate to 0.00020257795548040786.\n",
            "Epoch 182/300\n",
            "260/263 [============================>.] - ETA: 0s - loss: 0.0126 - accuracy: 0.9956\n",
            "Epoch 182: val_accuracy did not improve from 0.99304\n",
            "263/263 [==============================] - 3s 11ms/step - loss: 0.0127 - accuracy: 0.9957 - val_loss: 0.0304 - val_accuracy: 0.9899 - lr: 2.0258e-04\n",
            "\n",
            "Epoch 183: LearningRateScheduler setting learning rate to 0.0001996028603293127.\n",
            "Epoch 183/300\n",
            "262/263 [============================>.] - ETA: 0s - loss: 0.0055 - accuracy: 0.9986\n",
            "Epoch 183: val_accuracy did not improve from 0.99304\n",
            "263/263 [==============================] - 3s 13ms/step - loss: 0.0055 - accuracy: 0.9986 - val_loss: 0.0226 - val_accuracy: 0.9930 - lr: 1.9960e-04\n",
            "\n",
            "Epoch 184: LearningRateScheduler setting learning rate to 0.000196638854141556.\n",
            "Epoch 184/300\n",
            "257/263 [============================>.] - ETA: 0s - loss: 0.0048 - accuracy: 0.9988\n",
            "Epoch 184: val_accuracy did not improve from 0.99304\n",
            "263/263 [==============================] - 3s 10ms/step - loss: 0.0049 - accuracy: 0.9988 - val_loss: 0.0224 - val_accuracy: 0.9922 - lr: 1.9664e-04\n",
            "\n",
            "Epoch 185: LearningRateScheduler setting learning rate to 0.0001936862641315915.\n",
            "Epoch 185/300\n",
            "263/263 [==============================] - ETA: 0s - loss: 0.0041 - accuracy: 0.9991\n",
            "Epoch 185: val_accuracy improved from 0.99304 to 0.99322, saving model to /content/drive/MyDrive/m_p/MLP/HyperMixer/Hissar_sentinel2/Without Pearson correlation/Trained models/75% ps_9\n"
          ]
        },
        {
          "output_type": "stream",
          "name": "stderr",
          "text": [
            "WARNING:absl:Found untraced functions such as layer_normalization_layer_call_fn, layer_normalization_layer_call_and_return_conditional_losses, layer_normalization_1_layer_call_fn, layer_normalization_1_layer_call_and_return_conditional_losses, mlp_layer_call_fn while saving (showing 5 of 30). These functions will not be directly callable after loading.\n"
          ]
        },
        {
          "output_type": "stream",
          "name": "stdout",
          "text": [
            "\b\b\b\b\b\b\b\b\b\b\b\b\b\b\b\b\b\b\b\b\b\b\b\b\b\b\b\b\b\b\b\b\b\b\b\b\b\b\b\b\b\b\b\b\b\b\b\b\b\b\b\b\b\b\b\b\b\b\b\b\b\b\b\b\b\b\b\b\b\b\b\b\b\b\b\b\b\b\b\b\b\b\b\b\r263/263 [==============================] - 4s 17ms/step - loss: 0.0041 - accuracy: 0.9991 - val_loss: 0.0204 - val_accuracy: 0.9932 - lr: 1.9369e-04\n",
            "\n",
            "Epoch 186: LearningRateScheduler setting learning rate to 0.0001907454162535726.\n",
            "Epoch 186/300\n",
            "261/263 [============================>.] - ETA: 0s - loss: 0.0039 - accuracy: 0.9992\n",
            "Epoch 186: val_accuracy did not improve from 0.99322\n",
            "263/263 [==============================] - 3s 10ms/step - loss: 0.0039 - accuracy: 0.9992 - val_loss: 0.0241 - val_accuracy: 0.9917 - lr: 1.9075e-04\n",
            "\n",
            "Epoch 187: LearningRateScheduler setting learning rate to 0.00018781663516536837.\n",
            "Epoch 187/300\n",
            "261/263 [============================>.] - ETA: 0s - loss: 0.0103 - accuracy: 0.9966\n",
            "Epoch 187: val_accuracy did not improve from 0.99322\n",
            "263/263 [==============================] - 4s 14ms/step - loss: 0.0103 - accuracy: 0.9966 - val_loss: 0.0222 - val_accuracy: 0.9927 - lr: 1.8782e-04\n",
            "\n",
            "Epoch 188: LearningRateScheduler setting learning rate to 0.00018490024419272197.\n",
            "Epoch 188/300\n",
            "258/263 [============================>.] - ETA: 0s - loss: 0.0045 - accuracy: 0.9989\n",
            "Epoch 188: val_accuracy did not improve from 0.99322\n",
            "263/263 [==============================] - 2s 9ms/step - loss: 0.0045 - accuracy: 0.9989 - val_loss: 0.0262 - val_accuracy: 0.9912 - lr: 1.8490e-04\n",
            "\n",
            "Epoch 189: LearningRateScheduler setting learning rate to 0.00018199656529355795.\n",
            "Epoch 189/300\n",
            "260/263 [============================>.] - ETA: 0s - loss: 0.0061 - accuracy: 0.9984\n",
            "Epoch 189: val_accuracy did not improve from 0.99322\n",
            "263/263 [==============================] - 2s 9ms/step - loss: 0.0060 - accuracy: 0.9984 - val_loss: 0.0202 - val_accuracy: 0.9929 - lr: 1.8200e-04\n",
            "\n",
            "Epoch 190: LearningRateScheduler setting learning rate to 0.00017910591902243803.\n",
            "Epoch 190/300\n",
            "258/263 [============================>.] - ETA: 0s - loss: 0.0034 - accuracy: 0.9992\n",
            "Epoch 190: val_accuracy did not improve from 0.99322\n",
            "263/263 [==============================] - 2s 9ms/step - loss: 0.0034 - accuracy: 0.9992 - val_loss: 0.0192 - val_accuracy: 0.9932 - lr: 1.7911e-04\n",
            "\n",
            "Epoch 191: LearningRateScheduler setting learning rate to 0.0001762286244951741.\n",
            "Epoch 191/300\n",
            "257/263 [============================>.] - ETA: 0s - loss: 0.0055 - accuracy: 0.9986\n",
            "Epoch 191: val_accuracy did not improve from 0.99322\n",
            "263/263 [==============================] - 3s 10ms/step - loss: 0.0055 - accuracy: 0.9986 - val_loss: 0.0211 - val_accuracy: 0.9931 - lr: 1.7623e-04\n",
            "\n",
            "Epoch 192: LearningRateScheduler setting learning rate to 0.00017336499935359889.\n",
            "Epoch 192/300\n",
            "262/263 [============================>.] - ETA: 0s - loss: 0.0126 - accuracy: 0.9956\n",
            "Epoch 192: val_accuracy did not improve from 0.99322\n",
            "263/263 [==============================] - 3s 13ms/step - loss: 0.0126 - accuracy: 0.9956 - val_loss: 0.0238 - val_accuracy: 0.9913 - lr: 1.7336e-04\n",
            "\n",
            "Epoch 193: LearningRateScheduler setting learning rate to 0.00017051535973049926.\n",
            "Epoch 193/300\n",
            "262/263 [============================>.] - ETA: 0s - loss: 0.0031 - accuracy: 0.9996\n",
            "Epoch 193: val_accuracy did not improve from 0.99322\n",
            "263/263 [==============================] - 3s 10ms/step - loss: 0.0031 - accuracy: 0.9996 - val_loss: 0.0191 - val_accuracy: 0.9923 - lr: 1.7052e-04\n",
            "\n",
            "Epoch 194: LearningRateScheduler setting learning rate to 0.00016768002021471686.\n",
            "Epoch 194/300\n",
            "260/263 [============================>.] - ETA: 0s - loss: 0.0027 - accuracy: 0.9995\n",
            "Epoch 194: val_accuracy improved from 0.99322 to 0.99349, saving model to /content/drive/MyDrive/m_p/MLP/HyperMixer/Hissar_sentinel2/Without Pearson correlation/Trained models/75% ps_9\n"
          ]
        },
        {
          "output_type": "stream",
          "name": "stderr",
          "text": [
            "WARNING:absl:Found untraced functions such as layer_normalization_layer_call_fn, layer_normalization_layer_call_and_return_conditional_losses, layer_normalization_1_layer_call_fn, layer_normalization_1_layer_call_and_return_conditional_losses, mlp_layer_call_fn while saving (showing 5 of 30). These functions will not be directly callable after loading.\n"
          ]
        },
        {
          "output_type": "stream",
          "name": "stdout",
          "text": [
            "\b\b\b\b\b\b\b\b\b\b\b\b\b\b\b\b\b\b\b\b\b\b\b\b\b\b\b\b\b\b\b\b\b\b\b\b\b\b\b\b\b\b\b\b\b\b\b\b\b\b\b\b\b\b\b\b\b\b\b\b\b\b\b\b\b\b\b\b\b\b\b\b\b\b\b\b\b\b\b\b\b\b\b\b\r263/263 [==============================] - 5s 18ms/step - loss: 0.0027 - accuracy: 0.9996 - val_loss: 0.0175 - val_accuracy: 0.9935 - lr: 1.6768e-04\n",
            "\n",
            "Epoch 195: LearningRateScheduler setting learning rate to 0.0001648592938164184.\n",
            "Epoch 195/300\n",
            "256/263 [============================>.] - ETA: 0s - loss: 0.0026 - accuracy: 0.9995\n",
            "Epoch 195: val_accuracy did not improve from 0.99349\n",
            "263/263 [==============================] - 2s 9ms/step - loss: 0.0026 - accuracy: 0.9995 - val_loss: 0.0173 - val_accuracy: 0.9934 - lr: 1.6486e-04\n",
            "\n",
            "Epoch 196: LearningRateScheduler setting learning rate to 0.00016205349193254093.\n",
            "Epoch 196/300\n",
            "262/263 [============================>.] - ETA: 0s - loss: 0.0024 - accuracy: 0.9996\n",
            "Epoch 196: val_accuracy improved from 0.99349 to 0.99366, saving model to /content/drive/MyDrive/m_p/MLP/HyperMixer/Hissar_sentinel2/Without Pearson correlation/Trained models/75% ps_9\n"
          ]
        },
        {
          "output_type": "stream",
          "name": "stderr",
          "text": [
            "WARNING:absl:Found untraced functions such as layer_normalization_layer_call_fn, layer_normalization_layer_call_and_return_conditional_losses, layer_normalization_1_layer_call_fn, layer_normalization_1_layer_call_and_return_conditional_losses, mlp_layer_call_fn while saving (showing 5 of 30). These functions will not be directly callable after loading.\n"
          ]
        },
        {
          "output_type": "stream",
          "name": "stdout",
          "text": [
            "\b\b\b\b\b\b\b\b\b\b\b\b\b\b\b\b\b\b\b\b\b\b\b\b\b\b\b\b\b\b\b\b\b\b\b\b\b\b\b\b\b\b\b\b\b\b\b\b\b\b\b\b\b\b\b\b\b\b\b\b\b\b\b\b\b\b\b\b\b\b\b\b\b\b\b\b\b\b\b\b\b\b\b\b\r263/263 [==============================] - 6s 22ms/step - loss: 0.0024 - accuracy: 0.9996 - val_loss: 0.0169 - val_accuracy: 0.9937 - lr: 1.6205e-04\n",
            "\n",
            "Epoch 197: LearningRateScheduler setting learning rate to 0.00015926292431241452.\n",
            "Epoch 197/300\n",
            "258/263 [============================>.] - ETA: 0s - loss: 0.0029 - accuracy: 0.9993\n",
            "Epoch 197: val_accuracy did not improve from 0.99366\n",
            "263/263 [==============================] - 2s 9ms/step - loss: 0.0029 - accuracy: 0.9993 - val_loss: 0.0190 - val_accuracy: 0.9935 - lr: 1.5926e-04\n",
            "\n",
            "Epoch 198: LearningRateScheduler setting learning rate to 0.00015648789902356747.\n",
            "Epoch 198/300\n",
            "256/263 [============================>.] - ETA: 0s - loss: 0.0063 - accuracy: 0.9981\n",
            "Epoch 198: val_accuracy did not improve from 0.99366\n",
            "263/263 [==============================] - 3s 10ms/step - loss: 0.0063 - accuracy: 0.9981 - val_loss: 0.0211 - val_accuracy: 0.9928 - lr: 1.5649e-04\n",
            "\n",
            "Epoch 199: LearningRateScheduler setting learning rate to 0.00015372872241771634.\n",
            "Epoch 199/300\n",
            "262/263 [============================>.] - ETA: 0s - loss: 0.0069 - accuracy: 0.9980\n",
            "Epoch 199: val_accuracy improved from 0.99366 to 0.99447, saving model to /content/drive/MyDrive/m_p/MLP/HyperMixer/Hissar_sentinel2/Without Pearson correlation/Trained models/75% ps_9\n"
          ]
        },
        {
          "output_type": "stream",
          "name": "stderr",
          "text": [
            "WARNING:absl:Found untraced functions such as layer_normalization_layer_call_fn, layer_normalization_layer_call_and_return_conditional_losses, layer_normalization_1_layer_call_fn, layer_normalization_1_layer_call_and_return_conditional_losses, mlp_layer_call_fn while saving (showing 5 of 30). These functions will not be directly callable after loading.\n"
          ]
        },
        {
          "output_type": "stream",
          "name": "stdout",
          "text": [
            "\b\b\b\b\b\b\b\b\b\b\b\b\b\b\b\b\b\b\b\b\b\b\b\b\b\b\b\b\b\b\b\b\b\b\b\b\b\b\b\b\b\b\b\b\b\b\b\b\b\b\b\b\b\b\b\b\b\b\b\b\b\b\b\b\b\b\b\b\b\b\b\b\b\b\b\b\b\b\b\b\b\b\b\b\r263/263 [==============================] - 5s 20ms/step - loss: 0.0069 - accuracy: 0.9980 - val_loss: 0.0184 - val_accuracy: 0.9945 - lr: 1.5373e-04\n",
            "\n",
            "Epoch 200: LearningRateScheduler setting learning rate to 0.0001509856990969469.\n",
            "Epoch 200/300\n",
            "261/263 [============================>.] - ETA: 0s - loss: 0.0025 - accuracy: 0.9996\n",
            "Epoch 200: val_accuracy did not improve from 0.99447\n",
            "263/263 [==============================] - 3s 11ms/step - loss: 0.0025 - accuracy: 0.9996 - val_loss: 0.0200 - val_accuracy: 0.9928 - lr: 1.5099e-04\n",
            "\n",
            "Epoch 201: LearningRateScheduler setting learning rate to 0.00014825913188008636.\n",
            "Epoch 201/300\n",
            "258/263 [============================>.] - ETA: 0s - loss: 0.0035 - accuracy: 0.9992\n",
            "Epoch 201: val_accuracy improved from 0.99447 to 0.99456, saving model to /content/drive/MyDrive/m_p/MLP/HyperMixer/Hissar_sentinel2/Without Pearson correlation/Trained models/75% ps_9\n"
          ]
        },
        {
          "output_type": "stream",
          "name": "stderr",
          "text": [
            "WARNING:absl:Found untraced functions such as layer_normalization_layer_call_fn, layer_normalization_layer_call_and_return_conditional_losses, layer_normalization_1_layer_call_fn, layer_normalization_1_layer_call_and_return_conditional_losses, mlp_layer_call_fn while saving (showing 5 of 30). These functions will not be directly callable after loading.\n"
          ]
        },
        {
          "output_type": "stream",
          "name": "stdout",
          "text": [
            "\b\b\b\b\b\b\b\b\b\b\b\b\b\b\b\b\b\b\b\b\b\b\b\b\b\b\b\b\b\b\b\b\b\b\b\b\b\b\b\b\b\b\b\b\b\b\b\b\b\b\b\b\b\b\b\b\b\b\b\b\b\b\b\b\b\b\b\b\b\b\b\b\b\b\b\b\b\b\b\b\b\b\b\b\r263/263 [==============================] - 4s 17ms/step - loss: 0.0035 - accuracy: 0.9992 - val_loss: 0.0166 - val_accuracy: 0.9946 - lr: 1.4826e-04\n",
            "\n",
            "Epoch 202: LearningRateScheduler setting learning rate to 0.00014554932176927388.\n",
            "Epoch 202/300\n",
            "257/263 [============================>.] - ETA: 0s - loss: 0.0045 - accuracy: 0.9990\n",
            "Epoch 202: val_accuracy did not improve from 0.99456\n",
            "263/263 [==============================] - 3s 10ms/step - loss: 0.0048 - accuracy: 0.9988 - val_loss: 0.0427 - val_accuracy: 0.9861 - lr: 1.4555e-04\n",
            "\n",
            "Epoch 203: LearningRateScheduler setting learning rate to 0.00014285656791673083.\n",
            "Epoch 203/300\n",
            "259/263 [============================>.] - ETA: 0s - loss: 0.0044 - accuracy: 0.9989\n",
            "Epoch 203: val_accuracy did not improve from 0.99456\n",
            "263/263 [==============================] - 3s 11ms/step - loss: 0.0044 - accuracy: 0.9989 - val_loss: 0.0194 - val_accuracy: 0.9927 - lr: 1.4286e-04\n",
            "\n",
            "Epoch 204: LearningRateScheduler setting learning rate to 0.000140181167591736.\n",
            "Epoch 204/300\n",
            "262/263 [============================>.] - ETA: 0s - loss: 0.0031 - accuracy: 0.9992\n",
            "Epoch 204: val_accuracy did not improve from 0.99456\n",
            "263/263 [==============================] - 3s 13ms/step - loss: 0.0031 - accuracy: 0.9992 - val_loss: 0.0233 - val_accuracy: 0.9919 - lr: 1.4018e-04\n",
            "\n",
            "Epoch 205: LearningRateScheduler setting learning rate to 0.00013752341614780764.\n",
            "Epoch 205/300\n",
            "262/263 [============================>.] - ETA: 0s - loss: 0.0029 - accuracy: 0.9994\n",
            "Epoch 205: val_accuracy did not improve from 0.99456\n",
            "263/263 [==============================] - 2s 9ms/step - loss: 0.0029 - accuracy: 0.9994 - val_loss: 0.0191 - val_accuracy: 0.9938 - lr: 1.3752e-04\n",
            "\n",
            "Epoch 206: LearningRateScheduler setting learning rate to 0.00013488360699009824.\n",
            "Epoch 206/300\n",
            "257/263 [============================>.] - ETA: 0s - loss: 0.0027 - accuracy: 0.9993\n",
            "Epoch 206: val_accuracy did not improve from 0.99456\n",
            "263/263 [==============================] - 3s 11ms/step - loss: 0.0027 - accuracy: 0.9993 - val_loss: 0.0273 - val_accuracy: 0.9909 - lr: 1.3488e-04\n",
            "\n",
            "Epoch 207: LearningRateScheduler setting learning rate to 0.00013226203154300339.\n",
            "Epoch 207/300\n",
            "257/263 [============================>.] - ETA: 0s - loss: 0.0034 - accuracy: 0.9993\n",
            "Epoch 207: val_accuracy did not improve from 0.99456\n",
            "263/263 [==============================] - 3s 9ms/step - loss: 0.0034 - accuracy: 0.9993 - val_loss: 0.0236 - val_accuracy: 0.9905 - lr: 1.3226e-04\n",
            "\n",
            "Epoch 208: LearningRateScheduler setting learning rate to 0.00012965897921798984.\n",
            "Epoch 208/300\n",
            "258/263 [============================>.] - ETA: 0s - loss: 0.0028 - accuracy: 0.9995\n",
            "Epoch 208: val_accuracy did not improve from 0.99456\n",
            "263/263 [==============================] - 3s 12ms/step - loss: 0.0029 - accuracy: 0.9995 - val_loss: 0.0231 - val_accuracy: 0.9927 - lr: 1.2966e-04\n",
            "\n",
            "Epoch 209: LearningRateScheduler setting learning rate to 0.0001270747373816455.\n",
            "Epoch 209/300\n",
            "259/263 [============================>.] - ETA: 0s - loss: 0.0043 - accuracy: 0.9991\n",
            "Epoch 209: val_accuracy did not improve from 0.99456\n",
            "263/263 [==============================] - 3s 11ms/step - loss: 0.0043 - accuracy: 0.9990 - val_loss: 0.0280 - val_accuracy: 0.9917 - lr: 1.2707e-04\n",
            "\n",
            "Epoch 210: LearningRateScheduler setting learning rate to 0.00012450959132395583.\n",
            "Epoch 210/300\n",
            "258/263 [============================>.] - ETA: 0s - loss: 0.0115 - accuracy: 0.9962\n",
            "Epoch 210: val_accuracy did not improve from 0.99456\n",
            "263/263 [==============================] - 2s 9ms/step - loss: 0.0113 - accuracy: 0.9963 - val_loss: 0.0195 - val_accuracy: 0.9927 - lr: 1.2451e-04\n",
            "\n",
            "Epoch 211: LearningRateScheduler setting learning rate to 0.00012196382422680776.\n",
            "Epoch 211/300\n",
            "258/263 [============================>.] - ETA: 0s - loss: 0.0019 - accuracy: 0.9997\n",
            "Epoch 211: val_accuracy did not improve from 0.99456\n",
            "263/263 [==============================] - 2s 9ms/step - loss: 0.0019 - accuracy: 0.9997 - val_loss: 0.0151 - val_accuracy: 0.9945 - lr: 1.2196e-04\n",
            "\n",
            "Epoch 212: LearningRateScheduler setting learning rate to 0.00011943771713272893.\n",
            "Epoch 212/300\n",
            "261/263 [============================>.] - ETA: 0s - loss: 0.0014 - accuracy: 0.9999\n",
            "Epoch 212: val_accuracy improved from 0.99456 to 0.99465, saving model to /content/drive/MyDrive/m_p/MLP/HyperMixer/Hissar_sentinel2/Without Pearson correlation/Trained models/75% ps_9\n"
          ]
        },
        {
          "output_type": "stream",
          "name": "stderr",
          "text": [
            "WARNING:absl:Found untraced functions such as layer_normalization_layer_call_fn, layer_normalization_layer_call_and_return_conditional_losses, layer_normalization_1_layer_call_fn, layer_normalization_1_layer_call_and_return_conditional_losses, mlp_layer_call_fn while saving (showing 5 of 30). These functions will not be directly callable after loading.\n"
          ]
        },
        {
          "output_type": "stream",
          "name": "stdout",
          "text": [
            "\b\b\b\b\b\b\b\b\b\b\b\b\b\b\b\b\b\b\b\b\b\b\b\b\b\b\b\b\b\b\b\b\b\b\b\b\b\b\b\b\b\b\b\b\b\b\b\b\b\b\b\b\b\b\b\b\b\b\b\b\b\b\b\b\b\b\b\b\b\b\b\b\b\b\b\b\b\b\b\b\b\b\b\b\r263/263 [==============================] - 6s 21ms/step - loss: 0.0014 - accuracy: 0.9999 - val_loss: 0.0151 - val_accuracy: 0.9946 - lr: 1.1944e-04\n",
            "\n",
            "Epoch 213: LearningRateScheduler setting learning rate to 0.00011693154891386087.\n",
            "Epoch 213/300\n",
            "257/263 [============================>.] - ETA: 0s - loss: 0.0013 - accuracy: 0.9999\n",
            "Epoch 213: val_accuracy improved from 0.99465 to 0.99482, saving model to /content/drive/MyDrive/m_p/MLP/HyperMixer/Hissar_sentinel2/Without Pearson correlation/Trained models/75% ps_9\n"
          ]
        },
        {
          "output_type": "stream",
          "name": "stderr",
          "text": [
            "WARNING:absl:Found untraced functions such as layer_normalization_layer_call_fn, layer_normalization_layer_call_and_return_conditional_losses, layer_normalization_1_layer_call_fn, layer_normalization_1_layer_call_and_return_conditional_losses, mlp_layer_call_fn while saving (showing 5 of 30). These functions will not be directly callable after loading.\n"
          ]
        },
        {
          "output_type": "stream",
          "name": "stdout",
          "text": [
            "\b\b\b\b\b\b\b\b\b\b\b\b\b\b\b\b\b\b\b\b\b\b\b\b\b\b\b\b\b\b\b\b\b\b\b\b\b\b\b\b\b\b\b\b\b\b\b\b\b\b\b\b\b\b\b\b\b\b\b\b\b\b\b\b\b\b\b\b\b\b\b\b\b\b\b\b\b\b\b\b\b\b\b\b\r263/263 [==============================] - 5s 19ms/step - loss: 0.0013 - accuracy: 0.9999 - val_loss: 0.0147 - val_accuracy: 0.9948 - lr: 1.1693e-04\n",
            "\n",
            "Epoch 214: LearningRateScheduler setting learning rate to 0.00011444559624117294.\n",
            "Epoch 214/300\n",
            "261/263 [============================>.] - ETA: 0s - loss: 0.0017 - accuracy: 0.9997\n",
            "Epoch 214: val_accuracy did not improve from 0.99482\n",
            "263/263 [==============================] - 3s 10ms/step - loss: 0.0017 - accuracy: 0.9997 - val_loss: 0.0184 - val_accuracy: 0.9932 - lr: 1.1445e-04\n",
            "\n",
            "Epoch 215: LearningRateScheduler setting learning rate to 0.00011198013355391879.\n",
            "Epoch 215/300\n",
            "258/263 [============================>.] - ETA: 0s - loss: 0.0020 - accuracy: 0.9997\n",
            "Epoch 215: val_accuracy did not improve from 0.99482\n",
            "263/263 [==============================] - 2s 9ms/step - loss: 0.0020 - accuracy: 0.9997 - val_loss: 0.0192 - val_accuracy: 0.9930 - lr: 1.1198e-04\n",
            "\n",
            "Epoch 216: LearningRateScheduler setting learning rate to 0.00010953543302933971.\n",
            "Epoch 216/300\n",
            "260/263 [============================>.] - ETA: 0s - loss: 0.0026 - accuracy: 0.9995\n",
            "Epoch 216: val_accuracy did not improve from 0.99482\n",
            "263/263 [==============================] - 3s 11ms/step - loss: 0.0026 - accuracy: 0.9995 - val_loss: 0.0244 - val_accuracy: 0.9929 - lr: 1.0954e-04\n",
            "\n",
            "Epoch 217: LearningRateScheduler setting learning rate to 0.00010711176455261658.\n",
            "Epoch 217/300\n",
            "257/263 [============================>.] - ETA: 0s - loss: 0.0016 - accuracy: 0.9997\n",
            "Epoch 217: val_accuracy did not improve from 0.99482\n",
            "263/263 [==============================] - 3s 12ms/step - loss: 0.0016 - accuracy: 0.9997 - val_loss: 0.0152 - val_accuracy: 0.9943 - lr: 1.0711e-04\n",
            "\n",
            "Epoch 218: LearningRateScheduler setting learning rate to 0.00010470939568707663.\n",
            "Epoch 218/300\n",
            "263/263 [==============================] - ETA: 0s - loss: 0.0017 - accuracy: 0.9997\n",
            "Epoch 218: val_accuracy did not improve from 0.99482\n",
            "263/263 [==============================] - 2s 9ms/step - loss: 0.0017 - accuracy: 0.9997 - val_loss: 0.0234 - val_accuracy: 0.9913 - lr: 1.0471e-04\n",
            "\n",
            "Epoch 219: LearningRateScheduler setting learning rate to 0.0001023285916446548.\n",
            "Epoch 219/300\n",
            "262/263 [============================>.] - ETA: 0s - loss: 0.0021 - accuracy: 0.9996\n",
            "Epoch 219: val_accuracy did not improve from 0.99482\n",
            "263/263 [==============================] - 3s 11ms/step - loss: 0.0021 - accuracy: 0.9996 - val_loss: 0.0286 - val_accuracy: 0.9902 - lr: 1.0233e-04\n",
            "\n",
            "Epoch 220: LearningRateScheduler setting learning rate to 9.996961525661564e-05.\n",
            "Epoch 220/300\n",
            "257/263 [============================>.] - ETA: 0s - loss: 0.0034 - accuracy: 0.9992\n",
            "Epoch 220: val_accuracy did not improve from 0.99482\n",
            "263/263 [==============================] - 2s 9ms/step - loss: 0.0034 - accuracy: 0.9992 - val_loss: 0.0158 - val_accuracy: 0.9946 - lr: 9.9970e-05\n",
            "\n",
            "Epoch 221: LearningRateScheduler setting learning rate to 9.763272694453784e-05.\n",
            "Epoch 221/300\n",
            "262/263 [============================>.] - ETA: 0s - loss: 0.0011 - accuracy: 0.9999\n",
            "Epoch 221: val_accuracy did not improve from 0.99482\n",
            "263/263 [==============================] - 3s 11ms/step - loss: 0.0011 - accuracy: 0.9999 - val_loss: 0.0152 - val_accuracy: 0.9945 - lr: 9.7633e-05\n",
            "\n",
            "Epoch 222: LearningRateScheduler setting learning rate to 9.531818469156476e-05.\n",
            "Epoch 222/300\n",
            "259/263 [============================>.] - ETA: 0s - loss: 0.0016 - accuracy: 0.9997\n",
            "Epoch 222: val_accuracy did not improve from 0.99482\n",
            "263/263 [==============================] - 3s 13ms/step - loss: 0.0016 - accuracy: 0.9997 - val_loss: 0.0177 - val_accuracy: 0.9936 - lr: 9.5318e-05\n",
            "\n",
            "Epoch 223: LearningRateScheduler setting learning rate to 9.302624401392356e-05.\n",
            "Epoch 223/300\n",
            "263/263 [==============================] - ETA: 0s - loss: 0.0013 - accuracy: 0.9999\n",
            "Epoch 223: val_accuracy did not improve from 0.99482\n",
            "263/263 [==============================] - 3s 10ms/step - loss: 0.0013 - accuracy: 0.9999 - val_loss: 0.0155 - val_accuracy: 0.9945 - lr: 9.3026e-05\n",
            "\n",
            "Epoch 224: LearningRateScheduler setting learning rate to 9.075715793271816e-05.\n",
            "Epoch 224/300\n",
            "260/263 [============================>.] - ETA: 0s - loss: 0.0014 - accuracy: 0.9998\n",
            "Epoch 224: val_accuracy did not improve from 0.99482\n",
            "263/263 [==============================] - 2s 9ms/step - loss: 0.0014 - accuracy: 0.9998 - val_loss: 0.0152 - val_accuracy: 0.9944 - lr: 9.0757e-05\n",
            "\n",
            "Epoch 225: LearningRateScheduler setting learning rate to 8.8511176945996e-05.\n",
            "Epoch 225/300\n",
            "263/263 [==============================] - ETA: 0s - loss: 9.5195e-04 - accuracy: 1.0000\n",
            "Epoch 225: val_accuracy did not improve from 0.99482\n",
            "263/263 [==============================] - 2s 9ms/step - loss: 9.5195e-04 - accuracy: 1.0000 - val_loss: 0.0146 - val_accuracy: 0.9945 - lr: 8.8511e-05\n",
            "\n",
            "Epoch 226: LearningRateScheduler setting learning rate to 8.628854900109449e-05.\n",
            "Epoch 226/300\n",
            "260/263 [============================>.] - ETA: 0s - loss: 0.0024 - accuracy: 0.9995\n",
            "Epoch 226: val_accuracy did not improve from 0.99482\n",
            "263/263 [==============================] - 3s 11ms/step - loss: 0.0024 - accuracy: 0.9995 - val_loss: 0.0470 - val_accuracy: 0.9855 - lr: 8.6289e-05\n",
            "\n",
            "Epoch 227: LearningRateScheduler setting learning rate to 8.408951946726822e-05.\n",
            "Epoch 227/300\n",
            "262/263 [============================>.] - ETA: 0s - loss: 0.0080 - accuracy: 0.9975\n",
            "Epoch 227: val_accuracy did not improve from 0.99482\n",
            "263/263 [==============================] - 3s 12ms/step - loss: 0.0079 - accuracy: 0.9975 - val_loss: 0.0167 - val_accuracy: 0.9943 - lr: 8.4090e-05\n",
            "\n",
            "Epoch 228: LearningRateScheduler setting learning rate to 8.191433110860148e-05.\n",
            "Epoch 228/300\n",
            "259/263 [============================>.] - ETA: 0s - loss: 0.0012 - accuracy: 0.9999\n",
            "Epoch 228: val_accuracy did not improve from 0.99482\n",
            "263/263 [==============================] - 2s 9ms/step - loss: 0.0012 - accuracy: 0.9999 - val_loss: 0.0151 - val_accuracy: 0.9946 - lr: 8.1914e-05\n",
            "\n",
            "Epoch 229: LearningRateScheduler setting learning rate to 7.976322405720805e-05.\n",
            "Epoch 229/300\n",
            "263/263 [==============================] - ETA: 0s - loss: 8.8498e-04 - accuracy: 0.9999\n",
            "Epoch 229: val_accuracy did not improve from 0.99482\n",
            "263/263 [==============================] - 3s 10ms/step - loss: 8.8498e-04 - accuracy: 0.9999 - val_loss: 0.0146 - val_accuracy: 0.9948 - lr: 7.9763e-05\n",
            "\n",
            "Epoch 230: LearningRateScheduler setting learning rate to 7.763643578672126e-05.\n",
            "Epoch 230/300\n",
            "259/263 [============================>.] - ETA: 0s - loss: 7.9538e-04 - accuracy: 1.0000\n",
            "Epoch 230: val_accuracy did not improve from 0.99482\n",
            "263/263 [==============================] - 3s 10ms/step - loss: 7.9515e-04 - accuracy: 1.0000 - val_loss: 0.0145 - val_accuracy: 0.9948 - lr: 7.7636e-05\n",
            "\n",
            "Epoch 231: LearningRateScheduler setting learning rate to 7.55342010860782e-05.\n",
            "Epoch 231/300\n",
            "262/263 [============================>.] - ETA: 0s - loss: 7.7104e-04 - accuracy: 1.0000\n",
            "Epoch 231: val_accuracy did not improve from 0.99482\n",
            "263/263 [==============================] - 3s 11ms/step - loss: 7.6920e-04 - accuracy: 1.0000 - val_loss: 0.0144 - val_accuracy: 0.9948 - lr: 7.5534e-05\n",
            "\n",
            "Epoch 232: LearningRateScheduler setting learning rate to 7.345675203360006e-05.\n",
            "Epoch 232/300\n",
            "260/263 [============================>.] - ETA: 0s - loss: 7.5018e-04 - accuracy: 1.0000\n",
            "Epoch 232: val_accuracy did not improve from 0.99482\n",
            "263/263 [==============================] - 3s 12ms/step - loss: 7.5258e-04 - accuracy: 1.0000 - val_loss: 0.0144 - val_accuracy: 0.9948 - lr: 7.3457e-05\n",
            "\n",
            "Epoch 233: LearningRateScheduler setting learning rate to 7.140431797137115e-05.\n",
            "Epoch 233/300\n",
            "262/263 [============================>.] - ETA: 0s - loss: 7.3978e-04 - accuracy: 1.0000\n",
            "Epoch 233: val_accuracy did not improve from 0.99482\n",
            "263/263 [==============================] - 2s 9ms/step - loss: 7.3804e-04 - accuracy: 1.0000 - val_loss: 0.0144 - val_accuracy: 0.9947 - lr: 7.1404e-05\n",
            "\n",
            "Epoch 234: LearningRateScheduler setting learning rate to 6.937712547992065e-05.\n",
            "Epoch 234/300\n",
            "260/263 [============================>.] - ETA: 0s - loss: 7.2338e-04 - accuracy: 1.0000\n",
            "Epoch 234: val_accuracy did not improve from 0.99482\n",
            "263/263 [==============================] - 2s 9ms/step - loss: 7.2619e-04 - accuracy: 1.0000 - val_loss: 0.0144 - val_accuracy: 0.9946 - lr: 6.9377e-05\n",
            "\n",
            "Epoch 235: LearningRateScheduler setting learning rate to 6.737539835320932e-05.\n",
            "Epoch 235/300\n",
            "260/263 [============================>.] - ETA: 0s - loss: 7.1669e-04 - accuracy: 1.0000\n",
            "Epoch 235: val_accuracy did not improve from 0.99482\n",
            "263/263 [==============================] - 2s 9ms/step - loss: 7.1953e-04 - accuracy: 1.0000 - val_loss: 0.0144 - val_accuracy: 0.9947 - lr: 6.7375e-05\n",
            "\n",
            "Epoch 236: LearningRateScheduler setting learning rate to 6.539935757392295e-05.\n",
            "Epoch 236/300\n",
            "261/263 [============================>.] - ETA: 0s - loss: 7.2585e-04 - accuracy: 1.0000\n",
            "Epoch 236: val_accuracy did not improve from 0.99482\n",
            "263/263 [==============================] - 3s 11ms/step - loss: 7.2242e-04 - accuracy: 1.0000 - val_loss: 0.0143 - val_accuracy: 0.9946 - lr: 6.5399e-05\n",
            "\n",
            "Epoch 237: LearningRateScheduler setting learning rate to 6.344922128907727e-05.\n",
            "Epoch 237/300\n",
            "262/263 [============================>.] - ETA: 0s - loss: 0.0017 - accuracy: 0.9996\n",
            "Epoch 237: val_accuracy did not improve from 0.99482\n",
            "263/263 [==============================] - 3s 13ms/step - loss: 0.0017 - accuracy: 0.9996 - val_loss: 0.0193 - val_accuracy: 0.9932 - lr: 6.3449e-05\n",
            "\n",
            "Epoch 238: LearningRateScheduler setting learning rate to 6.152520478593528e-05.\n",
            "Epoch 238/300\n",
            "263/263 [==============================] - ETA: 0s - loss: 0.0014 - accuracy: 0.9999\n",
            "Epoch 238: val_accuracy did not improve from 0.99482\n",
            "263/263 [==============================] - 2s 9ms/step - loss: 0.0014 - accuracy: 0.9999 - val_loss: 0.0151 - val_accuracy: 0.9946 - lr: 6.1525e-05\n",
            "\n",
            "Epoch 239: LearningRateScheduler setting learning rate to 5.962752046824018e-05.\n",
            "Epoch 239/300\n",
            "258/263 [============================>.] - ETA: 0s - loss: 6.8940e-04 - accuracy: 1.0000\n",
            "Epoch 239: val_accuracy did not improve from 0.99482\n",
            "263/263 [==============================] - 2s 9ms/step - loss: 6.8836e-04 - accuracy: 1.0000 - val_loss: 0.0146 - val_accuracy: 0.9946 - lr: 5.9628e-05\n",
            "\n",
            "Epoch 240: LearningRateScheduler setting learning rate to 5.775637783276709e-05.\n",
            "Epoch 240/300\n",
            "259/263 [============================>.] - ETA: 0s - loss: 6.4761e-04 - accuracy: 1.0000\n",
            "Epoch 240: val_accuracy did not improve from 0.99482\n",
            "263/263 [==============================] - 3s 10ms/step - loss: 6.4756e-04 - accuracy: 1.0000 - val_loss: 0.0146 - val_accuracy: 0.9947 - lr: 5.7756e-05\n",
            "\n",
            "Epoch 241: LearningRateScheduler setting learning rate to 5.591198344619526e-05.\n",
            "Epoch 241/300\n",
            "262/263 [============================>.] - ETA: 0s - loss: 6.3367e-04 - accuracy: 1.0000\n",
            "Epoch 241: val_accuracy did not improve from 0.99482\n",
            "263/263 [==============================] - 3s 11ms/step - loss: 6.3218e-04 - accuracy: 1.0000 - val_loss: 0.0146 - val_accuracy: 0.9948 - lr: 5.5912e-05\n",
            "\n",
            "Epoch 242: LearningRateScheduler setting learning rate to 5.409454092230411e-05.\n",
            "Epoch 242/300\n",
            "262/263 [============================>.] - ETA: 0s - loss: 6.2271e-04 - accuracy: 1.0000\n",
            "Epoch 242: val_accuracy did not improve from 0.99482\n",
            "263/263 [==============================] - 3s 13ms/step - loss: 6.2125e-04 - accuracy: 1.0000 - val_loss: 0.0145 - val_accuracy: 0.9948 - lr: 5.4095e-05\n",
            "\n",
            "Epoch 243: LearningRateScheduler setting learning rate to 5.230425089949485e-05.\n",
            "Epoch 243/300\n",
            "260/263 [============================>.] - ETA: 0s - loss: 6.1148e-04 - accuracy: 1.0000\n",
            "Epoch 243: val_accuracy did not improve from 0.99482\n",
            "263/263 [==============================] - 3s 10ms/step - loss: 6.1302e-04 - accuracy: 1.0000 - val_loss: 0.0146 - val_accuracy: 0.9946 - lr: 5.2304e-05\n",
            "\n",
            "Epoch 244: LearningRateScheduler setting learning rate to 5.054131101864105e-05.\n",
            "Epoch 244/300\n",
            "263/263 [==============================] - ETA: 0s - loss: 6.0794e-04 - accuracy: 1.0000\n",
            "Epoch 244: val_accuracy did not improve from 0.99482\n",
            "263/263 [==============================] - 3s 9ms/step - loss: 6.0794e-04 - accuracy: 1.0000 - val_loss: 0.0146 - val_accuracy: 0.9946 - lr: 5.0541e-05\n",
            "\n",
            "Epoch 245: LearningRateScheduler setting learning rate to 4.88059159012697e-05.\n",
            "Epoch 245/300\n",
            "260/263 [============================>.] - ETA: 0s - loss: 6.0273e-04 - accuracy: 1.0000\n",
            "Epoch 245: val_accuracy did not improve from 0.99482\n",
            "263/263 [==============================] - 3s 10ms/step - loss: 6.0428e-04 - accuracy: 1.0000 - val_loss: 0.0146 - val_accuracy: 0.9946 - lr: 4.8806e-05\n",
            "\n",
            "Epoch 246: LearningRateScheduler setting learning rate to 4.709825712807587e-05.\n",
            "Epoch 246/300\n",
            "263/263 [==============================] - ETA: 0s - loss: 5.9985e-04 - accuracy: 1.0000\n",
            "Epoch 246: val_accuracy did not improve from 0.99482\n",
            "263/263 [==============================] - 3s 11ms/step - loss: 5.9985e-04 - accuracy: 1.0000 - val_loss: 0.0147 - val_accuracy: 0.9946 - lr: 4.7098e-05\n",
            "\n",
            "Epoch 247: LearningRateScheduler setting learning rate to 4.541852321777297e-05.\n",
            "Epoch 247/300\n",
            "261/263 [============================>.] - ETA: 0s - loss: 5.9440e-04 - accuracy: 1.0000\n",
            "Epoch 247: val_accuracy did not improve from 0.99482\n",
            "263/263 [==============================] - 3s 13ms/step - loss: 5.9150e-04 - accuracy: 1.0000 - val_loss: 0.0147 - val_accuracy: 0.9946 - lr: 4.5419e-05\n",
            "\n",
            "Epoch 248: LearningRateScheduler setting learning rate to 4.376689960628082e-05.\n",
            "Epoch 248/300\n",
            "259/263 [============================>.] - ETA: 0s - loss: 5.7610e-04 - accuracy: 1.0000\n",
            "Epoch 248: val_accuracy did not improve from 0.99482\n",
            "263/263 [==============================] - 3s 10ms/step - loss: 5.7627e-04 - accuracy: 1.0000 - val_loss: 0.0148 - val_accuracy: 0.9946 - lr: 4.3767e-05\n",
            "\n",
            "Epoch 249: LearningRateScheduler setting learning rate to 4.214356862625458e-05.\n",
            "Epoch 249/300\n",
            "258/263 [============================>.] - ETA: 0s - loss: 5.5602e-04 - accuracy: 1.0000\n",
            "Epoch 249: val_accuracy did not improve from 0.99482\n",
            "263/263 [==============================] - 3s 11ms/step - loss: 5.5612e-04 - accuracy: 1.0000 - val_loss: 0.0148 - val_accuracy: 0.9946 - lr: 4.2144e-05\n",
            "\n",
            "Epoch 250: LearningRateScheduler setting learning rate to 4.054870948695579e-05.\n",
            "Epoch 250/300\n",
            "257/263 [============================>.] - ETA: 0s - loss: 5.3441e-04 - accuracy: 1.0000\n",
            "Epoch 250: val_accuracy did not improve from 0.99482\n",
            "263/263 [==============================] - 2s 9ms/step - loss: 5.3312e-04 - accuracy: 1.0000 - val_loss: 0.0147 - val_accuracy: 0.9947 - lr: 4.0549e-05\n",
            "\n",
            "Epoch 251: LearningRateScheduler setting learning rate to 3.898249825446844e-05.\n",
            "Epoch 251/300\n",
            "263/263 [==============================] - ETA: 0s - loss: 5.1367e-04 - accuracy: 1.0000\n",
            "Epoch 251: val_accuracy did not improve from 0.99482\n",
            "263/263 [==============================] - 3s 11ms/step - loss: 5.1367e-04 - accuracy: 1.0000 - val_loss: 0.0147 - val_accuracy: 0.9948 - lr: 3.8982e-05\n",
            "\n",
            "Epoch 252: LearningRateScheduler setting learning rate to 3.744510783226178e-05.\n",
            "Epoch 252/300\n",
            "260/263 [============================>.] - ETA: 0s - loss: 4.9442e-04 - accuracy: 1.0000\n",
            "Epoch 252: val_accuracy improved from 0.99482 to 0.99491, saving model to /content/drive/MyDrive/m_p/MLP/HyperMixer/Hissar_sentinel2/Without Pearson correlation/Trained models/75% ps_9\n"
          ]
        },
        {
          "output_type": "stream",
          "name": "stderr",
          "text": [
            "WARNING:absl:Found untraced functions such as layer_normalization_layer_call_fn, layer_normalization_layer_call_and_return_conditional_losses, layer_normalization_1_layer_call_fn, layer_normalization_1_layer_call_and_return_conditional_losses, mlp_layer_call_fn while saving (showing 5 of 30). These functions will not be directly callable after loading.\n"
          ]
        },
        {
          "output_type": "stream",
          "name": "stdout",
          "text": [
            "\b\b\b\b\b\b\b\b\b\b\b\b\b\b\b\b\b\b\b\b\b\b\b\b\b\b\b\b\b\b\b\b\b\b\b\b\b\b\b\b\b\b\b\b\b\b\b\b\b\b\b\b\b\b\b\b\b\b\b\b\b\b\b\b\b\b\b\b\b\b\b\b\b\b\b\b\b\b\b\b\b\b\b\b\b\b\b\b\r263/263 [==============================] - 5s 20ms/step - loss: 4.9552e-04 - accuracy: 1.0000 - val_loss: 0.0146 - val_accuracy: 0.9949 - lr: 3.7445e-05\n",
            "\n",
            "Epoch 253: LearningRateScheduler setting learning rate to 3.593670794210297e-05.\n",
            "Epoch 253/300\n",
            "257/263 [============================>.] - ETA: 0s - loss: 4.7901e-04 - accuracy: 1.0000\n",
            "Epoch 253: val_accuracy improved from 0.99491 to 0.99500, saving model to /content/drive/MyDrive/m_p/MLP/HyperMixer/Hissar_sentinel2/Without Pearson correlation/Trained models/75% ps_9\n"
          ]
        },
        {
          "output_type": "stream",
          "name": "stderr",
          "text": [
            "WARNING:absl:Found untraced functions such as layer_normalization_layer_call_fn, layer_normalization_layer_call_and_return_conditional_losses, layer_normalization_1_layer_call_fn, layer_normalization_1_layer_call_and_return_conditional_losses, mlp_layer_call_fn while saving (showing 5 of 30). These functions will not be directly callable after loading.\n"
          ]
        },
        {
          "output_type": "stream",
          "name": "stdout",
          "text": [
            "\b\b\b\b\b\b\b\b\b\b\b\b\b\b\b\b\b\b\b\b\b\b\b\b\b\b\b\b\b\b\b\b\b\b\b\b\b\b\b\b\b\b\b\b\b\b\b\b\b\b\b\b\b\b\b\b\b\b\b\b\b\b\b\b\b\b\b\b\b\b\b\b\b\b\b\b\b\b\b\b\b\b\b\b\b\b\b\b\r263/263 [==============================] - 5s 19ms/step - loss: 4.7816e-04 - accuracy: 1.0000 - val_loss: 0.0146 - val_accuracy: 0.9950 - lr: 3.5937e-05\n",
            "\n",
            "Epoch 254: LearningRateScheduler setting learning rate to 3.445746510531972e-05.\n",
            "Epoch 254/300\n",
            "261/263 [============================>.] - ETA: 0s - loss: 4.6383e-04 - accuracy: 1.0000\n",
            "Epoch 254: val_accuracy did not improve from 0.99500\n",
            "263/263 [==============================] - 3s 10ms/step - loss: 4.6157e-04 - accuracy: 1.0000 - val_loss: 0.0146 - val_accuracy: 0.9947 - lr: 3.4457e-05\n",
            "\n",
            "Epoch 255: LearningRateScheduler setting learning rate to 3.300754262441765e-05.\n",
            "Epoch 255/300\n",
            "260/263 [============================>.] - ETA: 0s - loss: 4.4448e-04 - accuracy: 1.0000\n",
            "Epoch 255: val_accuracy did not improve from 0.99500\n",
            "263/263 [==============================] - 4s 14ms/step - loss: 4.4565e-04 - accuracy: 1.0000 - val_loss: 0.0145 - val_accuracy: 0.9948 - lr: 3.3008e-05\n",
            "\n",
            "Epoch 256: LearningRateScheduler setting learning rate to 3.158710056505207e-05.\n",
            "Epoch 256/300\n",
            "260/263 [============================>.] - ETA: 0s - loss: 4.2938e-04 - accuracy: 1.0000\n",
            "Epoch 256: val_accuracy did not improve from 0.99500\n",
            "263/263 [==============================] - 2s 9ms/step - loss: 4.3053e-04 - accuracy: 1.0000 - val_loss: 0.0145 - val_accuracy: 0.9948 - lr: 3.1587e-05\n",
            "\n",
            "Epoch 257: LearningRateScheduler setting learning rate to 3.0196295738357374e-05.\n",
            "Epoch 257/300\n",
            "259/263 [============================>.] - ETA: 0s - loss: 4.1609e-04 - accuracy: 1.0000\n",
            "Epoch 257: val_accuracy did not improve from 0.99500\n",
            "263/263 [==============================] - 2s 9ms/step - loss: 4.1640e-04 - accuracy: 1.0000 - val_loss: 0.0145 - val_accuracy: 0.9948 - lr: 3.0196e-05\n",
            "\n",
            "Epoch 258: LearningRateScheduler setting learning rate to 2.8835281683635768e-05.\n",
            "Epoch 258/300\n",
            "261/263 [============================>.] - ETA: 0s - loss: 4.0530e-04 - accuracy: 1.0000\n",
            "Epoch 258: val_accuracy did not improve from 0.99500\n",
            "263/263 [==============================] - 3s 10ms/step - loss: 4.0335e-04 - accuracy: 1.0000 - val_loss: 0.0145 - val_accuracy: 0.9947 - lr: 2.8835e-05\n",
            "\n",
            "Epoch 259: LearningRateScheduler setting learning rate to 2.750420865140718e-05.\n",
            "Epoch 259/300\n",
            "257/263 [============================>.] - ETA: 0s - loss: 3.9193e-04 - accuracy: 1.0000\n",
            "Epoch 259: val_accuracy did not improve from 0.99500\n",
            "263/263 [==============================] - 2s 9ms/step - loss: 3.9135e-04 - accuracy: 1.0000 - val_loss: 0.0145 - val_accuracy: 0.9948 - lr: 2.7504e-05\n",
            "\n",
            "Epoch 260: LearningRateScheduler setting learning rate to 2.6203223586822115e-05.\n",
            "Epoch 260/300\n",
            "260/263 [============================>.] - ETA: 0s - loss: 3.7931e-04 - accuracy: 1.0000\n",
            "Epoch 260: val_accuracy did not improve from 0.99500\n",
            "263/263 [==============================] - 4s 14ms/step - loss: 3.8031e-04 - accuracy: 1.0000 - val_loss: 0.0144 - val_accuracy: 0.9947 - lr: 2.6203e-05\n",
            "\n",
            "Epoch 261: LearningRateScheduler setting learning rate to 2.4932470113439423e-05.\n",
            "Epoch 261/300\n",
            "262/263 [============================>.] - ETA: 0s - loss: 3.7109e-04 - accuracy: 1.0000\n",
            "Epoch 261: val_accuracy did not improve from 0.99500\n",
            "263/263 [==============================] - 2s 9ms/step - loss: 3.7021e-04 - accuracy: 1.0000 - val_loss: 0.0144 - val_accuracy: 0.9947 - lr: 2.4932e-05\n",
            "\n",
            "Epoch 262: LearningRateScheduler setting learning rate to 2.369208851737104e-05.\n",
            "Epoch 262/300\n",
            "258/263 [============================>.] - ETA: 0s - loss: 3.6038e-04 - accuracy: 1.0000\n",
            "Epoch 262: val_accuracy did not improve from 0.99500\n",
            "263/263 [==============================] - 2s 9ms/step - loss: 3.6102e-04 - accuracy: 1.0000 - val_loss: 0.0144 - val_accuracy: 0.9947 - lr: 2.3692e-05\n",
            "\n",
            "Epoch 263: LearningRateScheduler setting learning rate to 2.2482215731794874e-05.\n",
            "Epoch 263/300\n",
            "261/263 [============================>.] - ETA: 0s - loss: 3.5425e-04 - accuracy: 1.0000\n",
            "Epoch 263: val_accuracy did not improve from 0.99500\n",
            "263/263 [==============================] - 2s 9ms/step - loss: 3.5266e-04 - accuracy: 1.0000 - val_loss: 0.0144 - val_accuracy: 0.9946 - lr: 2.2482e-05\n",
            "\n",
            "Epoch 264: LearningRateScheduler setting learning rate to 2.1302985321837905e-05.\n",
            "Epoch 264/300\n",
            "257/263 [============================>.] - ETA: 0s - loss: 3.4513e-04 - accuracy: 1.0000\n",
            "Epoch 264: val_accuracy did not improve from 0.99500\n",
            "263/263 [==============================] - 3s 10ms/step - loss: 3.4504e-04 - accuracy: 1.0000 - val_loss: 0.0144 - val_accuracy: 0.9946 - lr: 2.1303e-05\n",
            "\n",
            "Epoch 265: LearningRateScheduler setting learning rate to 2.015452746983115e-05.\n",
            "Epoch 265/300\n",
            "262/263 [============================>.] - ETA: 0s - loss: 3.3881e-04 - accuracy: 1.0000\n",
            "Epoch 265: val_accuracy did not improve from 0.99500\n",
            "263/263 [==============================] - 4s 14ms/step - loss: 3.3800e-04 - accuracy: 1.0000 - val_loss: 0.0144 - val_accuracy: 0.9947 - lr: 2.0155e-05\n",
            "\n",
            "Epoch 266: LearningRateScheduler setting learning rate to 1.903696896093802e-05.\n",
            "Epoch 266/300\n",
            "261/263 [============================>.] - ETA: 0s - loss: 3.3274e-04 - accuracy: 1.0000\n",
            "Epoch 266: val_accuracy did not improve from 0.99500\n",
            "263/263 [==============================] - 3s 10ms/step - loss: 3.3141e-04 - accuracy: 1.0000 - val_loss: 0.0144 - val_accuracy: 0.9947 - lr: 1.9037e-05\n",
            "\n",
            "Epoch 267: LearningRateScheduler setting learning rate to 1.795043316915766e-05.\n",
            "Epoch 267/300\n",
            "261/263 [============================>.] - ETA: 0s - loss: 3.2628e-04 - accuracy: 1.0000\n",
            "Epoch 267: val_accuracy did not improve from 0.99500\n",
            "263/263 [==============================] - 3s 10ms/step - loss: 3.2505e-04 - accuracy: 1.0000 - val_loss: 0.0144 - val_accuracy: 0.9946 - lr: 1.7950e-05\n",
            "\n",
            "Epoch 268: LearningRateScheduler setting learning rate to 1.6895040043705195e-05.\n",
            "Epoch 268/300\n",
            "258/263 [============================>.] - ETA: 0s - loss: 3.1691e-04 - accuracy: 1.0000\n",
            "Epoch 268: val_accuracy did not improve from 0.99500\n",
            "263/263 [==============================] - 3s 10ms/step - loss: 3.1875e-04 - accuracy: 1.0000 - val_loss: 0.0145 - val_accuracy: 0.9946 - lr: 1.6895e-05\n",
            "\n",
            "Epoch 269: LearningRateScheduler setting learning rate to 1.5870906095769686e-05.\n",
            "Epoch 269/300\n",
            "260/263 [============================>.] - ETA: 0s - loss: 3.1053e-04 - accuracy: 1.0000\n",
            "Epoch 269: val_accuracy did not improve from 0.99500\n",
            "263/263 [==============================] - 3s 10ms/step - loss: 3.1238e-04 - accuracy: 1.0000 - val_loss: 0.0146 - val_accuracy: 0.9946 - lr: 1.5871e-05\n",
            "\n",
            "Epoch 270: LearningRateScheduler setting learning rate to 1.4878144385651624e-05.\n",
            "Epoch 270/300\n",
            "260/263 [============================>.] - ETA: 0s - loss: 3.0405e-04 - accuracy: 1.0000\n",
            "Epoch 270: val_accuracy did not improve from 0.99500\n",
            "263/263 [==============================] - 3s 13ms/step - loss: 3.0602e-04 - accuracy: 1.0000 - val_loss: 0.0147 - val_accuracy: 0.9946 - lr: 1.4878e-05\n",
            "\n",
            "Epoch 271: LearningRateScheduler setting learning rate to 1.3916864510281789e-05.\n",
            "Epoch 271/300\n",
            "257/263 [============================>.] - ETA: 0s - loss: 2.9812e-04 - accuracy: 1.0000\n",
            "Epoch 271: val_accuracy did not improve from 0.99500\n",
            "263/263 [==============================] - 3s 10ms/step - loss: 2.9984e-04 - accuracy: 1.0000 - val_loss: 0.0148 - val_accuracy: 0.9943 - lr: 1.3917e-05\n",
            "\n",
            "Epoch 272: LearningRateScheduler setting learning rate to 1.2987172591121956e-05.\n",
            "Epoch 272/300\n",
            "257/263 [============================>.] - ETA: 0s - loss: 2.9217e-04 - accuracy: 1.0000\n",
            "Epoch 272: val_accuracy did not improve from 0.99500\n",
            "263/263 [==============================] - 3s 11ms/step - loss: 2.9410e-04 - accuracy: 1.0000 - val_loss: 0.0149 - val_accuracy: 0.9943 - lr: 1.2987e-05\n",
            "\n",
            "Epoch 273: LearningRateScheduler setting learning rate to 1.2089171262449622e-05.\n",
            "Epoch 273/300\n",
            "261/263 [============================>.] - ETA: 0s - loss: 2.8978e-04 - accuracy: 1.0000\n",
            "Epoch 273: val_accuracy did not improve from 0.99500\n",
            "263/263 [==============================] - 3s 10ms/step - loss: 2.8895e-04 - accuracy: 1.0000 - val_loss: 0.0151 - val_accuracy: 0.9941 - lr: 1.2089e-05\n",
            "\n",
            "Epoch 274: LearningRateScheduler setting learning rate to 1.1222959660027617e-05.\n",
            "Epoch 274/300\n",
            "262/263 [============================>.] - ETA: 0s - loss: 2.8511e-04 - accuracy: 1.0000\n",
            "Epoch 274: val_accuracy did not improve from 0.99500\n",
            "263/263 [==============================] - 3s 11ms/step - loss: 2.8443e-04 - accuracy: 1.0000 - val_loss: 0.0152 - val_accuracy: 0.9942 - lr: 1.1223e-05\n",
            "\n",
            "Epoch 275: LearningRateScheduler setting learning rate to 1.038863341015976e-05.\n",
            "Epoch 275/300\n",
            "260/263 [============================>.] - ETA: 0s - loss: 2.7860e-04 - accuracy: 1.0000\n",
            "Epoch 275: val_accuracy did not improve from 0.99500\n",
            "263/263 [==============================] - 3s 12ms/step - loss: 2.8052e-04 - accuracy: 1.0000 - val_loss: 0.0154 - val_accuracy: 0.9943 - lr: 1.0389e-05\n",
            "\n",
            "Epoch 276: LearningRateScheduler setting learning rate to 9.586284619134321e-06.\n",
            "Epoch 276/300\n",
            "260/263 [============================>.] - ETA: 0s - loss: 2.7528e-04 - accuracy: 1.0000\n",
            "Epoch 276: val_accuracy did not improve from 0.99500\n",
            "263/263 [==============================] - 2s 9ms/step - loss: 2.7714e-04 - accuracy: 1.0000 - val_loss: 0.0155 - val_accuracy: 0.9943 - lr: 9.5863e-06\n",
            "\n",
            "Epoch 277: LearningRateScheduler setting learning rate to 8.8160018630557e-06.\n",
            "Epoch 277/300\n",
            "262/263 [============================>.] - ETA: 0s - loss: 2.7490e-04 - accuracy: 1.0000\n",
            "Epoch 277: val_accuracy did not improve from 0.99500\n",
            "263/263 [==============================] - 2s 9ms/step - loss: 2.7425e-04 - accuracy: 1.0000 - val_loss: 0.0157 - val_accuracy: 0.9942 - lr: 8.8160e-06\n",
            "\n",
            "Epoch 278: LearningRateScheduler setting learning rate to 8.077870178065964e-06.\n",
            "Epoch 278/300\n",
            "261/263 [============================>.] - ETA: 0s - loss: 2.7270e-04 - accuracy: 1.0000\n",
            "Epoch 278: val_accuracy did not improve from 0.99500\n",
            "263/263 [==============================] - 3s 10ms/step - loss: 2.7182e-04 - accuracy: 1.0000 - val_loss: 0.0158 - val_accuracy: 0.9941 - lr: 8.0779e-06\n",
            "\n",
            "Epoch 279: LearningRateScheduler setting learning rate to 7.3719710509572325e-06.\n",
            "Epoch 279/300\n",
            "262/263 [============================>.] - ETA: 0s - loss: 2.7054e-04 - accuracy: 1.0000\n",
            "Epoch 279: val_accuracy did not improve from 0.99500\n",
            "263/263 [==============================] - 3s 12ms/step - loss: 2.6989e-04 - accuracy: 1.0000 - val_loss: 0.0159 - val_accuracy: 0.9942 - lr: 7.3720e-06\n",
            "\n",
            "Epoch 280: LearningRateScheduler setting learning rate to 6.698382410175972e-06.\n",
            "Epoch 280/300\n",
            "257/263 [============================>.] - ETA: 0s - loss: 2.6640e-04 - accuracy: 1.0000\n",
            "Epoch 280: val_accuracy did not improve from 0.99500\n",
            "263/263 [==============================] - 3s 13ms/step - loss: 2.6850e-04 - accuracy: 1.0000 - val_loss: 0.0160 - val_accuracy: 0.9942 - lr: 6.6984e-06\n",
            "\n",
            "Epoch 281: LearningRateScheduler setting learning rate to 6.057178617219843e-06.\n",
            "Epoch 281/300\n",
            "257/263 [============================>.] - ETA: 0s - loss: 2.6589e-04 - accuracy: 1.0000\n",
            "Epoch 281: val_accuracy did not improve from 0.99500\n",
            "263/263 [==============================] - 2s 9ms/step - loss: 2.6764e-04 - accuracy: 1.0000 - val_loss: 0.0160 - val_accuracy: 0.9942 - lr: 6.0572e-06\n",
            "\n",
            "Epoch 282: LearningRateScheduler setting learning rate to 5.4484304584285745e-06.\n",
            "Epoch 282/300\n",
            "261/263 [============================>.] - ETA: 0s - loss: 2.6827e-04 - accuracy: 1.0000\n",
            "Epoch 282: val_accuracy did not improve from 0.99500\n",
            "263/263 [==============================] - 2s 9ms/step - loss: 2.6725e-04 - accuracy: 1.0000 - val_loss: 0.0160 - val_accuracy: 0.9942 - lr: 5.4484e-06\n",
            "\n",
            "Epoch 283: LearningRateScheduler setting learning rate to 4.87220513716938e-06.\n",
            "Epoch 283/300\n",
            "258/263 [============================>.] - ETA: 0s - loss: 2.6567e-04 - accuracy: 1.0000\n",
            "Epoch 283: val_accuracy did not improve from 0.99500\n",
            "263/263 [==============================] - 3s 10ms/step - loss: 2.6717e-04 - accuracy: 1.0000 - val_loss: 0.0159 - val_accuracy: 0.9942 - lr: 4.8722e-06\n",
            "\n",
            "Epoch 284: LearningRateScheduler setting learning rate to 4.328566266418036e-06.\n",
            "Epoch 284/300\n",
            "261/263 [============================>.] - ETA: 0s - loss: 2.6834e-04 - accuracy: 1.0000\n",
            "Epoch 284: val_accuracy did not improve from 0.99500\n",
            "263/263 [==============================] - 3s 12ms/step - loss: 2.6719e-04 - accuracy: 1.0000 - val_loss: 0.0157 - val_accuracy: 0.9943 - lr: 4.3286e-06\n",
            "\n",
            "Epoch 285: LearningRateScheduler setting learning rate to 3.8175738617362305e-06.\n",
            "Epoch 285/300\n",
            "263/263 [==============================] - ETA: 0s - loss: 2.6702e-04 - accuracy: 1.0000\n",
            "Epoch 285: val_accuracy did not improve from 0.99500\n",
            "263/263 [==============================] - 3s 12ms/step - loss: 2.6702e-04 - accuracy: 1.0000 - val_loss: 0.0155 - val_accuracy: 0.9943 - lr: 3.8176e-06\n",
            "\n",
            "Epoch 286: LearningRateScheduler setting learning rate to 3.339284334646109e-06.\n",
            "Epoch 286/300\n",
            "263/263 [==============================] - ETA: 0s - loss: 2.6646e-04 - accuracy: 1.0000\n",
            "Epoch 286: val_accuracy did not improve from 0.99500\n",
            "263/263 [==============================] - 2s 9ms/step - loss: 2.6646e-04 - accuracy: 1.0000 - val_loss: 0.0152 - val_accuracy: 0.9945 - lr: 3.3393e-06\n",
            "\n",
            "Epoch 287: LearningRateScheduler setting learning rate to 2.8937504864025896e-06.\n",
            "Epoch 287/300\n",
            "256/263 [============================>.] - ETA: 0s - loss: 2.6607e-04 - accuracy: 1.0000\n",
            "Epoch 287: val_accuracy did not improve from 0.99500\n",
            "263/263 [==============================] - 3s 10ms/step - loss: 2.6544e-04 - accuracy: 1.0000 - val_loss: 0.0150 - val_accuracy: 0.9946 - lr: 2.8938e-06\n",
            "\n",
            "Epoch 288: LearningRateScheduler setting learning rate to 2.481021502164433e-06.\n",
            "Epoch 288/300\n",
            "257/263 [============================>.] - ETA: 0s - loss: 2.6527e-04 - accuracy: 1.0000\n",
            "Epoch 288: val_accuracy did not improve from 0.99500\n",
            "263/263 [==============================] - 3s 10ms/step - loss: 2.6399e-04 - accuracy: 1.0000 - val_loss: 0.0148 - val_accuracy: 0.9947 - lr: 2.4810e-06\n",
            "\n",
            "Epoch 289: LearningRateScheduler setting learning rate to 2.1011429455642933e-06.\n",
            "Epoch 289/300\n",
            "260/263 [============================>.] - ETA: 0s - loss: 2.6253e-04 - accuracy: 1.0000\n",
            "Epoch 289: val_accuracy did not improve from 0.99500\n",
            "263/263 [==============================] - 3s 13ms/step - loss: 2.6218e-04 - accuracy: 1.0000 - val_loss: 0.0146 - val_accuracy: 0.9947 - lr: 2.1011e-06\n",
            "\n",
            "Epoch 290: LearningRateScheduler setting learning rate to 1.7541567536787442e-06.\n",
            "Epoch 290/300\n",
            "261/263 [============================>.] - ETA: 0s - loss: 2.6140e-04 - accuracy: 1.0000\n",
            "Epoch 290: val_accuracy did not improve from 0.99500\n",
            "263/263 [==============================] - 3s 12ms/step - loss: 2.6010e-04 - accuracy: 1.0000 - val_loss: 0.0145 - val_accuracy: 0.9946 - lr: 1.7542e-06\n",
            "\n",
            "Epoch 291: LearningRateScheduler setting learning rate to 1.4401012323985589e-06.\n",
            "Epoch 291/300\n",
            "259/263 [============================>.] - ETA: 0s - loss: 2.5849e-04 - accuracy: 1.0000\n",
            "Epoch 291: val_accuracy did not improve from 0.99500\n",
            "263/263 [==============================] - 3s 10ms/step - loss: 2.5784e-04 - accuracy: 1.0000 - val_loss: 0.0143 - val_accuracy: 0.9946 - lr: 1.4401e-06\n",
            "\n",
            "Epoch 292: LearningRateScheduler setting learning rate to 1.1590110521999278e-06.\n",
            "Epoch 292/300\n",
            "261/263 [============================>.] - ETA: 0s - loss: 2.5681e-04 - accuracy: 1.0000\n",
            "Epoch 292: val_accuracy did not improve from 0.99500\n",
            "263/263 [==============================] - 3s 10ms/step - loss: 2.5552e-04 - accuracy: 1.0000 - val_loss: 0.0143 - val_accuracy: 0.9946 - lr: 1.1590e-06\n",
            "\n",
            "Epoch 293: LearningRateScheduler setting learning rate to 9.109172443168618e-07.\n",
            "Epoch 293/300\n",
            "257/263 [============================>.] - ETA: 0s - loss: 2.5475e-04 - accuracy: 1.0000\n",
            "Epoch 293: val_accuracy did not improve from 0.99500\n",
            "263/263 [==============================] - 3s 11ms/step - loss: 2.5326e-04 - accuracy: 1.0000 - val_loss: 0.0142 - val_accuracy: 0.9946 - lr: 9.1092e-07\n",
            "\n",
            "Epoch 294: LearningRateScheduler setting learning rate to 6.958471973156679e-07.\n",
            "Epoch 294/300\n",
            "262/263 [============================>.] - ETA: 0s - loss: 2.5177e-04 - accuracy: 1.0000\n",
            "Epoch 294: val_accuracy did not improve from 0.99500\n",
            "263/263 [==============================] - 4s 14ms/step - loss: 2.5116e-04 - accuracy: 1.0000 - val_loss: 0.0142 - val_accuracy: 0.9946 - lr: 6.9585e-07\n",
            "\n",
            "Epoch 295: LearningRateScheduler setting learning rate to 5.138246540711409e-07.\n",
            "Epoch 295/300\n",
            "259/263 [============================>.] - ETA: 0s - loss: 2.4984e-04 - accuracy: 1.0000\n",
            "Epoch 295: val_accuracy did not improve from 0.99500\n",
            "263/263 [==============================] - 3s 10ms/step - loss: 2.4930e-04 - accuracy: 1.0000 - val_loss: 0.0142 - val_accuracy: 0.9946 - lr: 5.1382e-07\n",
            "\n",
            "Epoch 296: LearningRateScheduler setting learning rate to 3.648697091456972e-07.\n",
            "Epoch 296/300\n",
            "260/263 [============================>.] - ETA: 0s - loss: 2.4830e-04 - accuracy: 1.0000\n",
            "Epoch 296: val_accuracy did not improve from 0.99500\n",
            "263/263 [==============================] - 3s 10ms/step - loss: 2.4772e-04 - accuracy: 1.0000 - val_loss: 0.0142 - val_accuracy: 0.9946 - lr: 3.6487e-07\n",
            "\n",
            "Epoch 297: LearningRateScheduler setting learning rate to 2.4899880657071823e-07.\n",
            "Epoch 297/300\n",
            "261/263 [============================>.] - ETA: 0s - loss: 2.4770e-04 - accuracy: 1.0000\n",
            "Epoch 297: val_accuracy did not improve from 0.99500\n",
            "263/263 [==============================] - 3s 10ms/step - loss: 2.4647e-04 - accuracy: 1.0000 - val_loss: 0.0142 - val_accuracy: 0.9946 - lr: 2.4900e-07\n",
            "\n",
            "Epoch 298: LearningRateScheduler setting learning rate to 1.662247380314399e-07.\n",
            "Epoch 298/300\n",
            "260/263 [============================>.] - ETA: 0s - loss: 2.4611e-04 - accuracy: 1.0000\n",
            "Epoch 298: val_accuracy did not improve from 0.99500\n",
            "263/263 [==============================] - 3s 11ms/step - loss: 2.4554e-04 - accuracy: 1.0000 - val_loss: 0.0142 - val_accuracy: 0.9946 - lr: 1.6622e-07\n",
            "\n",
            "Epoch 299: LearningRateScheduler setting learning rate to 1.1655664145465062e-07.\n",
            "Epoch 299/300\n",
            "261/263 [============================>.] - ETA: 0s - loss: 2.4617e-04 - accuracy: 1.0000\n",
            "Epoch 299: val_accuracy did not improve from 0.99500\n",
            "263/263 [==============================] - 4s 14ms/step - loss: 2.4494e-04 - accuracy: 1.0000 - val_loss: 0.0142 - val_accuracy: 0.9946 - lr: 1.1656e-07\n",
            "\n",
            "Epoch 300: LearningRateScheduler setting learning rate to 1e-07.\n",
            "Epoch 300/300\n",
            "261/263 [============================>.] - ETA: 0s - loss: 2.4591e-04 - accuracy: 1.0000\n",
            "Epoch 300: val_accuracy did not improve from 0.99500\n",
            "263/263 [==============================] - 3s 10ms/step - loss: 2.4468e-04 - accuracy: 1.0000 - val_loss: 0.0141 - val_accuracy: 0.9946 - lr: 1.0000e-07\n",
            "total training time:  1044.7413833141327\n"
          ]
        }
      ],
      "source": [
        "# history = model.fit(train_dataset, validation_data = (test_dataset), validation_freq = 1, batch_size = 32, callbacks=callbacks_list, shuffle = False, epochs=epochs)\n",
        "start_time = time.time()\n",
        "history = model.fit(x_train, y_train, validation_data = (x_test, y_test), validation_freq = 1, batch_size = BATCH_SIZE, callbacks=callbacks_list, shuffle = False, \n",
        "                    epochs=epoch, use_multiprocessing=True)\n",
        "end_time = time.time()\n",
        "tt = end_time - start_time\n",
        "print(\"total training time: \", tt)"
      ]
    },
    {
      "cell_type": "code",
      "execution_count": null,
      "metadata": {
        "id": "9xwenk8yIRk6",
        "colab": {
          "base_uri": "https://localhost:8080/"
        },
        "outputId": "770f07ab-76f9-421c-e946-35fd92e3e645"
      },
      "outputs": [
        {
          "output_type": "stream",
          "name": "stdout",
          "text": [
            "Total_params:  40008\n",
            "Trainable_params:  40008\n",
            "Non_trainable_params:  0\n"
          ]
        }
      ],
      "source": [
        "Trainable_params = 0\n",
        "for i in model.trainable_weights :\n",
        "    Trainable_params+= np.prod(i.shape)\n",
        "\n",
        "Non_trainable_params = 0\n",
        "for i in model.non_trainable_weights:\n",
        "    Non_trainable_params+= np.prod(i.shape)\n",
        "\n",
        "Total_params = Trainable_params + Non_trainable_params\n",
        "parameters_summary = [Total_params, Trainable_params, Non_trainable_params]\n",
        "\n",
        "print(\"Total_params: \", Total_params)\n",
        "print(\"Trainable_params: \", Trainable_params)\n",
        "print(\"Non_trainable_params: \", Non_trainable_params)"
      ]
    },
    {
      "cell_type": "code",
      "execution_count": null,
      "metadata": {
        "id": "pccUqSD2IpgO",
        "colab": {
          "base_uri": "https://localhost:8080/",
          "height": 499
        },
        "outputId": "9b8b0831-d9d0-451a-bb71-d450e397074c"
      },
      "outputs": [
        {
          "output_type": "display_data",
          "data": {
            "text/plain": [
              "<Figure size 1728x576 with 2 Axes>"
            ],
            "image/png": "[encoded data removed]"
          },
          "metadata": {
            "needs_background": "light"
          }
        }
      ],
      "source": [
        "plot_accuracy_loss_curve(history, use_pearson_corr = None, folder_path = None)"
      ]
    },
    {
      "cell_type": "code",
      "execution_count": null,
      "metadata": {
        "id": "4B2oLPe5Is5X",
        "colab": {
          "base_uri": "https://localhost:8080/"
        },
        "outputId": "f69d3102-5bb9-48f0-ca7d-c1471776527a"
      },
      "outputs": [
        {
          "output_type": "stream",
          "name": "stdout",
          "text": [
            "351/351 [==============================] - 2s 4ms/step\n"
          ]
        }
      ],
      "source": [
        "y_pred = predict(model, x_test)"
      ]
    },
    {
      "cell_type": "code",
      "execution_count": null,
      "metadata": {
        "id": "DHfWomFCJJjf",
        "colab": {
          "base_uri": "https://localhost:8080/",
          "height": 607
        },
        "outputId": "6f11032a-da53-4c09-d5b0-4f2322997dcf"
      },
      "outputs": [
        {
          "output_type": "display_data",
          "data": {
            "text/plain": [
              "<Figure size 1728x720 with 4 Axes>"
            ],
            "image/png": "[encoded data removed]"
          },
          "metadata": {
            "needs_background": "light"
          }
        }
      ],
      "source": [
        "performance_meausures(y_test, y_pred, tt, *parameters_summary, use_pearson_corr = None, folder_path = folder_path)"
      ]
    },
    {
      "cell_type": "code",
      "execution_count": null,
      "metadata": {
        "id": "SNT_FuGAJJmE"
      },
      "outputs": [],
      "source": [
        "for i in range(10):\n",
        "    gc.collect()"
      ]
    },
    {
      "cell_type": "code",
      "execution_count": null,
      "metadata": {
        "id": "gjNNE5ORJJrs",
        "colab": {
          "base_uri": "https://localhost:8080/"
        },
        "outputId": "d93eb75c-29f2-4caf-d7d2-85aa0b410499"
      },
      "outputs": [
        {
          "output_type": "stream",
          "name": "stdout",
          "text": [
            "\u001b[1m Confusion Matrix : \u001b[0m\n",
            "[[ 278    0    0    0    0    0    0    1]\n",
            " [   0  985    0    0    0    0    0    0]\n",
            " [   1    0 2026    1    3    0    2    7]\n",
            " [   0    0    0  165    0    0    1    0]\n",
            " [   1    0    7    0 1797    6    1    0]\n",
            " [   0    0    0    0    3  615    0   17]\n",
            " [   0    0    3    0    0    1 1012    2]\n",
            " [   1    0    1    0    1    1    0 4268]]\n",
            "\u001b[1m Report :  \u001b[0m\n",
            "              precision    recall  f1-score   support\n",
            "\n",
            "           0       0.99      1.00      0.99       279\n",
            "           1       1.00      1.00      1.00       985\n",
            "           2       0.99      0.99      0.99      2040\n",
            "           3       0.99      0.99      0.99       166\n",
            "           4       1.00      0.99      0.99      1812\n",
            "           5       0.99      0.97      0.98       635\n",
            "           6       1.00      0.99      1.00      1018\n",
            "           7       0.99      1.00      1.00      4272\n",
            "\n",
            "    accuracy                           0.99     11207\n",
            "   macro avg       0.99      0.99      0.99     11207\n",
            "weighted avg       0.99      0.99      0.99     11207\n",
            "\n",
            "\u001b[1m Accuracy Score : \u001b[0m 0.9945569733202463\n",
            "\u001b[1m Cohen_Kappa:  \u001b[0m 0.9929753433191043\n",
            "\u001b[1m Training Time: \u001b[0m 1044.7413833141327\n",
            "\u001b[1m Total_params:  \u001b[0m 40008\n",
            "\u001b[1m Trainable_params:  \u001b[0m 40008\n",
            "\u001b[1m Non_trainable_params:  \u001b[0m 0\n"
          ]
        }
      ],
      "source": [
        "if use_pearson_corr:\n",
        "    filepath1 = folder_path +\"Results/ \"+ str(train_percent)+\"% performance.txt\"\n",
        "else:\n",
        "    filepath1 = folder_path +\"Results/\"+ str(train_percent)+\"% performance300_ps_\"+str(P_S)+\".txt\"\n",
        "results = confusion_matrix(y_test,y_pred)\n",
        "report = classification_report(y_test, y_pred)\n",
        "accuracy = accuracy_score(y_test, y_pred)\n",
        "kappa = cohen_kappa_score(y_test, y_pred)\n",
        "print(\" \", file = open(filepath1, \"a\"))\n",
        "print(\"P_S = \", P_S, file = open(filepath1, \"a\"))\n",
        "print('Confusion Matrix :', file=open(filepath1,\"a\"))\n",
        "print(results, file=open(filepath1,\"a\"))\n",
        "\n",
        "print('Report : ', file=open(filepath1,\"a\"))\n",
        "print(report, file=open(filepath1,\"a\"))\n",
        "\n",
        "print('Accuracy Score :', accuracy, file=open(filepath1,\"a\")) \n",
        "print('Cohen_Kappa: ', kappa, file=open(filepath1,\"a\"))\n",
        "print('Training Time:', tt, file=open(filepath1,\"a\"))\n",
        "\n",
        "print(\"\\033[1m\", 'Confusion Matrix :', \"\\033[0m\")\n",
        "print(results) \n",
        "print(\"\\033[1m\", 'Report : ', \"\\033[0m\")\n",
        "print(report)\n",
        "print(\"\\033[1m\", 'Accuracy Score :', \"\\033[0m\", accuracy) \n",
        "print(\"\\033[1m\", 'Cohen_Kappa: ',  \"\\033[0m\", kappa)\n",
        "print(\"\\033[1m\", 'Training Time:', \"\\033[0m\", tt)\n",
        "print(\"\\033[1m\", \"Total_params: \", \"\\033[0m\", Total_params)\n",
        "print(\"\\033[1m\", \"Trainable_params: \", \"\\033[0m\", Trainable_params)\n",
        "print(\"\\033[1m\", \"Non_trainable_params: \", \"\\033[0m\", Non_trainable_params)"
      ]
    },
    {
      "cell_type": "code",
      "source": [
        "y_test = y_test.reshape(y_test.shape[0],1)\n",
        "y_pred = y_pred.reshape(y_pred.shape[0],1)\n",
        "y_pred = y_pred.astype(int)\n",
        "y_combined = np.concatenate((y_test,y_pred),axis=1)\n",
        "if use_pearson_corr:\n",
        "    img_path = folder_path +\"Results/with_corr_\"+str(train_percent)+\"%_hyper_mixer_ps\"+str(P_S)+\".csv\"\n",
        "else:\n",
        "    img_path = folder_path + \"Results/without_corr_\"+ str(train_percent) + \"%_hyper_mixer_ps_\" +str(P_S) + \".csv\"\n",
        " #filepath_1 = \"/content/drive/My Drive/m_p/CNN Models Comparitive Study/372 band/Simple Models/Results/\n",
        "np.savetxt(img_path, y_combined, delimiter=\",\")"
      ],
      "metadata": {
        "id": "JN-kVnvuqX5O"
      },
      "execution_count": null,
      "outputs": []
    },
    {
      "cell_type": "code",
      "execution_count": null,
      "metadata": {
        "id": "Q9WKJg2GJJt1"
      },
      "outputs": [],
      "source": [
        "y_hat = predict_image(model, padded_x, H, W, B, P_S)"
      ]
    },
    {
      "cell_type": "code",
      "execution_count": null,
      "metadata": {
        "id": "f5kS8RI1n7c7",
        "colab": {
          "base_uri": "https://localhost:8080/"
        },
        "outputId": "ed37392d-07c3-42d4-edff-1ca2f14fa35e"
      },
      "outputs": [
        {
          "output_type": "stream",
          "name": "stdout",
          "text": [
            "(array([1., 2., 3., 4., 5., 6., 7., 8.]), array([ 15767, 166563,  87566,  11921, 189580,  24307,  33567, 202837]))\n"
          ]
        }
      ],
      "source": [
        "y_hat = y_hat.reshape((H,W))\n",
        "a_c = np.unique(y_hat,return_counts=True)\n",
        "print(a_c)\n",
        "print(a_c,file=open(filepath1,\"a\"))"
      ]
    },
    {
      "cell_type": "code",
      "execution_count": null,
      "metadata": {
        "id": "28PuOuk_KDBP"
      },
      "outputs": [],
      "source": [
        "y_hat = y_hat.reshape((H,W))"
      ]
    },
    {
      "cell_type": "code",
      "execution_count": null,
      "metadata": {
        "id": "N7t3D7_VKDFc"
      },
      "outputs": [],
      "source": [
        "img_path = folder_path + \"Results/\" + str(train_percent) + \"% ps_\" +str(P_S) + \" predicted300_image\" + \".png\"\n",
        "spectral.save_rgb(img_path, y_hat, colors = spectral.spy_colors)\n",
        "spectral.save_rgb(\"available_image.png\", y, colors = spectral.spy_colors)"
      ]
    },
    {
      "cell_type": "code",
      "execution_count": null,
      "metadata": {
        "id": "zFy89rRtKDJt",
        "colab": {
          "base_uri": "https://localhost:8080/",
          "height": 354
        },
        "outputId": "813af163-e2ae-4d1d-d46c-9ea035011f4c"
      },
      "outputs": [
        {
          "output_type": "display_data",
          "data": {
            "text/plain": [
              "<Figure size 864x864 with 2 Axes>"
            ],
            "image/png": "[encoded data removed]"
          },
          "metadata": {
            "needs_background": "light"
          }
        }
      ],
      "source": [
        "img_path = folder_path + \"Results/\" + str(train_percent) + \"% ps_\" +str(P_S) + \" predicted_image\" + \".png\"\n",
        "fig, (ax1, ax2) = plt.subplots(nrows=1, ncols=2, sharex=True, sharey=True, figsize = (12, 12))\n",
        "img = plt.imread(img_path)\n",
        "ax1.imshow(plt.imread(img_path))\n",
        "ax1.set_title(\"image with ViT P_S = 9 with\")\n",
        "ax1.axis(\"off\")\n",
        "\n",
        "ax2.imshow(plt.imread(\"available_image.png\"))\n",
        "ax2.set_title(\"approximate rgb image\")\n",
        "ax2.axis(\"off\")\n",
        "\n",
        "plt.tight_layout(pad = 0, h_pad=0, w_pad=0.2)\n",
        "plt.show()"
      ]
    },
    {
      "cell_type": "code",
      "execution_count": null,
      "metadata": {
        "id": "AP7aYuMJKDN0"
      },
      "outputs": [],
      "source": []
    }
  ]
}